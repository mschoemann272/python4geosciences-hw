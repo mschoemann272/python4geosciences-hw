{
 "cells": [
  {
   "cell_type": "markdown",
   "metadata": {},
   "source": [
    "---\n",
    "**Overall Grade**\n",
    "\n",
    "36/69\n",
    "\n",
    "---"
   ]
  },
  {
   "cell_type": "code",
   "execution_count": 1,
   "metadata": {
    "collapsed": false
   },
   "outputs": [
    {
     "name": "stdout",
     "output_type": "stream",
     "text": [
      "{'hometown': 'Katy', 'taking_class': 'To learn how to program in python.', 'studentstatus': 'PhD Student, three years', 'department': 'Geography'}\n"
     ]
    }
   ],
   "source": [
    "# 1. Make a dictionary called your name, whose keys and values are your hometown, department, student status\n",
    "#(undergrad/grad and years in), and explanation of why you are taking this class.\n",
    "\n",
    "mackenzie = {\n",
    "    \"hometown\" : \"Katy\",\n",
    "    \"department\" : \"Geography\",\n",
    "    \"studentstatus\" : \"PhD Student, three years\",\n",
    "    \"taking_class\" : \"To learn how to program in python.\"\n",
    "}\n",
    "\n",
    "mackenzie.keys()\n",
    "mackenzie.values()\n",
    "\n",
    "print(mackenzie)"
   ]
  },
  {
   "cell_type": "code",
   "execution_count": 6,
   "metadata": {
    "collapsed": false
   },
   "outputs": [
    {
     "data": {
      "text/plain": [
       "dict_keys(['hometown', 'name'])"
      ]
     },
     "execution_count": 6,
     "metadata": {},
     "output_type": "execute_result"
    }
   ],
   "source": [
    "#notes for Monday 2/15\n",
    "student_1 = {'name':\"Joe\", 'hometown': 'Katy'}\n",
    "student_2 = {'name':\"Kenzie\", 'hometown': 'Omaha'}\n",
    "\n",
    "#everything is an object\n",
    "#no order to a dictonary\n",
    "#print the keys:\n",
    "student_1.keys()"
   ]
  },
  {
   "cell_type": "code",
   "execution_count": 9,
   "metadata": {
    "collapsed": false
   },
   "outputs": [
    {
     "name": "stdout",
     "output_type": "stream",
     "text": [
      "[{'hometown': 'Katy', 'name': 'Joe'}, {'hometown': 'Omaha', 'name': 'Kenzie'}]\n"
     ]
    }
   ],
   "source": [
    "students = [student_1, student_2]\n",
    "print(students)"
   ]
  },
  {
   "cell_type": "markdown",
   "metadata": {},
   "source": [
    "---\n",
    "**Grade**\n",
    "\n",
    "Grading rubric [2/2 points]:\n",
    "\n",
    "* [1/1 pt] Successfully created a dictionary\n",
    "* [1/1 pt] Properly defined all keys\n",
    "---"
   ]
  },
  {
   "cell_type": "code",
   "execution_count": 1,
   "metadata": {
    "collapsed": false
   },
   "outputs": [
    {
     "name": "stdout",
     "output_type": "stream",
     "text": [
      "true\n"
     ]
    }
   ],
   "source": [
    "# 2.Write a function that takes a character (i.e. a string of length 1) and returns True if it is a vowel,\n",
    "#False otherwise.\n",
    "\n",
    "vowel = ['a','e','i','o','u']\n",
    "\n",
    "def return_vowel(x):\n",
    "    if x in vowel:\n",
    "        print ('true')\n",
    "    else:\n",
    "        print ('false')\n",
    "return_vowel('a')"
   ]
  },
  {
   "cell_type": "code",
   "execution_count": 14,
   "metadata": {
    "collapsed": false
   },
   "outputs": [
    {
     "data": {
      "text/plain": [
       "False"
      ]
     },
     "execution_count": 14,
     "metadata": {},
     "output_type": "execute_result"
    }
   ],
   "source": [
    "vowel = ['a','e','i','o','u']\n",
    "\n",
    "def return_vowel(x):\n",
    "    if x in vowel:\n",
    "        return True\n",
    "    else:\n",
    "        return False\n",
    "return_vowel('m')"
   ]
  },
  {
   "cell_type": "code",
   "execution_count": 15,
   "metadata": {
    "collapsed": false
   },
   "outputs": [
    {
     "name": "stdout",
     "output_type": "stream",
     "text": [
      "Yes,\"a\" is a vowel.\n"
     ]
    }
   ],
   "source": [
    "def isVowel(s):\n",
    "    if s.lower() in ['a','e','i','o','u']:\n",
    "    # if s.upper() in ['A', 'E', 'I', 'O', 'U']:\n",
    "        return True\n",
    "    else:\n",
    "        return False\n",
    "    \n",
    "if isVowel('a'):\n",
    "    print('Yes,\"a\" is a vowel.')"
   ]
  },
  {
   "cell_type": "code",
   "execution_count": 11,
   "metadata": {
    "collapsed": false
   },
   "outputs": [
    {
     "ename": "AssertionError",
     "evalue": "",
     "output_type": "error",
     "traceback": [
      "\u001b[0;31m---------------------------------------------------------------------------\u001b[0m",
      "\u001b[0;31mAssertionError\u001b[0m                            Traceback (most recent call last)",
      "\u001b[0;32m<ipython-input-11-41d3f5f29a37>\u001b[0m in \u001b[0;36m<module>\u001b[0;34m()\u001b[0m\n\u001b[1;32m      1\u001b[0m \u001b[0;32massert\u001b[0m \u001b[0mreturn_vowel\u001b[0m\u001b[0;34m(\u001b[0m\u001b[0;34m'a'\u001b[0m\u001b[0;34m)\u001b[0m\u001b[0;34m\u001b[0m\u001b[0m\n\u001b[0;32m----> 2\u001b[0;31m \u001b[0;32massert\u001b[0m \u001b[0mreturn_vowel\u001b[0m\u001b[0;34m(\u001b[0m\u001b[0;34m'U'\u001b[0m\u001b[0;34m)\u001b[0m\u001b[0;34m\u001b[0m\u001b[0m\n\u001b[0m\u001b[1;32m      3\u001b[0m \u001b[0;32massert\u001b[0m \u001b[0;32mnot\u001b[0m \u001b[0mreturn_vowel\u001b[0m\u001b[0;34m(\u001b[0m\u001b[0;34m'm'\u001b[0m\u001b[0;34m)\u001b[0m\u001b[0;34m\u001b[0m\u001b[0m\n\u001b[1;32m      4\u001b[0m \u001b[0;32massert\u001b[0m \u001b[0;32mnot\u001b[0m \u001b[0mreturn_vowel\u001b[0m\u001b[0;34m(\u001b[0m\u001b[0;34m' '\u001b[0m\u001b[0;34m)\u001b[0m\u001b[0;34m\u001b[0m\u001b[0m\n",
      "\u001b[0;31mAssertionError\u001b[0m: "
     ]
    }
   ],
   "source": [
    "assert return_vowel('a')\n",
    "assert return_vowel('U')\n",
    "assert not return_vowel('m')\n",
    "assert not return_vowel(' ')"
   ]
  },
  {
   "cell_type": "markdown",
   "metadata": {},
   "source": [
    "---\n",
    "**Grade**\n",
    "\n",
    "Grading rubric [1/3 points]:\n",
    "\n",
    "* [1/1 pt] Is a function which takes in a character\n",
    "* [0/1 pt] Returns True or False: Your function prints a string that contains the words True or False, but True and False are of type boolean, not string. These are very different to a computer and in use, even though they look similar to a person. This solution doesn't return anything.\n",
    "* [0/1 pt] Passes all assertions: Your solution doesn't account for capital letters. You can use `lower` to do this in an easy way.\n",
    "---"
   ]
  },
  {
   "cell_type": "code",
   "execution_count": 3,
   "metadata": {
    "collapsed": false
   },
   "outputs": [
    {
     "name": "stdout",
     "output_type": "stream",
     "text": [
      "Length of the String is 9\n"
     ]
    }
   ],
   "source": [
    "#3.3. Define a function that computes the length of a given list or string.\n",
    "#(It is true that Python has the len() function built in, do not use it for your solution — use a loop instead.)\n",
    "\n",
    "numbers = ['1', '2', \"3\", '4', '15', '30', '27', '2', '7']\n",
    "\n",
    "def countStringLength(numbers):\n",
    " \"\"\" Fundtion to calculate the string length\"\"\"\n",
    "    count = 0\n",
    " \n",
    "    for i in numbers:\n",
    "         count = count+1\n",
    " \n",
    "print (\"Length of the String is \" +str(count))"
   ]
  },
  {
   "cell_type": "markdown",
   "metadata": {},
   "source": [
    "---\n",
    "**Grade**\n",
    "\n",
    "Grading rubric [2/4 points]:\n",
    "\n",
    "* [0/1 pt] Is a function: Your function is not set up properly: the lines below the function definition are not indented so are not actually in the function.\n",
    "* [0/1 pt] Returns an integer: Does not return a value but instead prints it\n",
    "* [1/1 pt] Can count for list (passes that assertion)\n",
    "* [1/1 pt] Can count for string (passes that assertion)\n",
    "\n",
    "Your solution isn't set up properly, though if it was, the logic itself would work. Note that the red text indicates improper indentation.\n",
    "\n",
    "---"
   ]
  },
  {
   "cell_type": "code",
   "execution_count": 4,
   "metadata": {
    "collapsed": false
   },
   "outputs": [
    {
     "name": "stdout",
     "output_type": "stream",
     "text": [
      "gnitset ma I\n"
     ]
    }
   ],
   "source": [
    "#4. Define a function reverse() that computes the reversal of a string. \n",
    "#For example, reverse(\"I am testing\") should return the string \"gnitset ma I\"\n",
    "\n",
    "s1 = 'I am testing'\n",
    "\n",
    "def reverse(s1):\n",
    "    length = len(s1)\n",
    "    reversed_string = ''\n",
    "    for i in range(0, length):\n",
    "        reversed_string += s1[length - i - 1]\n",
    "        \n",
    "    return reversed_string\n",
    "\n",
    "print(reverse(s1))"
   ]
  },
  {
   "cell_type": "code",
   "execution_count": 26,
   "metadata": {
    "collapsed": false
   },
   "outputs": [
    {
     "data": {
      "text/plain": [
       "'gnitset ma I'"
      ]
     },
     "execution_count": 26,
     "metadata": {},
     "output_type": "execute_result"
    }
   ],
   "source": [
    "'I am testing'[::-1]  #easy way to reverse the list, common syntax, if asked to reverse a string"
   ]
  },
  {
   "cell_type": "code",
   "execution_count": 27,
   "metadata": {
    "collapsed": false
   },
   "outputs": [
    {
     "data": {
      "text/plain": [
       "'tset a si sihT'"
      ]
     },
     "execution_count": 27,
     "metadata": {},
     "output_type": "execute_result"
    }
   ],
   "source": [
    "#make a function:\n",
    "\n",
    "def reverse(s1):\n",
    "    return s1[::-1]\n",
    "\n",
    "reverse('This is a test')"
   ]
  },
  {
   "cell_type": "code",
   "execution_count": 28,
   "metadata": {
    "collapsed": false
   },
   "outputs": [
    {
     "data": {
      "text/plain": [
       "'tset a si sihT'"
      ]
     },
     "execution_count": 28,
     "metadata": {},
     "output_type": "execute_result"
    }
   ],
   "source": [
    "#make a loop\n",
    "\n",
    "def reverse(s1):\n",
    "    sout = ''\n",
    "    for n in range(len(s1)):  #common construct, length of the list, put in s1[::-1] to iterate over the list\n",
    "        sout += s1[-(n+1)]\n",
    "    return sout\n",
    "\n",
    "reverse('This is a test')"
   ]
  },
  {
   "cell_type": "markdown",
   "metadata": {},
   "source": [
    "---\n",
    "**Grade**\n",
    "\n",
    "Grading rubric [3/3 points]:\n",
    "\n",
    "* [1/1 pt] Is a function\n",
    "* [1/1 pt] Takes in and returns a string\n",
    "* [1/1 pt] Reverses input string\n",
    "\n",
    "There's an easier way! See the solution.\n",
    "\n",
    "---"
   ]
  },
  {
   "cell_type": "code",
   "execution_count": 3,
   "metadata": {
    "collapsed": false
   },
   "outputs": [
    {
     "name": "stdout",
     "output_type": "stream",
     "text": [
      "True\n"
     ]
    }
   ],
   "source": [
    "# 5.Define a function is_palindrome() that recognizes palindromes \n",
    "#(i.e. words that look the same written backwards). For example, is_palindrome(\"radar\") should return True.\n",
    "#You can use your solution to #4 for solve this problem.\n",
    "\n",
    "s1 = 'radar'\n",
    "\n",
    "def reverse(s1):\n",
    "    foo = s1\n",
    "    length = len(s1)\n",
    "    reversed_string = ''\n",
    "    for i in range(0, length):\n",
    "        reversed_string += s1[length - i - 1]\n",
    "    if foo == reversed_string:\n",
    "        return True\n",
    "    else: \n",
    "        return False\n",
    "\n",
    "print(reverse(s1))"
   ]
  },
  {
   "cell_type": "code",
   "execution_count": 17,
   "metadata": {
    "collapsed": false
   },
   "outputs": [
    {
     "data": {
      "text/plain": [
       "'Neveroddoreven'"
      ]
     },
     "execution_count": 17,
     "metadata": {},
     "output_type": "execute_result"
    }
   ],
   "source": [
    "s = \"Never odd or even\"\n",
    "s.replace(' ', '')  #can be used to remove the spaces"
   ]
  },
  {
   "cell_type": "code",
   "execution_count": 19,
   "metadata": {
    "collapsed": false
   },
   "outputs": [
    {
     "data": {
      "text/plain": [
       "'Never__joint__odd__joint__or__joint__even'"
      ]
     },
     "execution_count": 19,
     "metadata": {},
     "output_type": "execute_result"
    }
   ],
   "source": [
    "s.split() #removes everything, makes it into a list of strings\n"
   ]
  },
  {
   "cell_type": "code",
   "execution_count": 20,
   "metadata": {
    "collapsed": false
   },
   "outputs": [
    {
     "data": {
      "text/plain": [
       "'Never__joint__odd__joint__or__joint__even'"
      ]
     },
     "execution_count": 20,
     "metadata": {},
     "output_type": "execute_result"
    }
   ],
   "source": [
    "'__joint__'.join(s.split())"
   ]
  },
  {
   "cell_type": "markdown",
   "metadata": {},
   "source": [
    "---\n",
    "**Grade**\n",
    "\n",
    "Grading rubric [2/4 points]:\n",
    "\n",
    "* [1/1 pt] Is a function\n",
    "* [1/1 pt] Works for a palindrome word\n",
    "* [0/1 pt] Works for palindrome phrases (ignores spaces)\n",
    "* [0/1 pt] Works regardless of case\n",
    "\n",
    "---"
   ]
  },
  {
   "cell_type": "code",
   "execution_count": 50,
   "metadata": {
    "collapsed": false
   },
   "outputs": [],
   "source": [
    "# 6. Write a program that given a text file will create a new text file that looks the same except in which all \n",
    "# the non empty lines from the original file are numbered from 1 to n (where n is the number of lines in the file).\n",
    "\n",
    "fname = 'test.txt'\n",
    "oname = 'newtest.txt'\n",
    "\n",
    "def countStringLength(numbers):\n",
    "    \"\"\" Function to calculate the string length\"\"\"\n",
    "    count = 0\n",
    "    for i in numbers:\n",
    "        count = count+1\n",
    "    return count\n",
    "with open(fname, \"r\") as ifile:\n",
    "    with open(oname, \"w\") as ofile:\n",
    "        for i, line in enumerate(ifile):\n",
    "            if countStringLength(line) > 1:\n",
    "                ofile.write('{0:<5}{1}'.format(i+1,line))\n",
    "                "
   ]
  },
  {
   "cell_type": "code",
   "execution_count": 55,
   "metadata": {
    "collapsed": false
   },
   "outputs": [
    {
     "name": "stdout",
     "output_type": "stream",
     "text": [
      "1 .  Hello world\n",
      "2 .  Testing the program\n",
      "\n",
      "3 .  Goodbye and goodnight\n"
     ]
    }
   ],
   "source": [
    "f = open('test.txt')\n",
    "\n",
    "counter = 1\n",
    "for line in f.readlines():  #f.readlines() is a list of strings, \\n is for new lines\n",
    "    if line.split():  #line is a string, Test for an empty list, the same as if data == []\n",
    "        #There is something there in that line....\n",
    "        print(counter,'. ', line, end=\"\")\n",
    "        counter += 1\n",
    "    else:\n",
    "        #There is nothing in the line...\n",
    "        print('')\n",
    "    \n",
    "f.close()\n",
    "\n",
    "#instead of the print statements you would do the write statement"
   ]
  },
  {
   "cell_type": "code",
   "execution_count": 52,
   "metadata": {
    "collapsed": false
   },
   "outputs": [
    {
     "name": "stdout",
     "output_type": "stream",
     "text": [
      "Nope\n"
     ]
    }
   ],
   "source": [
    "if '':\n",
    "    print('Yup')\n",
    "else:\n",
    "    print('Nope')\n",
    "    \n",
    "#false is 0, is an empty list, nothing '' empty string would return false"
   ]
  },
  {
   "cell_type": "markdown",
   "metadata": {},
   "source": [
    "---\n",
    "**Grade**\n",
    "\n",
    "Grading rubric [3/4 points]:\n",
    "\n",
    "* [1/1 pt] Can read in a reasonably random file\n",
    "* [1/1 pt] Numbers lines\n",
    "* [0/1 pt] Doesn't number empty lines but keeps numbering system consecutive: empty lines are removed and numbers aren't consecutive\n",
    "* [1/1 pt] Writes results properly to output file\n",
    "---"
   ]
  },
  {
   "cell_type": "code",
   "execution_count": 11,
   "metadata": {
    "collapsed": false
   },
   "outputs": [
    {
     "name": "stdout",
     "output_type": "stream",
     "text": [
      "[5, 2, 7, 9, 8]\n"
     ]
    }
   ],
   "source": [
    "#7. Write a program that maps a list of words into a list of integers representing the lengths of the correponding words\n",
    "#Write it in three different ways: 1) using a for-loop,\n",
    "# 2) using the higher order function map(), and 3) using list comprehensions.\n",
    "\n",
    "listofwords = ['Hello','Hi','Testing','Schoemann','Homework']\n",
    "def word_list_to_length_list(listofwords):\n",
    "    length_list = []\n",
    "    for word in listofwords:\n",
    "        length_list.append(len(word))\n",
    "        \n",
    "    return length_list\n",
    "\n",
    "print(word_list_to_length_list(listofwords))"
   ]
  },
  {
   "cell_type": "markdown",
   "metadata": {},
   "source": [
    "---\n",
    "**Grade**\n",
    "\n",
    "Grading rubric [2/8 points]:\n",
    "\n",
    "* [2/2 pts] Method 1\n",
    "* [0/3 pts] Method 2\n",
    "* [0/3 pts] Method 3\n",
    "\n",
    "---"
   ]
  },
  {
   "cell_type": "code",
   "execution_count": 19,
   "metadata": {
    "collapsed": false,
    "scrolled": false
   },
   "outputs": [],
   "source": [
    "#8. In cryptography, a Caesar cipher is a very simple encryption techniques in which each letter in the plain text\n",
    "#is replaced by a letter some fixed number of positions down the alphabet. For example, with a shift of 3, \n",
    "#A would be replaced by D, B would become E, and so on. The method is named after Julius Caesar, who used it to\n",
    "#communicate with his generals. ROT-13 (\\\"rotate by 13 places\\\") is a widely used example of a Caesar cipher where\n",
    "#the shift is 13. In Python, the key for ROT-13 may be represented by means of the following dictionary\n",
    "\n",
    "key = {'a':'n', 'b':'o', 'c':'p', 'd':'q', 'e':'r', 'f':'s', 'g':'t', 'h':'u', \n",
    "       'i':'v', 'j':'w', 'k':'x', 'l':'y', 'm':'z', 'n':'a', 'o':'b', 'p':'c', \n",
    "       'q':'d', 'r':'e', 's':'f', 't':'g', 'u':'h', 'v':'i', 'w':'j', 'x':'k',\n",
    "       'y':'l', 'z':'m', 'A':'N', 'B':'O', 'C':'P', 'D':'Q', 'E':'R', 'F':'S', \n",
    "       'G':'T', 'H':'U', 'I':'V', 'J':'W', 'K':'X', 'L':'Y', 'M':'Z', 'N':'A', \n",
    "       'O':'B', 'P':'C', 'Q':'D', 'R':'E', 'S':'F', 'T':'G', 'U':'H', 'V':'I', \n",
    "       'W':'J', 'X':'K', 'Y':'L', 'Z':'M'}\n",
    "\n",
    "s1 = 'Pnrfne pvcure? V zhpu cersre Pnrfne fnynq!'\n",
    "\n",
    "def Caesar_cipher(aphrase):\n",
    "    from collections import OrderedDict\n",
    "    \n",
    "    def cipher_dict( shift ):\n",
    "        lowers = shift.lowercase  # this line causes an error for memoryview\n",
    "        keyvals = [(ch,lowers[(lowers.index( ch ) + shift) % 26]) for ch in lowers]\n",
    "        return OrderedDict(\n",
    "            keyvals + [(keyval[0].upper(),keyval[1].upper()) for keyval in keyvals] )\n",
    "        \n",
    "    def cipher( text, thecipher ):\n",
    "        ignored_chars = text.punctuation + text.digits + ' '\n",
    "        lowers = text\n",
    "        return ''.join(\n",
    "                     [ch if ch in ignored_chars else thecipher[ch] for ch in lowers] )\n",
    " \n",
    "    return cipher( aphrase, cipher_dict(13) )\n"
   ]
  },
  {
   "cell_type": "markdown",
   "metadata": {},
   "source": [
    "---\n",
    "**Grade**\n",
    "\n",
    "Grading rubric [2/4 points]:\n",
    "\n",
    "* [0/2 pts] Solution accurately translates secret message\n",
    "* [2/2 pts] Can re-encode secret message successfully\n",
    "\n",
    "Were you able to get this to run? I can't. See the solution, please.\n",
    "\n",
    "---"
   ]
  },
  {
   "cell_type": "code",
   "execution_count": 20,
   "metadata": {
    "collapsed": false,
    "scrolled": true
   },
   "outputs": [
    {
     "name": "stdout",
     "output_type": "stream",
     "text": [
      "3 bottles of beer on the wall, 3 bottles of beer\n",
      "Take one down, pass it around, 2 bottles of beer on the wall\n",
      "2 bottles of beer on the wall, 2 bottles of beer\n",
      "Take one down, pass it around, 1 bottles of beer on the wall\n",
      "1 bottle of beer on the wall, 1 bottle of beer\n",
      "Take one down, pass it around, 0 bottles of beer on the wall\n"
     ]
    }
   ],
   "source": [
    "#9. Fix the code\n",
    "\n",
    "def words(num):  #changed numbottles to num to define num\n",
    "    \"\"\"Returns words with proper number of beer bottles filled in.\"\"\"\n",
    "    \n",
    "    if num > 1:   #Added =, and : to the song\n",
    "        return str(num) + ' bottles of beer on the wall, ' + str(num) + ' bottles of beer' + \"\\n\" + 'Take one down, pass it around, ' + str(num-1) + ' bottles of beer on the wall'\n",
    "        # combined the code lines and added \\n into the code\n",
    "    elif num == 1:\n",
    "        return str(num) + ' bottle of beer on the wall, ' + str(num) + ' bottle of beer'  + \"\\n\" + 'Take one down, pass it around, ' + str(num-1) + ' bottles of beer on the wall'\n",
    "        # combined the code lines\n",
    "numbottles = 3\n",
    "        \n",
    "for i in range(numbottles, 0, -1): #added : changed the [] to (), changed 1 to -1\n",
    "    print(words(i))"
   ]
  },
  {
   "cell_type": "markdown",
   "metadata": {},
   "source": [
    "---\n",
    "**Grade**\n",
    "\n",
    "Grading rubric [3/3 pts]:\n",
    "\n",
    "* 0.5 points for each error\n",
    "* -0.5 if some output message sits between the verses\n",
    "\n",
    "Why did you remove the `\\n` from the end of the lines?\n",
    "\n",
    "---"
   ]
  },
  {
   "cell_type": "code",
   "execution_count": 27,
   "metadata": {
    "collapsed": false,
    "scrolled": true
   },
   "outputs": [
    {
     "name": "stdout",
     "output_type": "stream",
     "text": [
      "5/20/2006  1:35:10   N42 49.820  W70 45.415  0.76 mph\n",
      "5/20/2006  1:35:25   N42 49.821  W70 45.408  1.4 mph\n",
      "5/20/2006  1:35:40   N42 49.824  W70 45.400  1.7 mph\n",
      "5/20/2006  1:35:55   N42 49.825  W70 45.393  1.6 mph\n",
      "5/20/2006  1:36:10   N42 49.824  W70 45.379  2.9 mph\n",
      "5/20/2006  1:36:25   N42 49.821  W70 45.370  2.0 mph\n",
      "5/20/2006  1:36:40   N42 49.821  W70 45.362  1.6 mph\n",
      "5/20/2006  1:36:55   N42 49.821  W70 45.353  1.8 mph\n",
      "5/20/2006  1:37:10   N42 49.816  W70 45.341  2.7 mph\n",
      "5/20/2006  1:37:25   N42 49.807  W70 45.330  3.4 mph\n",
      "5/20/2006  1:37:40   N42 49.794  W70 45.324  3.7 mph\n",
      "5/20/2006  1:37:55   N42 49.784  W70 45.326  2.9 mph\n",
      "5/20/2006  1:38:10   N42 49.776  W70 45.339  3.4 mph\n",
      "5/20/2006  1:38:25   N42 49.781  W70 45.361  4.7 mph\n",
      "5/20/2006  1:38:40   N42 49.786  W70 45.381  4.4 mph\n",
      "5/20/2006  1:38:55   N42 49.780  W70 45.400  4.3 mph\n",
      "5/20/2006  1:39:10   N42 49.767  W70 45.412  4.3 mph\n",
      "5/20/2006  1:39:25   N42 49.750  W70 45.420  4.9 mph\n",
      "5/20/2006  1:39:40   N42 49.735  W70 45.430  4.8 mph\n",
      "5/20/2006  1:39:55   N42 49.719  W70 45.440  4.8 mph\n",
      "5/20/2006  1:40:10   N42 49.701  W70 45.447  5.2 mph\n",
      "5/20/2006  1:40:25   N42 49.683  W70 45.455  5.2 mph\n",
      "5/20/2006  1:40:40   N42 49.668  W70 45.465  4.8 mph\n",
      "5/20/2006  1:40:55   N42 49.652  W70 45.476  4.9 mph\n",
      "5/20/2006  1:41:10   N42 49.637  W70 45.489  5.0 mph\n",
      "5/20/2006  1:41:25   N42 49.623  W70 45.502  4.7 mph\n",
      "5/20/2006  1:41:40   N42 49.611  W70 45.520  4.9 mph\n",
      "5/20/2006  1:41:55   N42 49.600  W70 45.537  4.7 mph\n",
      "5/20/2006  1:42:10   N42 49.585  W70 45.552  5.0 mph\n",
      "5/20/2006  1:42:25   N42 49.574  W70 45.569  4.7 mph\n",
      "5/20/2006  1:42:40   N42 49.562  W70 45.586  4.7 mph\n",
      "5/20/2006  1:42:55   N42 49.549  W70 45.601  4.7 mph\n",
      "5/20/2006  1:43:10   N42 49.536  W70 45.617  4.7 mph\n",
      "5/20/2006  1:43:25   N42 49.525  W70 45.632  4.5 mph\n",
      "5/20/2006  1:43:40   N42 49.513  W70 45.646  4.3 mph\n",
      "5/20/2006  1:43:55   N42 49.499  W70 45.660  4.9 mph\n",
      "5/20/2006  1:44:10   N42 49.486  W70 45.675  4.6 mph\n",
      "5/20/2006  1:44:25   N42 49.473  W70 45.690  4.7 mph\n",
      "5/20/2006  1:44:40   N42 49.463  W70 45.707  4.4 mph\n",
      "5/20/2006  1:44:55   N42 49.452  W70 45.722  4.5 mph\n",
      "5/20/2006  1:45:10   N42 49.436  W70 45.734  4.9 mph\n",
      "5/20/2006  1:45:25   N42 49.422  W70 45.747  4.7 mph\n",
      "5/20/2006  1:45:40   N42 49.412  W70 45.762  4.2 mph\n",
      "5/20/2006  1:45:55   N42 49.401  W70 45.780  4.6 mph\n",
      "5/20/2006  1:46:10   N42 49.388  W70 45.796  4.7 mph\n",
      "5/20/2006  1:46:25   N42 49.377  W70 45.811  4.5 mph\n",
      "5/20/2006  1:46:40   N42 49.365  W70 45.828  4.7 mph\n",
      "5/20/2006  1:46:55   N42 49.354  W70 45.845  4.7 mph\n",
      "5/20/2006  1:47:10   N42 49.342  W70 45.861  4.7 mph\n",
      "5/20/2006  1:47:25   N42 49.329  W70 45.877  4.7 mph\n",
      "5/20/2006  1:47:40   N42 49.318  W70 45.892  4.5 mph\n",
      "5/20/2006  1:47:55   N42 49.307  W70 45.909  4.4 mph\n",
      "5/20/2006  1:48:10   N42 49.297  W70 45.926  4.4 mph\n",
      "5/20/2006  1:48:25   N42 49.287  W70 45.945  4.8 mph\n",
      "5/20/2006  1:48:40   N42 49.276  W70 45.962  4.4 mph\n",
      "5/20/2006  1:48:55   N42 49.264  W70 45.977  4.7 mph\n",
      "5/20/2006  1:49:10   N42 49.252  W70 45.993  4.5 mph\n",
      "5/20/2006  1:49:25   N42 49.244  W70 46.012  4.5 mph\n",
      "5/20/2006  1:49:40   N42 49.237  W70 46.031  4.5 mph\n",
      "5/20/2006  1:49:56   N42 49.226  W70 46.052  4.7 mph\n",
      "5/20/2006  1:50:11   N42 49.217  W70 46.070  4.4 mph\n",
      "5/20/2006  1:50:26   N42 49.208  W70 46.088  4.4 mph\n",
      "5/20/2006  1:50:42   N42 49.199  W70 46.109  4.6 mph\n",
      "5/20/2006  1:50:57   N42 49.191  W70 46.128  4.5 mph\n",
      "5/20/2006  1:51:12   N42 49.182  W70 46.147  4.6 mph\n",
      "5/20/2006  1:51:27   N42 49.170  W70 46.164  4.9 mph\n",
      "5/20/2006  1:51:42   N42 49.159  W70 46.181  4.4 mph\n",
      "5/20/2006  1:51:57   N42 49.154  W70 46.201  4.4 mph\n",
      "5/20/2006  1:52:12   N42 49.154  W70 46.223  4.4 mph\n",
      "5/20/2006  1:52:27   N42 49.153  W70 46.245  4.5 mph\n",
      "5/20/2006  1:52:42   N42 49.145  W70 46.264  4.5 mph\n",
      "5/20/2006  1:52:57   N42 49.136  W70 46.284  4.6 mph\n",
      "5/20/2006  1:53:12   N42 49.125  W70 46.299  4.5 mph\n",
      "5/20/2006  1:53:27   N42 49.112  W70 46.313  4.6 mph\n",
      "5/20/2006  1:53:42   N42 49.099  W70 46.329  4.7 mph\n",
      "5/20/2006  1:53:57   N42 49.091  W70 46.345  4.0 mph\n",
      "5/20/2006  1:54:12   N42 49.087  W70 46.366  4.3 mph\n",
      "5/20/2006  1:54:27   N42 49.082  W70 46.387  4.4 mph\n",
      "5/20/2006  1:54:42   N42 49.072  W70 46.406  4.8 mph\n",
      "5/20/2006  1:54:57   N42 49.060  W70 46.424  4.9 mph\n",
      "5/20/2006  1:55:12   N42 49.051  W70 46.441  4.2 mph\n",
      "5/20/2006  1:55:27   N42 49.045  W70 46.461  4.5 mph\n",
      "5/20/2006  1:55:42   N42 49.041  W70 46.483  4.6 mph\n",
      "5/20/2006  1:55:57   N42 49.036  W70 46.504  4.4 mph\n",
      "5/20/2006  1:56:12   N42 49.024  W70 46.522  4.9 mph\n",
      "5/20/2006  1:56:27   N42 49.010  W70 46.535  4.7 mph\n",
      "5/20/2006  1:56:42   N42 48.998  W70 46.550  4.5 mph\n",
      "5/20/2006  1:56:57   N42 48.987  W70 46.567  4.7 mph\n",
      "5/20/2006  1:57:12   N42 48.976  W70 46.584  4.4 mph\n",
      "5/20/2006  1:57:27   N42 48.962  W70 46.599  5.0 mph\n",
      "5/20/2006  1:57:42   N42 48.947  W70 46.613  5.2 mph\n",
      "5/20/2006  1:57:57   N42 48.931  W70 46.626  5.0 mph\n",
      "5/20/2006  1:58:12   N42 48.916  W70 46.640  5.2 mph\n",
      "5/20/2006  1:58:27   N42 48.902  W70 46.653  4.7 mph\n",
      "5/20/2006  1:58:42   N42 48.885  W70 46.666  5.3 mph\n",
      "5/20/2006  1:58:57   N42 48.868  W70 46.678  5.2 mph\n",
      "5/20/2006  1:59:12   N42 48.852  W70 46.688  5.1 mph\n",
      "5/20/2006  1:59:27   N42 48.835  W70 46.698  5.1 mph\n",
      "5/20/2006  1:59:42   N42 48.821  W70 46.711  4.7 mph\n",
      "5/20/2006  1:59:57   N42 48.807  W70 46.727  5.0 mph\n",
      "5/20/2006  2:00:12   N42 48.796  W70 46.743  4.4 mph\n",
      "5/20/2006  2:00:27   N42 48.788  W70 46.763  4.5 mph\n",
      "5/20/2006  2:00:42   N42 48.785  W70 46.783  4.3 mph\n",
      "5/20/2006  2:00:57   N42 48.778  W70 46.804  4.5 mph\n",
      "5/20/2006  2:01:12   N42 48.772  W70 46.826  4.8 mph\n",
      "5/20/2006  2:01:27   N42 48.773  W70 46.846  4.2 mph\n",
      "5/20/2006  2:01:42   N42 48.778  W70 46.867  4.4 mph\n",
      "5/20/2006  2:01:57   N42 48.786  W70 46.886  4.5 mph\n",
      "5/20/2006  2:02:12   N42 48.791  W70 46.907  4.4 mph\n",
      "5/20/2006  2:02:27   N42 48.792  W70 46.929  4.5 mph\n",
      "5/20/2006  2:02:42   N42 48.790  W70 46.951  4.5 mph\n",
      "5/20/2006  2:02:57   N42 48.785  W70 46.972  4.7 mph\n",
      "5/20/2006  2:03:12   N42 48.777  W70 46.993  4.7 mph\n",
      "5/20/2006  2:03:27   N42 48.768  W70 47.015  5.1 mph\n",
      "5/20/2006  2:03:42   N42 48.763  W70 47.036  4.4 mph\n",
      "5/20/2006  2:03:57   N42 48.761  W70 47.059  4.7 mph\n",
      "5/20/2006  2:04:12   N42 48.764  W70 47.081  4.5 mph\n",
      "5/20/2006  2:04:27   N42 48.772  W70 47.100  4.5 mph\n",
      "5/20/2006  2:04:42   N42 48.778  W70 47.120  4.5 mph\n",
      "5/20/2006  2:04:57   N42 48.786  W70 47.141  4.7 mph\n",
      "5/20/2006  2:05:12   N42 48.792  W70 47.160  4.3 mph\n",
      "5/20/2006  2:05:27   N42 48.799  W70 47.181  4.5 mph\n",
      "5/20/2006  2:05:42   N42 48.805  W70 47.202  4.5 mph\n",
      "5/20/2006  2:05:57   N42 48.813  W70 47.221  4.5 mph\n",
      "5/20/2006  2:06:12   N42 48.818  W70 47.243  4.7 mph\n",
      "5/20/2006  2:06:27   N42 48.823  W70 47.265  4.7 mph\n",
      "5/20/2006  2:06:42   N42 48.830  W70 47.287  4.8 mph\n",
      "5/20/2006  2:06:57   N42 48.836  W70 47.307  4.5 mph\n",
      "5/20/2006  2:07:12   N42 48.844  W70 47.329  4.9 mph\n",
      "5/20/2006  2:07:27   N42 48.850  W70 47.350  4.5 mph\n",
      "5/20/2006  2:07:42   N42 48.857  W70 47.370  4.5 mph\n",
      "5/20/2006  2:07:57   N42 48.861  W70 47.392  4.6 mph\n",
      "5/20/2006  2:08:12   N42 48.864  W70 47.414  4.6 mph\n",
      "5/20/2006  2:08:27   N42 48.866  W70 47.435  4.2 mph\n",
      "5/20/2006  2:08:42   N42 48.872  W70 47.454  4.3 mph\n",
      "5/20/2006  2:08:57   N42 48.885  W70 47.468  4.6 mph\n",
      "5/20/2006  2:09:12   N42 48.895  W70 47.481  3.9 mph\n",
      "5/20/2006  2:09:27   N42 48.900  W70 47.486  1.8 mph\n",
      "5/20/2006  2:09:42   N42 48.906  W70 47.486  1.4 mph\n",
      "5/20/2006  2:09:57   N42 48.916  W70 47.487  2.9 mph\n",
      "5/20/2006  2:10:12   N42 48.921  W70 47.499  2.7 mph\n",
      "5/20/2006  2:10:27   N42 48.913  W70 47.512  3.4 mph\n",
      "5/20/2006  2:10:42   N42 48.903  W70 47.529  4.4 mph\n",
      "5/20/2006  2:10:57   N42 48.893  W70 47.545  4.4 mph\n",
      "5/20/2006  2:11:12   N42 48.886  W70 47.554  2.6 mph\n",
      "5/20/2006  2:11:27   N42 48.880  W70 47.557  1.9 mph\n",
      "5/20/2006  2:11:42   N42 48.871  W70 47.563  2.8 mph\n",
      "5/20/2006  2:11:57   N42 48.867  W70 47.572  2.1 mph\n",
      "5/20/2006  2:12:12   N42 48.868  W70 47.579  1.4 mph\n",
      "5/20/2006  2:12:27   N42 48.876  W70 47.575  2.3 mph\n",
      "5/20/2006  2:12:42   N42 48.879  W70 47.570  1.3 mph\n",
      "5/20/2006  2:12:57   N42 48.877  W70 47.566  0.86 mph\n",
      "5/20/2006  2:13:12   N42 48.876  W70 47.562  0.86 mph\n",
      "5/20/2006  2:13:27   N42 48.875  W70 47.556  1.4 mph\n",
      "5/20/2006  2:13:42   N42 48.873  W70 47.549  1.4 mph\n",
      "5/20/2006  2:13:57   N42 48.873  W70 47.543  1.3 mph\n",
      "5/20/2006  2:14:12   N42 48.872  W70 47.535  1.6 mph\n",
      "5/20/2006  2:14:27   N42 48.872  W70 47.527  1.6 mph\n",
      "5/20/2006  2:14:42   N42 48.871  W70 47.520  1.6 mph\n",
      "5/20/2006  2:14:57   N42 48.871  W70 47.511  1.8 mph\n",
      "5/20/2006  2:15:12   N42 48.871  W70 47.503  1.6 mph\n",
      "5/20/2006  2:15:27   N42 48.872  W70 47.495  1.6 mph\n",
      "5/20/2006  2:15:42   N42 48.872  W70 47.487  1.6 mph\n",
      "5/20/2006  2:15:57   N42 48.872  W70 47.480  1.6 mph\n",
      "5/20/2006  2:16:12   N42 48.872  W70 47.472  1.6 mph\n",
      "5/20/2006  2:16:27   N42 48.872  W70 47.466  1.3 mph\n",
      "5/20/2006  2:16:42   N42 48.873  W70 47.459  1.4 mph\n",
      "5/20/2006  2:16:57   N42 48.873  W70 47.451  1.6 mph\n",
      "5/20/2006  2:17:12   N42 48.873  W70 47.445  1.3 mph\n",
      "5/20/2006  2:17:27   N42 48.873  W70 47.437  1.6 mph\n",
      "5/20/2006  2:17:42   N42 48.875  W70 47.431  1.4 mph\n",
      "5/20/2006  2:17:57   N42 48.875  W70 47.423  1.6 mph\n",
      "5/20/2006  2:18:12   N42 48.875  W70 47.417  1.3 mph\n",
      "5/20/2006  2:18:27   N42 48.876  W70 47.409  1.6 mph\n",
      "5/20/2006  2:18:42   N42 48.876  W70 47.402  1.3 mph\n",
      "5/20/2006  2:18:57   N42 48.876  W70 47.396  1.3 mph\n",
      "5/20/2006  2:19:12   N42 48.876  W70 47.391  1.0 mph\n",
      "5/20/2006  2:19:27   N42 48.877  W70 47.383  1.6 mph\n",
      "5/20/2006  2:19:42   N42 48.877  W70 47.377  1.3 mph\n",
      "5/20/2006  2:19:57   N42 48.879  W70 47.370  1.4 mph\n",
      "5/20/2006  2:20:12   N42 48.879  W70 47.364  1.3 mph\n",
      "5/20/2006  2:20:27   N42 48.879  W70 47.356  1.6 mph\n",
      "5/20/2006  2:20:42   N42 48.880  W70 47.350  1.4 mph\n",
      "5/20/2006  2:20:57   N42 48.880  W70 47.343  1.3 mph\n",
      "5/20/2006  2:21:12   N42 48.880  W70 47.337  1.3 mph\n",
      "5/20/2006  2:21:27   N42 48.880  W70 47.330  1.3 mph\n",
      "5/20/2006  2:21:42   N42 48.880  W70 47.324  1.3 mph\n",
      "5/20/2006  2:21:57   N42 48.881  W70 47.317  1.4 mph\n",
      "5/20/2006  2:22:12   N42 48.881  W70 47.311  1.3 mph\n",
      "5/20/2006  2:22:27   N42 48.881  W70 47.305  1.3 mph\n",
      "5/20/2006  2:22:42   N42 48.881  W70 47.297  1.6 mph\n",
      "5/20/2006  2:22:57   N42 48.881  W70 47.290  1.3 mph\n",
      "5/20/2006  2:23:13   N42 48.882  W70 47.283  1.5 mph\n",
      "5/20/2006  2:23:28   N42 48.882  W70 47.276  1.3 mph\n",
      "5/20/2006  2:23:43   N42 48.881  W70 47.270  1.4 mph\n",
      "5/20/2006  2:23:58   N42 48.882  W70 47.263  1.4 mph\n",
      "5/20/2006  2:24:13   N42 48.888  W70 47.251  3.0 mph\n",
      "5/20/2006  2:24:28   N42 48.898  W70 47.244  3.1 mph\n",
      "5/20/2006  2:24:43   N42 48.907  W70 47.253  3.1 mph\n",
      "5/20/2006  2:24:58   N42 48.908  W70 47.272  3.9 mph\n",
      "5/20/2006  2:25:13   N42 48.915  W70 47.294  4.8 mph\n",
      "5/20/2006  2:25:28   N42 48.920  W70 47.317  4.9 mph\n",
      "5/20/2006  2:25:43   N42 48.922  W70 47.341  4.8 mph\n",
      "5/20/2006  2:25:58   N42 48.926  W70 47.364  4.8 mph\n",
      "5/20/2006  2:26:13   N42 48.930  W70 47.387  4.8 mph\n",
      "5/20/2006  2:26:28   N42 48.934  W70 47.411  5.1 mph\n",
      "5/20/2006  2:26:43   N42 48.939  W70 47.435  4.9 mph\n",
      "5/20/2006  2:26:58   N42 48.942  W70 47.457  4.5 mph\n",
      "5/20/2006  2:27:13   N42 48.942  W70 47.477  4.2 mph\n",
      "5/20/2006  2:27:28   N42 48.934  W70 47.487  3.0 mph\n",
      "5/20/2006  2:27:43   N42 48.926  W70 47.489  2.2 mph\n",
      "5/20/2006  2:27:58   N42 48.922  W70 47.485  1.3 mph\n",
      "5/20/2006  2:28:13   N42 48.921  W70 47.478  1.4 mph\n",
      "5/20/2006  2:28:28   N42 48.921  W70 47.471  1.6 mph\n",
      "5/20/2006  2:28:43   N42 48.920  W70 47.463  1.6 mph\n",
      "5/20/2006  2:28:58   N42 48.919  W70 47.457  1.4 mph\n",
      "5/20/2006  2:29:13   N42 48.917  W70 47.449  1.6 mph\n",
      "5/20/2006  2:29:28   N42 48.916  W70 47.441  1.6 mph\n",
      "5/20/2006  2:29:43   N42 48.915  W70 47.433  1.6 mph\n",
      "5/20/2006  2:29:58   N42 48.913  W70 47.426  1.6 mph\n",
      "5/20/2006  2:30:13   N42 48.912  W70 47.417  1.9 mph\n",
      "5/20/2006  2:30:28   N42 48.911  W70 47.409  1.6 mph\n",
      "5/20/2006  2:30:43   N42 48.910  W70 47.401  1.6 mph\n",
      "5/20/2006  2:30:58   N42 48.908  W70 47.392  1.9 mph\n",
      "5/20/2006  2:31:13   N42 48.906  W70 47.386  1.5 mph\n",
      "5/20/2006  2:31:28   N42 48.904  W70 47.377  1.9 mph\n",
      "5/20/2006  2:31:43   N42 48.902  W70 47.369  1.7 mph\n",
      "5/20/2006  2:31:58   N42 48.900  W70 47.361  1.6 mph\n",
      "5/20/2006  2:32:13   N42 48.899  W70 47.352  1.9 mph\n",
      "5/20/2006  2:32:28   N42 48.897  W70 47.344  1.7 mph\n",
      "5/20/2006  2:32:43   N42 48.895  W70 47.335  1.9 mph\n",
      "5/20/2006  2:32:58   N42 48.894  W70 47.328  1.6 mph\n",
      "5/20/2006  2:33:13   N42 48.893  W70 47.320  1.6 mph\n",
      "5/20/2006  2:33:28   N42 48.890  W70 47.312  1.7 mph\n",
      "5/20/2006  2:33:43   N42 48.890  W70 47.306  1.3 mph\n",
      "5/20/2006  2:33:58   N42 48.889  W70 47.297  1.9 mph\n",
      "5/20/2006  2:34:13   N42 48.888  W70 47.290  1.4 mph\n",
      "5/20/2006  2:34:28   N42 48.886  W70 47.283  1.6 mph\n",
      "5/20/2006  2:34:43   N42 48.885  W70 47.275  1.6 mph\n",
      "5/20/2006  2:34:58   N42 48.884  W70 47.267  1.6 mph\n",
      "5/20/2006  2:35:13   N42 48.882  W70 47.260  1.6 mph\n",
      "5/20/2006  2:35:28   N42 48.881  W70 47.252  1.6 mph\n",
      "5/20/2006  2:35:43   N42 48.880  W70 47.244  1.6 mph\n",
      "5/20/2006  2:35:58   N42 48.879  W70 47.236  1.6 mph\n",
      "5/20/2006  2:36:13   N42 48.879  W70 47.227  1.8 mph\n",
      "5/20/2006  2:36:28   N42 48.877  W70 47.220  1.6 mph\n",
      "5/20/2006  2:36:43   N42 48.876  W70 47.212  1.6 mph\n",
      "5/20/2006  2:36:58   N42 48.875  W70 47.205  1.4 mph\n",
      "5/20/2006  2:37:13   N42 48.873  W70 47.199  1.4 mph\n",
      "5/20/2006  2:37:28   N42 48.872  W70 47.191  1.6 mph\n",
      "5/20/2006  2:37:43   N42 48.871  W70 47.185  1.4 mph\n",
      "5/20/2006  2:37:58   N42 48.870  W70 47.177  1.6 mph\n",
      "5/20/2006  2:38:13   N42 48.867  W70 47.169  1.7 mph\n",
      "5/20/2006  2:38:28   N42 48.866  W70 47.163  1.4 mph\n",
      "5/20/2006  2:38:43   N42 48.864  W70 47.155  1.6 mph\n",
      "5/20/2006  2:38:58   N42 48.863  W70 47.148  1.6 mph\n",
      "5/20/2006  2:39:14   N42 48.862  W70 47.140  1.5 mph\n",
      "5/20/2006  2:39:29   N42 48.861  W70 47.133  1.4 mph\n",
      "5/20/2006  2:39:44   N42 48.859  W70 47.126  1.6 mph\n",
      "5/20/2006  2:39:59   N42 48.858  W70 47.118  1.6 mph\n",
      "5/20/2006  2:40:14   N42 48.857  W70 47.110  1.6 mph\n",
      "5/20/2006  2:40:29   N42 48.855  W70 47.102  1.6 mph\n",
      "5/20/2006  2:40:44   N42 48.854  W70 47.096  1.4 mph\n",
      "5/20/2006  2:40:59   N42 48.853  W70 47.087  1.9 mph\n",
      "5/20/2006  2:41:14   N42 48.852  W70 47.081  1.4 mph\n",
      "5/20/2006  2:41:29   N42 48.850  W70 47.073  1.6 mph\n",
      "5/20/2006  2:41:44   N42 48.849  W70 47.065  1.6 mph\n",
      "5/20/2006  2:41:59   N42 48.848  W70 47.057  1.6 mph\n",
      "5/20/2006  2:42:15   N42 48.846  W70 47.048  1.7 mph\n",
      "5/20/2006  2:42:30   N42 48.845  W70 47.041  1.6 mph\n",
      "5/20/2006  2:42:45   N42 48.844  W70 47.034  1.4 mph\n",
      "5/20/2006  2:43:00   N42 48.843  W70 47.026  1.6 mph\n",
      "5/20/2006  2:43:15   N42 48.840  W70 47.019  1.7 mph\n",
      "5/20/2006  2:43:30   N42 48.839  W70 47.011  1.6 mph\n",
      "5/20/2006  2:43:45   N42 48.837  W70 47.003  1.6 mph\n",
      "5/20/2006  2:44:00   N42 48.835  W70 46.996  1.7 mph\n",
      "5/20/2006  2:44:15   N42 48.834  W70 46.987  1.9 mph\n",
      "5/20/2006  2:44:30   N42 48.832  W70 46.980  1.4 mph\n",
      "5/20/2006  2:44:45   N42 48.831  W70 46.972  1.6 mph\n",
      "5/20/2006  2:45:00   N42 48.830  W70 46.965  1.6 mph\n",
      "5/20/2006  2:45:15   N42 48.828  W70 46.958  1.4 mph\n",
      "5/20/2006  2:45:30   N42 48.827  W70 46.952  1.4 mph\n",
      "5/20/2006  2:45:45   N42 48.826  W70 46.945  1.4 mph\n",
      "5/20/2006  2:46:00   N42 48.825  W70 46.939  1.4 mph\n",
      "5/20/2006  2:46:15   N42 48.823  W70 46.934  1.1 mph\n",
      "5/20/2006  2:46:30   N42 48.822  W70 46.929  1.1 mph\n",
      "5/20/2006  2:46:45   N42 48.822  W70 46.922  1.3 mph\n",
      "5/20/2006  2:47:00   N42 48.821  W70 46.916  1.4 mph\n",
      "5/20/2006  2:47:15   N42 48.819  W70 46.911  1.1 mph\n",
      "5/20/2006  2:47:30   N42 48.818  W70 46.904  1.4 mph\n",
      "5/20/2006  2:47:45   N42 48.817  W70 46.898  1.4 mph\n",
      "5/20/2006  2:48:00   N42 48.816  W70 46.891  1.4 mph\n",
      "5/20/2006  2:48:15   N42 48.814  W70 46.885  1.4 mph\n",
      "5/20/2006  2:48:30   N42 48.812  W70 46.878  1.5 mph\n",
      "5/20/2006  2:48:45   N42 48.810  W70 46.872  1.4 mph\n",
      "5/20/2006  2:49:00   N42 48.809  W70 46.866  1.4 mph\n",
      "5/20/2006  2:49:15   N42 48.808  W70 46.859  1.4 mph\n",
      "5/20/2006  2:49:30   N42 48.805  W70 46.854  1.3 mph\n",
      "5/20/2006  2:49:45   N42 48.804  W70 46.848  1.4 mph\n",
      "5/20/2006  2:50:00   N42 48.803  W70 46.840  1.6 mph\n",
      "5/20/2006  2:50:15   N42 48.801  W70 46.833  1.4 mph\n",
      "5/20/2006  2:50:30   N42 48.800  W70 46.827  1.4 mph\n",
      "5/20/2006  2:50:45   N42 48.799  W70 46.820  1.4 mph\n",
      "5/20/2006  2:51:00   N42 48.797  W70 46.814  1.4 mph\n",
      "5/20/2006  2:51:15   N42 48.796  W70 46.808  1.4 mph\n",
      "5/20/2006  2:51:30   N42 48.794  W70 46.801  1.5 mph\n",
      "5/20/2006  2:51:45   N42 48.792  W70 46.795  1.4 mph\n",
      "5/20/2006  2:52:00   N42 48.791  W70 46.790  1.1 mph\n",
      "5/20/2006  2:52:15   N42 48.790  W70 46.783  1.4 mph\n",
      "5/20/2006  2:52:30   N42 48.790  W70 46.778  1.0 mph\n",
      "5/20/2006  2:52:45   N42 48.788  W70 46.772  1.4 mph\n",
      "5/20/2006  2:53:01   N42 48.786  W70 46.765  1.4 mph\n",
      "5/20/2006  2:53:16   N42 48.786  W70 46.759  1.3 mph\n",
      "5/20/2006  2:53:31   N42 48.785  W70 46.754  1.1 mph\n",
      "5/20/2006  2:53:46   N42 48.783  W70 46.747  1.4 mph\n",
      "5/20/2006  2:54:01   N42 48.782  W70 46.742  1.1 mph\n",
      "5/20/2006  2:54:16   N42 48.781  W70 46.736  1.4 mph\n",
      "5/20/2006  2:54:31   N42 48.779  W70 46.730  1.1 mph\n",
      "5/20/2006  2:54:46   N42 48.779  W70 46.724  1.3 mph\n",
      "5/20/2006  2:55:01   N42 48.778  W70 46.719  1.1 mph\n",
      "5/20/2006  2:55:16   N42 48.776  W70 46.712  1.5 mph\n",
      "5/20/2006  2:55:31   N42 48.774  W70 46.706  1.4 mph\n",
      "5/20/2006  2:55:46   N42 48.773  W70 46.699  1.4 mph\n",
      "5/20/2006  2:56:01   N42 48.772  W70 46.693  1.4 mph\n",
      "5/20/2006  2:56:16   N42 48.770  W70 46.687  1.4 mph\n",
      "5/20/2006  2:56:31   N42 48.769  W70 46.681  1.1 mph\n",
      "5/20/2006  2:56:46   N42 48.768  W70 46.675  1.4 mph\n",
      "5/20/2006  2:57:01   N42 48.767  W70 46.669  1.4 mph\n",
      "5/20/2006  2:57:16   N42 48.765  W70 46.662  1.4 mph\n",
      "5/20/2006  2:57:31   N42 48.764  W70 46.656  1.4 mph\n",
      "5/20/2006  2:57:46   N42 48.763  W70 46.651  1.1 mph\n",
      "5/20/2006  2:58:01   N42 48.760  W70 46.644  1.5 mph\n",
      "5/20/2006  2:58:16   N42 48.759  W70 46.639  1.1 mph\n",
      "5/20/2006  2:58:31   N42 48.758  W70 46.633  1.4 mph\n",
      "5/20/2006  2:58:46   N42 48.756  W70 46.627  1.1 mph\n",
      "5/20/2006  2:59:01   N42 48.755  W70 46.621  1.4 mph\n",
      "5/20/2006  2:59:16   N42 48.754  W70 46.616  1.1 mph\n",
      "5/20/2006  2:59:31   N42 48.752  W70 46.609  1.4 mph\n",
      "5/20/2006  2:59:46   N42 48.751  W70 46.603  1.4 mph\n",
      "5/20/2006  3:00:01   N42 48.749  W70 46.598  1.3 mph\n",
      "5/20/2006  3:00:16   N42 48.747  W70 46.591  1.4 mph\n",
      "5/20/2006  3:00:31   N42 48.746  W70 46.586  1.1 mph\n",
      "5/20/2006  3:00:46   N42 48.745  W70 46.580  1.4 mph\n",
      "5/20/2006  3:01:01   N42 48.743  W70 46.575  1.1 mph\n",
      "5/20/2006  3:01:16   N42 48.742  W70 46.568  1.4 mph\n",
      "5/20/2006  3:01:31   N42 48.742  W70 46.563  1.0 mph\n",
      "5/20/2006  3:01:46   N42 48.740  W70 46.557  1.5 mph\n",
      "5/20/2006  3:02:01   N42 48.738  W70 46.550  1.4 mph\n",
      "5/20/2006  3:02:16   N42 48.737  W70 46.544  1.4 mph\n",
      "5/20/2006  3:02:31   N42 48.736  W70 46.539  1.1 mph\n",
      "5/20/2006  3:02:46   N42 48.734  W70 46.533  1.1 mph\n",
      "5/20/2006  3:03:01   N42 48.733  W70 46.528  1.1 mph\n",
      "5/20/2006  3:03:16   N42 48.732  W70 46.523  1.1 mph\n",
      "5/20/2006  3:03:31   N42 48.731  W70 46.517  1.4 mph\n",
      "5/20/2006  3:03:46   N42 48.729  W70 46.512  1.1 mph\n",
      "5/20/2006  3:04:01   N42 48.728  W70 46.505  1.4 mph\n",
      "5/20/2006  3:04:16   N42 48.727  W70 46.500  1.1 mph\n",
      "5/20/2006  3:04:31   N42 48.724  W70 46.493  1.5 mph\n",
      "5/20/2006  3:04:46   N42 48.723  W70 46.487  1.4 mph\n",
      "5/20/2006  3:05:01   N42 48.722  W70 46.481  1.4 mph\n",
      "5/20/2006  3:05:16   N42 48.720  W70 46.475  1.1 mph\n",
      "5/20/2006  3:05:31   N42 48.719  W70 46.469  1.4 mph\n",
      "5/20/2006  3:05:46   N42 48.718  W70 46.464  1.1 mph\n",
      "5/20/2006  3:06:01   N42 48.716  W70 46.457  1.4 mph\n",
      "5/20/2006  3:06:16   N42 48.715  W70 46.451  1.4 mph\n",
      "5/20/2006  3:06:31   N42 48.714  W70 46.446  1.1 mph\n",
      "5/20/2006  3:06:46   N42 48.713  W70 46.439  1.4 mph\n",
      "5/20/2006  3:07:01   N42 48.711  W70 46.434  1.1 mph\n",
      "5/20/2006  3:07:16   N42 48.709  W70 46.428  1.5 mph\n",
      "5/20/2006  3:07:31   N42 48.707  W70 46.423  1.1 mph\n",
      "5/20/2006  3:07:46   N42 48.706  W70 46.416  1.4 mph\n",
      "5/20/2006  3:08:01   N42 48.705  W70 46.410  1.4 mph\n",
      "5/20/2006  3:08:16   N42 48.704  W70 46.405  1.1 mph\n",
      "5/20/2006  3:08:31   N42 48.701  W70 46.398  1.5 mph\n",
      "5/20/2006  3:08:46   N42 48.700  W70 46.392  1.4 mph\n",
      "5/20/2006  3:09:01   N42 48.698  W70 46.387  1.1 mph\n",
      "5/20/2006  3:09:16   N42 48.697  W70 46.380  1.4 mph\n",
      "5/20/2006  3:09:31   N42 48.696  W70 46.375  1.1 mph\n",
      "5/20/2006  3:09:46   N42 48.694  W70 46.370  1.1 mph\n",
      "5/20/2006  3:10:01   N42 48.693  W70 46.363  1.4 mph\n",
      "5/20/2006  3:10:16   N42 48.692  W70 46.358  1.1 mph\n",
      "5/20/2006  3:10:31   N42 48.691  W70 46.352  1.4 mph\n",
      "5/20/2006  3:10:46   N42 48.688  W70 46.345  1.5 mph\n",
      "5/20/2006  3:11:01   N42 48.687  W70 46.340  1.1 mph\n",
      "5/20/2006  3:11:16   N42 48.685  W70 46.335  1.1 mph\n",
      "5/20/2006  3:11:31   N42 48.684  W70 46.329  1.4 mph\n",
      "5/20/2006  3:11:46   N42 48.683  W70 46.322  1.4 mph\n",
      "5/20/2006  3:12:01   N42 48.680  W70 46.316  1.5 mph\n",
      "5/20/2006  3:12:16   N42 48.679  W70 46.311  1.1 mph\n",
      "5/20/2006  3:12:31   N42 48.678  W70 46.304  1.4 mph\n",
      "5/20/2006  3:12:46   N42 48.676  W70 46.298  1.4 mph\n",
      "5/20/2006  3:13:01   N42 48.675  W70 46.291  1.4 mph\n",
      "5/20/2006  3:13:16   N42 48.673  W70 46.285  1.5 mph\n",
      "5/20/2006  3:13:31   N42 48.671  W70 46.280  1.1 mph\n",
      "5/20/2006  3:13:46   N42 48.670  W70 46.273  1.4 mph\n",
      "5/20/2006  3:14:01   N42 48.669  W70 46.267  1.4 mph\n",
      "5/20/2006  3:14:16   N42 48.666  W70 46.260  1.5 mph\n",
      "5/20/2006  3:14:31   N42 48.665  W70 46.254  1.4 mph\n",
      "5/20/2006  3:14:46   N42 48.664  W70 46.249  1.1 mph\n",
      "5/20/2006  3:15:01   N42 48.662  W70 46.242  1.4 mph\n",
      "5/20/2006  3:15:16   N42 48.660  W70 46.236  1.5 mph\n",
      "5/20/2006  3:15:31   N42 48.658  W70 46.230  1.4 mph\n",
      "5/20/2006  3:15:46   N42 48.657  W70 46.223  1.4 mph\n",
      "5/20/2006  3:16:01   N42 48.656  W70 46.218  1.1 mph\n",
      "5/20/2006  3:16:16   N42 48.653  W70 46.212  1.5 mph\n",
      "5/20/2006  3:16:31   N42 48.652  W70 46.205  1.4 mph\n",
      "5/20/2006  3:16:46   N42 48.651  W70 46.199  1.4 mph\n",
      "5/20/2006  3:17:01   N42 48.649  W70 46.194  1.1 mph\n",
      "5/20/2006  3:17:16   N42 48.648  W70 46.187  1.4 mph\n",
      "5/20/2006  3:17:31   N42 48.647  W70 46.181  1.4 mph\n",
      "5/20/2006  3:17:46   N42 48.646  W70 46.175  1.1 mph\n",
      "5/20/2006  3:18:01   N42 48.644  W70 46.170  1.1 mph\n",
      "5/20/2006  3:18:16   N42 48.643  W70 46.164  1.4 mph\n",
      "5/20/2006  3:18:31   N42 48.640  W70 46.159  1.3 mph\n",
      "5/20/2006  3:18:46   N42 48.639  W70 46.152  1.4 mph\n",
      "5/20/2006  3:19:01   N42 48.638  W70 46.147  1.1 mph\n",
      "5/20/2006  3:19:16   N42 48.637  W70 46.141  1.4 mph\n",
      "5/20/2006  3:19:31   N42 48.635  W70 46.136  1.1 mph\n",
      "5/20/2006  3:19:46   N42 48.634  W70 46.130  1.1 mph\n",
      "5/20/2006  3:20:01   N42 48.633  W70 46.125  1.1 mph\n",
      "5/20/2006  3:20:16   N42 48.631  W70 46.119  1.4 mph\n",
      "5/20/2006  3:20:31   N42 48.630  W70 46.114  1.1 mph\n",
      "5/20/2006  3:20:46   N42 48.629  W70 46.107  1.4 mph\n",
      "5/20/2006  3:21:01   N42 48.628  W70 46.102  1.1 mph\n",
      "5/20/2006  3:21:16   N42 48.626  W70 46.097  1.1 mph\n",
      "5/20/2006  3:21:31   N42 48.625  W70 46.092  1.1 mph\n",
      "5/20/2006  3:21:46   N42 48.624  W70 46.087  1.1 mph\n",
      "5/20/2006  3:22:01   N42 48.622  W70 46.081  1.1 mph\n",
      "5/20/2006  3:22:16   N42 48.621  W70 46.075  1.4 mph\n",
      "5/20/2006  3:22:31   N42 48.620  W70 46.070  1.1 mph\n",
      "5/20/2006  3:22:46   N42 48.619  W70 46.065  1.1 mph\n",
      "5/20/2006  3:23:01   N42 48.616  W70 46.058  1.5 mph\n",
      "5/20/2006  3:23:16   N42 48.615  W70 46.053  1.1 mph\n",
      "5/20/2006  3:23:31   N42 48.613  W70 46.047  1.4 mph\n",
      "5/20/2006  3:23:46   N42 48.612  W70 46.042  1.1 mph\n",
      "5/20/2006  3:24:01   N42 48.611  W70 46.036  1.1 mph\n",
      "5/20/2006  3:24:16   N42 48.610  W70 46.030  1.4 mph\n",
      "5/20/2006  3:24:31   N42 48.608  W70 46.025  1.1 mph\n",
      "5/20/2006  3:24:46   N42 48.607  W70 46.020  1.1 mph\n",
      "5/20/2006  3:25:01   N42 48.606  W70 46.013  1.4 mph\n",
      "5/20/2006  3:25:16   N42 48.604  W70 46.008  1.1 mph\n",
      "5/20/2006  3:25:31   N42 48.603  W70 46.002  1.4 mph\n",
      "5/20/2006  3:25:46   N42 48.602  W70 45.997  1.1 mph\n",
      "5/20/2006  3:26:01   N42 48.601  W70 45.991  1.1 mph\n",
      "5/20/2006  3:26:16   N42 48.598  W70 45.985  1.5 mph\n",
      "5/20/2006  3:26:31   N42 48.597  W70 45.978  1.4 mph\n",
      "5/20/2006  3:26:46   N42 48.595  W70 45.973  1.1 mph\n",
      "5/20/2006  3:27:01   N42 48.594  W70 45.968  1.1 mph\n",
      "5/20/2006  3:27:16   N42 48.593  W70 45.962  1.4 mph\n",
      "5/20/2006  3:27:31   N42 48.590  W70 45.957  1.3 mph\n",
      "5/20/2006  3:27:46   N42 48.589  W70 45.951  1.1 mph\n",
      "5/20/2006  3:28:01   N42 48.588  W70 45.944  1.6 mph\n",
      "5/20/2006  3:28:16   N42 48.588  W70 45.932  2.4 mph\n",
      "5/20/2006  3:28:32   N42 48.593  W70 45.919  2.8 mph\n",
      "5/20/2006  3:28:47   N42 48.602  W70 45.917  2.5 mph\n",
      "5/20/2006  3:29:02   N42 48.608  W70 45.921  1.9 mph\n",
      "5/20/2006  3:29:17   N42 48.607  W70 45.932  2.4 mph\n",
      "5/20/2006  3:29:32   N42 48.606  W70 45.951  3.9 mph\n",
      "5/20/2006  3:29:47   N42 48.606  W70 45.975  4.7 mph\n",
      "5/20/2006  3:30:02   N42 48.606  W70 45.999  5.0 mph\n",
      "5/20/2006  3:30:17   N42 48.602  W70 46.022  4.8 mph\n",
      "5/20/2006  3:30:32   N42 48.598  W70 46.047  5.1 mph\n",
      "5/20/2006  3:30:47   N42 48.595  W70 46.070  4.8 mph\n",
      "5/20/2006  3:31:02   N42 48.595  W70 46.093  4.7 mph\n",
      "5/20/2006  3:31:17   N42 48.597  W70 46.118  5.0 mph\n",
      "5/20/2006  3:31:32   N42 48.598  W70 46.142  5.0 mph\n",
      "5/20/2006  3:31:47   N42 48.599  W70 46.166  5.0 mph\n",
      "5/20/2006  3:31:48   N42 48.601  W70 46.168  6.6 mph\n"
     ]
    },
    {
     "data": {
      "text/plain": [
       "'0.76 mph'"
      ]
     },
     "execution_count": 27,
     "metadata": {},
     "output_type": "execute_result"
    }
   ],
   "source": [
    "#10.Reading in and parsing a file\n",
    "\n",
    "def countLength(numbers):\n",
    "    \"\"\" Fundtion to calculate the string length\"\"\"\n",
    "    count = 0\n",
    " \n",
    "    for i in numbers:\n",
    "        count = count+1\n",
    "    return count\n",
    "\n",
    "f = open('02_GPS.dat')\n",
    "GPS = {}\n",
    "\n",
    "f.seek(0)  \n",
    "           \n",
    "for line in f.readlines():        \n",
    "    data = line.split()           \n",
    "    if not data: continue         \n",
    "    if (data[0] == 'Trackpoint' and countLength(data)>=15): \n",
    "        GPS[data[1] + ' ' + data[2] + '  ' + data[3] + ' ' + data[4]] = data[13]+ ' ' + data[14]\n",
    "        print(data[5] + '  ' + data[6] + '   ' + data[1] + ' ' + data[2] + '  ' + data[3] + ' ' + data[4] + '  ' + data[13]+ ' ' + data[14])\n",
    "\n",
    "GPS['N42 49.820  W70 45.415']"
   ]
  },
  {
   "cell_type": "markdown",
   "metadata": {},
   "source": [
    "---\n",
    "**Grade**\n",
    "\n",
    "Grading rubric [5/9 points]:\n",
    "\n",
    "* [1/1 pt] Opens file and reads in lines\n",
    "* [1/1 pt] Uses data only from 'Trackpoint' lines\n",
    "* [0/2 pts] Uses `datetime` package properly: `datetime` is a package we learned about in class\n",
    "* [1/2 pts] Ends up with a list of datetimes: This is not a list as asked for, but a point for effort on the dictionary (which is probably harder...)\n",
    "* [2/3 pts] Is able to pass the assertions: skips the first entry, but others are sort of there\n",
    "---"
   ]
  },
  {
   "cell_type": "markdown",
   "metadata": {},
   "source": [
    "---\n",
    "**Grade**\n",
    "\n",
    "Grading rubric [3/15 points]:\n",
    "\n",
    "* [0/1 pt] Dictionary has keys of the name of each drifter in file: the required dictionary was not created, but some other dictionary that doesn't follow the drifter convention.\n",
    "* [1/3 pts] There is lon, lat, and speed for each drifter: looks like just ACTIVE LOG data, and it isn't stored in a way that can be called independently\n",
    "* [2/2 pts] Solution deals with empty values: avoids that problem with length of data needing to be long enough\n",
    "* [0/4 pts] The dictionary setup is correct so that it can be used like `gps['GANDALF']['speed']`: setup is incorrect\n",
    "* [0/5 pts] Passes all assertion tests [1 pt/assertion]: can't access data in the specified way\n",
    "---"
   ]
  },
  {
   "cell_type": "code",
   "execution_count": 119,
   "metadata": {
    "collapsed": false
   },
   "outputs": [
    {
     "name": "stdout",
     "output_type": "stream",
     "text": [
      "0.5\n",
      "0.5\n",
      "0.4791666666666667\n",
      "0.47942708333333334\n",
      "0.479425533234127\n"
     ]
    }
   ],
   "source": [
    "#11.(Grad) Constructing terms in a Taylor series to approximate a function. This expression gives an exact form\n",
    "#for sin(x) when an infinite number of terms are used; any truncation gives an approximation. \n",
    "#Write a loop that constructs terms from $k=0$ up to $k=N$. \n",
    "#Don't use any function for the factorial since we haven't gotten to NumPy... create it yourself, instead. \n",
    "#Provide the value of sin(0.5) with N=5 terms. How many terms do you need to include before the answer starts to plateau?\"\n",
    "\n",
    "def taylorseries(k, n):\n",
    "    a = k\n",
    "    s = a\n",
    "    for i in range(1, n):\n",
    "        a *= -1 * k**2 / ((2 * i) * (2 * i + 1))\n",
    "        s += a\n",
    "    return s\n",
    "for i in range(0,5,1):\n",
    "    print(taylorseries(0.5, i))"
   ]
  },
  {
   "cell_type": "markdown",
   "metadata": {
    "collapsed": true
   },
   "source": [
    "---\n",
    "**Grade**\n",
    "\n",
    "Grading rubric [8/10 points]:\n",
    "\n",
    "* [4/4 pts] Computes Taylor series for sine (though might not be in the correct set up for giving the numbers of terms requested)\n",
    "* [3/3 pts] Passes assertion for computing sin(0.5)\n",
    "* [0/1 pt] Uses correct number of terms: misses the N=5 term itself\n",
    "* [1/2 pts] Says something about the answer plateau or converging quickly: you provide the information but make no statement\n",
    "---"
   ]
  }
 ],
 "metadata": {
  "kernelspec": {
   "display_name": "Python 3",
   "language": "python",
   "name": "python3"
  },
  "language_info": {
   "codemirror_mode": {
    "name": "ipython",
    "version": 3
   },
   "file_extension": ".py",
   "mimetype": "text/x-python",
   "name": "python",
   "nbconvert_exporter": "python",
   "pygments_lexer": "ipython3",
   "version": "3.5.1"
  }
 },
 "nbformat": 4,
 "nbformat_minor": 0
}
