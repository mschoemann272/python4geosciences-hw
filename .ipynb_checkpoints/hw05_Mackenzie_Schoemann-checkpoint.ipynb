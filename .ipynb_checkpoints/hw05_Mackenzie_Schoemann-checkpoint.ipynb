{
 "cells": [
  {
   "cell_type": "markdown",
   "metadata": {},
   "source": [
    "# Homework 05\n",
    "\n",
    "## Due Tuesday, March 29th"
   ]
  },
  {
   "cell_type": "markdown",
   "metadata": {},
   "source": [
    "### 1. Flyover states\n",
    "\n",
    "_[This is very similar to the exercise done in class. This is a continuation.]_\n",
    "\n",
    "What states do you see when you fly from LA (airport code LAX) to NYC (airport code EWR)?\n",
    "\n",
    "> LAX: 33.9425° N, 118.4081° W\n",
    "\n",
    "> EWR: 40.6925° N, 74.1686° W\n",
    "\n",
    "Load in the `states_21basic` shapefile using these commands:\n",
    "\n",
    "    from mpl_toolkits.basemap import Basemap\n",
    "    m = Basemap(llcrnrlon=-150.,llcrnrlat=20.,\n",
    "            urcrnrlon=-50.,urcrnrlat=50.,\n",
    "            rsphere=(6378137.00,6356752.3142),\n",
    "            resolution='l',projection='merc',\n",
    "            lat_0=40.,lon_0=-100.,lat_ts=20.)\n",
    "    m.readshapefile('../materials/states_21basic/states', 'states')\n",
    "\n",
    "The boundary information for all of the states is now held in an attribute of the map object `m.states`, which is a list of lists of x-y pairs denoting the boundaries. Next use the `m.gcpoints` function to get the points along the great circle path. Convert all of these things into Shapely objects, and check for intersections. Add a buffer of 100km to the flight path to see what states you might potentially see along the way. Use this analysis to provide the following:\n",
    "\n",
    "1. Create and display a map that shows the flight path, with the states that are seen along the flight path clearly highlighted in some way.\n",
    "\n",
    "2. Use the information in m.states_info to extract and print a list containing the names of the states seen, with unique names. (see `np.unique`)\n"
   ]
  },
  {
   "cell_type": "code",
   "execution_count": 3,
   "metadata": {
    "collapsed": false
   },
   "outputs": [
    {
     "ename": "OSError",
     "evalue": "cannot locate ../materials/states_21basic/states.shp",
     "output_type": "error",
     "traceback": [
      "\u001b[0;31m---------------------------------------------------------------------------\u001b[0m",
      "\u001b[0;31mOSError\u001b[0m                                   Traceback (most recent call last)",
      "\u001b[0;32m<ipython-input-3-dd69b4855932>\u001b[0m in \u001b[0;36m<module>\u001b[0;34m()\u001b[0m\n\u001b[1;32m      5\u001b[0m         \u001b[0mresolution\u001b[0m\u001b[0;34m=\u001b[0m\u001b[0;34m'l'\u001b[0m\u001b[0;34m,\u001b[0m\u001b[0mprojection\u001b[0m\u001b[0;34m=\u001b[0m\u001b[0;34m'merc'\u001b[0m\u001b[0;34m,\u001b[0m\u001b[0;34m\u001b[0m\u001b[0m\n\u001b[1;32m      6\u001b[0m         lat_0=40.,lon_0=-100.,lat_ts=20.)\n\u001b[0;32m----> 7\u001b[0;31m \u001b[0mm\u001b[0m\u001b[0;34m.\u001b[0m\u001b[0mreadshapefile\u001b[0m\u001b[0;34m(\u001b[0m\u001b[0;34m'../materials/states_21basic/states'\u001b[0m\u001b[0;34m,\u001b[0m \u001b[0;34m'states'\u001b[0m\u001b[0;34m)\u001b[0m\u001b[0;34m\u001b[0m\u001b[0m\n\u001b[0m",
      "\u001b[0;32m/Users/Geography/anaconda/lib/python3.5/site-packages/mpl_toolkits/basemap/__init__.py\u001b[0m in \u001b[0;36mreadshapefile\u001b[0;34m(self, shapefile, name, drawbounds, zorder, linewidth, color, antialiased, ax, default_encoding)\u001b[0m\n\u001b[1;32m   2122\u001b[0m         \u001b[0mshp\u001b[0m\u001b[0;34m.\u001b[0m\u001b[0mdefault_encoding\u001b[0m \u001b[0;34m=\u001b[0m \u001b[0mdefault_encoding\u001b[0m\u001b[0;34m\u001b[0m\u001b[0m\n\u001b[1;32m   2123\u001b[0m         \u001b[0;32mif\u001b[0m \u001b[0;32mnot\u001b[0m \u001b[0mos\u001b[0m\u001b[0;34m.\u001b[0m\u001b[0mpath\u001b[0m\u001b[0;34m.\u001b[0m\u001b[0mexists\u001b[0m\u001b[0;34m(\u001b[0m\u001b[0;34m'%s.shp'\u001b[0m\u001b[0;34m%\u001b[0m\u001b[0mshapefile\u001b[0m\u001b[0;34m)\u001b[0m\u001b[0;34m:\u001b[0m\u001b[0;34m\u001b[0m\u001b[0m\n\u001b[0;32m-> 2124\u001b[0;31m             \u001b[0;32mraise\u001b[0m \u001b[0mIOError\u001b[0m\u001b[0;34m(\u001b[0m\u001b[0;34m'cannot locate %s.shp'\u001b[0m\u001b[0;34m%\u001b[0m\u001b[0mshapefile\u001b[0m\u001b[0;34m)\u001b[0m\u001b[0;34m\u001b[0m\u001b[0m\n\u001b[0m\u001b[1;32m   2125\u001b[0m         \u001b[0;32mif\u001b[0m \u001b[0;32mnot\u001b[0m \u001b[0mos\u001b[0m\u001b[0;34m.\u001b[0m\u001b[0mpath\u001b[0m\u001b[0;34m.\u001b[0m\u001b[0mexists\u001b[0m\u001b[0;34m(\u001b[0m\u001b[0;34m'%s.shx'\u001b[0m\u001b[0;34m%\u001b[0m\u001b[0mshapefile\u001b[0m\u001b[0;34m)\u001b[0m\u001b[0;34m:\u001b[0m\u001b[0;34m\u001b[0m\u001b[0m\n\u001b[1;32m   2126\u001b[0m             \u001b[0;32mraise\u001b[0m \u001b[0mIOError\u001b[0m\u001b[0;34m(\u001b[0m\u001b[0;34m'cannot locate %s.shx'\u001b[0m\u001b[0;34m%\u001b[0m\u001b[0mshapefile\u001b[0m\u001b[0;34m)\u001b[0m\u001b[0;34m\u001b[0m\u001b[0m\n",
      "\u001b[0;31mOSError\u001b[0m: cannot locate ../materials/states_21basic/states.shp"
     ]
    }
   ],
   "source": [
    "from mpl_toolkits.basemap import Basemap\n",
    "m = Basemap(llcrnrlon=-150.,llcrnrlat=20.,\n",
    "        urcrnrlon=-50.,urcrnrlat=50.,\n",
    "        rsphere=(6378137.00,6356752.3142),\n",
    "        resolution='l',projection='merc',\n",
    "        lat_0=40.,lon_0=-100.,lat_ts=20.)\n",
    "m.readshapefile('../materials/states_21basic/states', 'states')"
   ]
  },
  {
   "cell_type": "markdown",
   "metadata": {},
   "source": [
    "### 2. Area in a Voronoi diagram\n",
    "\n",
    "Given the series of points:\n",
    "\n",
    "     np.array([[ 0.77354201,  0.34072038],\n",
    "               [ 0.43807549,  0.93001924],\n",
    "               [ 0.5624092 ,  0.79438991],\n",
    "               [ 0.02536295,  0.46180244],\n",
    "               [ 0.59533179,  0.07522803],\n",
    "               [ 0.47867418,  0.70302822],\n",
    "               [ 0.30371564,  0.83135442],\n",
    "               [ 0.5856915 ,  0.16340903],\n",
    "               [ 0.14700491,  0.60268997],\n",
    "               [ 0.97098631,  0.51692456]])\n",
    "               \n",
    "create a Voronoi diagram, and calculate the area contained in the finite regions. What fraction of the total area is at least 0.001 unit away from any boundary? 0.01 away? And 0.1 away?\n"
   ]
  },
  {
   "cell_type": "markdown",
   "metadata": {
    "collapsed": false
   },
   "source": [
    "### 3. 2D interpolation\n",
    "\n",
    "Data (found in `python4geosciences/data/MS03_L15.txt`) gathered from a field cruise out of the TAMU Oceanography department is randomly located in space (that is, unstructured) because of the nature of the measurement: the instrument is lowered into the water from a ship, and is brought up and down through the water column as the ship moves to get a sampling of the fields.\n",
    "\n",
    "Read in the data file and plot the temperature in a `scatter` plot as a function of depth and latitude. Next, interpolate the temperature data to be on a uniform grid (to make it structured). Now, plot it using `contourf`, which requires structured data. Experiment with different spacing in your uniform grid, and with different numbers of contours to see how the results change, and choose values that provide a nice-looking image which closely resembles the original data."
   ]
  },
  {
   "cell_type": "markdown",
   "metadata": {
    "collapsed": false
   },
   "source": [
    "### 4. (Grad) Area of Greenland and Australia in different projections\n",
    "\n",
    "Set up Basemap instances of the following projections: Mercator, Robinson, and Mollweide; make sure that all three projections are set up to show both Greenland and Australia at the same time (this is necessary for Mercator in particular). Plot them side-by-side to see how they compare.\n",
    "\n",
    "Next, read in the shape files for Greenland and Australia, found in the `data` directory; you can do this with something like the following (but you might need to change the directory path):\n",
    "\n",
    "> m.readshapefile('../python4geosciences/data/GRL_adm_shp/GRL_adm0', 'greenland', drawbounds=False)\n",
    "> m.readshapefile('../python4geosciences/data/AUS_adm_shp/AUS_adm0', 'australia', drawbounds=False)\n",
    "\n",
    "where `m` is a `Basemap` instance. This gives you a series of polygons that make up each country, saved in `m.greenland` and `m.australia`. Find the area of the two countries in each projection and compare them. What is the area of Australia relative to the area of Greenland for each projection, and how does this compare to what it is in reality?"
   ]
  }
 ],
 "metadata": {
  "kernelspec": {
   "display_name": "Python 3",
   "language": "python",
   "name": "python3"
  },
  "language_info": {
   "codemirror_mode": {
    "name": "ipython",
    "version": 3
   },
   "file_extension": ".py",
   "mimetype": "text/x-python",
   "name": "python",
   "nbconvert_exporter": "python",
   "pygments_lexer": "ipython3",
   "version": "3.5.1"
  }
 },
 "nbformat": 4,
 "nbformat_minor": 0
}
