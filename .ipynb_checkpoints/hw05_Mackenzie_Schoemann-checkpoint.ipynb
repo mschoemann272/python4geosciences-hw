{
 "cells": [
  {
   "cell_type": "markdown",
   "metadata": {},
   "source": [
    "# Homework 05\n",
    "\n",
    "## Due Tuesday, March 29th"
   ]
  },
  {
   "cell_type": "code",
   "execution_count": 6,
   "metadata": {
    "collapsed": true
   },
   "outputs": [],
   "source": [
    "import numpy as np\n",
    "import matplotlib.pyplot as plt\n",
    "%matplotlib inline\n",
    "from mpl_toolkits.basemap import Basemap"
   ]
  },
  {
   "cell_type": "markdown",
   "metadata": {},
   "source": [
    "### 1. Flyover states\n",
    "\n",
    "_[This is very similar to the exercise done in class. This is a continuation.]_\n",
    "\n",
    "What states do you see when you fly from LA (airport code LAX) to NYC (airport code EWR)?\n",
    "\n",
    "> LAX: 33.9425° N, 118.4081° W\n",
    "\n",
    "> EWR: 40.6925° N, 74.1686° W\n",
    "\n",
    "Load in the `states_21basic` shapefile using these commands:\n",
    "\n",
    "    from mpl_toolkits.basemap import Basemap\n",
    "    m = Basemap(llcrnrlon=-150.,llcrnrlat=20.,\n",
    "            urcrnrlon=-50.,urcrnrlat=50.,\n",
    "            rsphere=(6378137.00,6356752.3142),\n",
    "            resolution='l',projection='merc',\n",
    "            lat_0=40.,lon_0=-100.,lat_ts=20.)\n",
    "    m.readshapefile('../materials/states_21basic/states', 'states')\n",
    "\n",
    "The boundary information for all of the states is now held in an attribute of the map object `m.states`, which is a list of lists of x-y pairs denoting the boundaries. Next use the `m.gcpoints` function to get the points along the great circle path. Convert all of these things into Shapely objects, and check for intersections. Add a buffer of 100km to the flight path to see what states you might potentially see along the way. Use this analysis to provide the following:\n",
    "\n",
    "1. Create and display a map that shows the flight path, with the states that are seen along the flight path clearly highlighted in some way.\n",
    "\n",
    "2. Use the information in m.states_info to extract and print a list containing the names of the states seen, with unique names. (see `np.unique`)\n"
   ]
  },
  {
   "cell_type": "code",
   "execution_count": 7,
   "metadata": {
    "collapsed": false,
    "scrolled": true
   },
   "outputs": [
    {
     "data": {
      "text/plain": [
       "[<matplotlib.lines.Line2D at 0x10326acf8>]"
      ]
     },
     "execution_count": 7,
     "metadata": {},
     "output_type": "execute_result"
    },
    {
     "data": {
      "image/png": "[encoded data removed]",
      "text/plain": [
       "<matplotlib.figure.Figure at 0x10bb95f98>"
      ]
     },
     "metadata": {},
     "output_type": "display_data"
    }
   ],
   "source": [
    "from mpl_toolkits.basemap import Basemap\n",
    "m = Basemap(llcrnrlon=-150.,llcrnrlat=20.,\n",
    "        urcrnrlon=-50.,urcrnrlat=50.,\n",
    "        rsphere=(6378137.00,6356752.3142),\n",
    "        resolution='l',projection='merc',\n",
    "        lat_0=40.,lon_0=-100.,lat_ts=20.)\n",
    "m.readshapefile('../python4geosciences-hw/materials/states_21basic/states', 'states')\n",
    "\n",
    "\n",
    "x,y = m.gcpoints(-118.4081, 33.9425, -74.1686, 40.6925, 1000)\n",
    "m.fillcontinents()\n",
    "plt.plot(x,y,'-b',lw=3)"
   ]
  },
  {
   "cell_type": "markdown",
   "metadata": {},
   "source": [
    "### 2. Area in a Voronoi diagram\n",
    "\n",
    "Given the series of points:\n",
    "\n",
    "     np.array([[ 0.77354201,  0.34072038],\n",
    "               [ 0.43807549,  0.93001924],\n",
    "               [ 0.5624092 ,  0.79438991],\n",
    "               [ 0.02536295,  0.46180244],\n",
    "               [ 0.59533179,  0.07522803],\n",
    "               [ 0.47867418,  0.70302822],\n",
    "               [ 0.30371564,  0.83135442],\n",
    "               [ 0.5856915 ,  0.16340903],\n",
    "               [ 0.14700491,  0.60268997],\n",
    "               [ 0.97098631,  0.51692456]])\n",
    "               \n",
    "create a Voronoi diagram, and calculate the area contained in the finite regions. What fraction of the total area is at least 0.001 unit away from any boundary? 0.01 away? And 0.1 away?\n"
   ]
  },
  {
   "cell_type": "code",
   "execution_count": null,
   "metadata": {
    "collapsed": true
   },
   "outputs": [],
   "source": []
  },
  {
   "cell_type": "markdown",
   "metadata": {
    "collapsed": false
   },
   "source": [
    "### 3. 2D interpolation\n",
    "\n",
    "Data (found in `python4geosciences/data/MS03_L15.txt`) gathered from a field cruise out of the TAMU Oceanography department is randomly located in space (that is, unstructured) because of the nature of the measurement: the instrument is lowered into the water from a ship, and is brought up and down through the water column as the ship moves to get a sampling of the fields.\n",
    "\n",
    "Read in the data file and plot the temperature in a `scatter` plot as a function of depth and latitude. Next, interpolate the temperature data to be on a uniform grid (to make it structured). Now, plot it using `contourf`, which requires structured data. Experiment with different spacing in your uniform grid, and with different numbers of contours to see how the results change, and choose values that provide a nice-looking image which closely resembles the original data."
   ]
  },
  {
   "cell_type": "code",
   "execution_count": null,
   "metadata": {
    "collapsed": true
   },
   "outputs": [],
   "source": []
  },
  {
   "cell_type": "markdown",
   "metadata": {
    "collapsed": false
   },
   "source": [
    "### 4. (Grad) Area of Greenland and Australia in different projections\n",
    "\n",
    "Set up Basemap instances of the following projections: Mercator, Robinson, and Mollweide; make sure that all three projections are set up to show both Greenland and Australia at the same time (this is necessary for Mercator in particular). Plot them side-by-side to see how they compare.\n",
    "\n",
    "Next, read in the shape files for Greenland and Australia, found in the `data` directory; you can do this with something like the following (but you might need to change the directory path):\n",
    "\n",
    "> m.readshapefile('../python4geosciences/data/GRL_adm_shp/GRL_adm0', 'greenland', drawbounds=False)\n",
    "> m.readshapefile('../python4geosciences/data/AUS_adm_shp/AUS_adm0', 'australia', drawbounds=False)\n",
    "\n",
    "where `m` is a `Basemap` instance. This gives you a series of polygons that make up each country, saved in `m.greenland` and `m.australia`. Find the area of the two countries in each projection and compare them. What is the area of Australia relative to the area of Greenland for each projection, and how does this compare to what it is in reality?"
   ]
  },
  {
   "cell_type": "code",
   "execution_count": 8,
   "metadata": {
    "collapsed": false
   },
   "outputs": [
    {
     "data": {
      "text/plain": [
       "(1,\n",
       " 5,\n",
       " [112.91972351074276, -55.11694335937477, 0.0, 0.0],\n",
       " [159.25608825683616, -9.221098899841202, 0.0, 0.0])"
      ]
     },
     "execution_count": 8,
     "metadata": {},
     "output_type": "execute_result"
    }
   ],
   "source": [
    "m.readshapefile('../python4geosciences-hw/data/GRL_adm_shp/GRL_adm0', 'greenland', drawbounds=False)\n",
    "m.readshapefile('../python4geosciences-hw/data/AUS_adm_shp/AUS_adm0', 'australia', drawbounds=False)"
   ]
  },
  {
   "cell_type": "code",
   "execution_count": null,
   "metadata": {
    "collapsed": true
   },
   "outputs": [],
   "source": [
    "#Mercator"
   ]
  },
  {
   "cell_type": "code",
   "execution_count": null,
   "metadata": {
    "collapsed": false
   },
   "outputs": [],
   "source": [
    "#Robinson"
   ]
  },
  {
   "cell_type": "code",
   "execution_count": null,
   "metadata": {
    "collapsed": true
   },
   "outputs": [],
   "source": [
    "#Mollweide"
   ]
  }
 ],
 "metadata": {
  "kernelspec": {
   "display_name": "Python 3",
   "language": "python",
   "name": "python3"
  }
 },
 "nbformat": 4,
 "nbformat_minor": 0
}
