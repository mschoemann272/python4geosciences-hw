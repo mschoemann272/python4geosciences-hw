{
 "cells": [
  {
   "cell_type": "markdown",
   "metadata": {},
   "source": [
    "# Homework 03\n",
    "\n",
    "## Due Tuesday, February 16th"
   ]
  },
  {
   "cell_type": "code",
   "execution_count": 143,
   "metadata": {
    "collapsed": true
   },
   "outputs": [],
   "source": [
    "import numpy as np\n",
    "import time\n",
    "from numpy.lib import stride_tricks\n",
    "import glob"
   ]
  },
  {
   "cell_type": "markdown",
   "metadata": {},
   "source": [
    "### 1. Vector manipulation\n",
    "\n",
    "Create a vector of zeros of size 10 but have the fifth value be 1."
   ]
  },
  {
   "cell_type": "code",
   "execution_count": 121,
   "metadata": {
    "collapsed": false
   },
   "outputs": [
    {
     "name": "stdout",
     "output_type": "stream",
     "text": [
      "[ 0.  0.  0.  0.  1.  0.  0.  0.  0.  0.]\n"
     ]
    }
   ],
   "source": [
    "a = np.zeros(10)  #creating a vector of zeros, size 10\n",
    "a[4]=1   #Make the 5th value a 1 in the array\n",
    "print(a)"
   ]
  },
  {
   "cell_type": "markdown",
   "metadata": {},
   "source": [
    "### 2. Vector range\n",
    "\n",
    "Create a vector with values ranging from 10 to 49, inclusive."
   ]
  },
  {
   "cell_type": "code",
   "execution_count": 122,
   "metadata": {
    "collapsed": false
   },
   "outputs": [
    {
     "data": {
      "text/plain": [
       "array([10, 11, 12, 13, 14, 15, 16, 17, 18, 19, 20, 21, 22, 23, 24, 25, 26,\n",
       "       27, 28, 29, 30, 31, 32, 33, 34, 35, 36, 37, 38, 39, 40, 41, 42, 43,\n",
       "       44, 45, 46, 47, 48, 49])"
      ]
     },
     "execution_count": 122,
     "metadata": {},
     "output_type": "execute_result"
    }
   ],
   "source": [
    "b = range(10,50)\n",
    "np.array(b)"
   ]
  },
  {
   "cell_type": "markdown",
   "metadata": {},
   "source": [
    "### 3. Reverse a vector\n",
    "\n",
    "Write a function, `reverse(x)` which reverses a vector, so that the first element becomes the last element. The API should be\n",
    "\n",
    "    return a 1D vector with the elements reversed\n",
    "    \n",
    "    Input\n",
    "    -----\n",
    "        x: 1D array\n",
    "    \n",
    "    Output\n",
    "    ------\n",
    "        res: 1D array, with the elements of `x` reversed\n",
    "\n",
    "Include this (or an equivalent description) in the function's docstring."
   ]
  },
  {
   "cell_type": "code",
   "execution_count": 123,
   "metadata": {
    "collapsed": false
   },
   "outputs": [
    {
     "data": {
      "text/plain": [
       "[10, 9, 8, 7, 6, 5, 4, 3, 2, 1]"
      ]
     },
     "execution_count": 123,
     "metadata": {},
     "output_type": "execute_result"
    }
   ],
   "source": [
    "x = [1, 2, 3, 4, 5, 6, 7, 8, 9, 10]\n",
    "\n",
    "def reverse(x):\n",
    "    '''return a 1D vector with the elements reversed\n",
    "Input x: 1D array\n",
    "Output res: 1D array, with the elements of `x` reversed'''\n",
    "    return x[::-1]\n",
    "x.reverse()  #the numpy method to reverse an array\n",
    "x"
   ]
  },
  {
   "cell_type": "markdown",
   "metadata": {},
   "source": [
    "### 4. Find indices of non-zero elements\n",
    "\n",
    "Write a function `find_nonzero(x)` that finds the indices of non-zero elements, with an API like\n",
    "\n",
    "    return the indices of non-zero elements of an array.\n",
    "\n",
    "    Input:      x:  array\n",
    "    Output:     indices: array of integer indices\n",
    "\n",
    "Use the function to get out the non-zero elements from an array containing the elements [1,2,0,0,4,0]."
   ]
  },
  {
   "cell_type": "code",
   "execution_count": 124,
   "metadata": {
    "collapsed": false
   },
   "outputs": [
    {
     "name": "stdout",
     "output_type": "stream",
     "text": [
      "(array([0, 1, 4]),)\n"
     ]
    }
   ],
   "source": [
    "x = [1, 2, 0, 0, 4, 0]\n",
    "def find_nonzero(x):\n",
    "    \"\"\"return the indices of non-zero elements of an array.\n",
    "Input: x:  array\n",
    "Output:indices: array of integer indices\"\"\"\n",
    "    np.nonzero(x==0)[0]\n",
    "        \n",
    "print(np.nonzero(x))"
   ]
  },
  {
   "cell_type": "markdown",
   "metadata": {},
   "source": [
    "### 5. Array with random values\n",
    "\n",
    "Create a 3x3x3 array with normally distributed ($\\mu =0, \\sigma=1)$ random values."
   ]
  },
  {
   "cell_type": "code",
   "execution_count": 125,
   "metadata": {
    "collapsed": false
   },
   "outputs": [
    {
     "name": "stdout",
     "output_type": "stream",
     "text": [
      "[[[ 0.48899837  0.58215781  0.68461569]\n",
      "  [ 0.52624503  0.35674852  0.39464099]\n",
      "  [ 0.60981391  0.28633913  0.56291671]]\n",
      "\n",
      " [[ 0.42397975  0.52886254  0.1929187 ]\n",
      "  [ 0.39952627  0.45923108  0.41646761]\n",
      "  [ 0.45208478  0.38195362  0.60359539]]\n",
      "\n",
      " [[ 0.45494843  0.69342458  0.45230894]\n",
      "  [ 0.48731107  0.64972849  0.41494083]\n",
      "  [ 0.34549931  0.56766619  0.42591677]]]\n"
     ]
    }
   ],
   "source": [
    "μ,σ = 0.5,0.1\n",
    "s = np.random.normal(μ,σ,(3,3,3))\n",
    "print(s)"
   ]
  },
  {
   "cell_type": "markdown",
   "metadata": {},
   "source": [
    "### 6. Operations on an array with random values\n",
    "\n",
    "Create a 10x10 array with random values. Find \n",
    "- the minimum value of the 2nd row\n",
    "- the maximum value of the 4th column"
   ]
  },
  {
   "cell_type": "code",
   "execution_count": 126,
   "metadata": {
    "collapsed": false
   },
   "outputs": [
    {
     "name": "stdout",
     "output_type": "stream",
     "text": [
      "[[99  3 32 94  2 60  2 62 10 96]\n",
      " [89 76 30  6 86 90 35  5 40 51]\n",
      " [62 51 53 94 63  3 31 88 87  7]\n",
      " [96 12 80 44  9  5 20 78 39  5]\n",
      " [14 65 13 20 34 44 39 43 77 86]\n",
      " [29 17 76 54 18 88 72 48 76 65]\n",
      " [98 21 14 29 42 26 18  0 91 57]\n",
      " [14 80 47 21 78 95 87 79 29 38]\n",
      " [93 85 46 13 14 30 19 27 63 38]\n",
      " [38 56 80 13 28 59 68  8 76 77]]\n",
      "5\n",
      "94\n"
     ]
    }
   ],
   "source": [
    "arr = np.random.randint(100, size=(10, 10))\n",
    "arr\n",
    "\n",
    "print(arr)\n",
    "\n",
    "a = arr[1]\n",
    "imin = a.argmin()\n",
    "print(a.min())\n",
    "\n",
    "x = arr[:, 3]\n",
    "imax = x.argmax()\n",
    "print(x.max())"
   ]
  },
  {
   "cell_type": "markdown",
   "metadata": {},
   "source": [
    "### 7. Vector without end points\n",
    "\n",
    "Create a vector of size 10 with values ranging from 0 to 1, both excluded."
   ]
  },
  {
   "cell_type": "code",
   "execution_count": 127,
   "metadata": {
    "collapsed": false
   },
   "outputs": [
    {
     "name": "stdout",
     "output_type": "stream",
     "text": [
      "[[ 0.09090909  0.18181818  0.27272727  0.36363636  0.45454545]\n",
      " [ 0.54545455  0.63636364  0.72727273  0.81818182  0.90909091]]\n"
     ]
    }
   ],
   "source": [
    "t = np.linspace(0,1,12,endpoint=True)[1:-1]\n",
    "print(t.reshape(2,5))"
   ]
  },
  {
   "cell_type": "markdown",
   "metadata": {},
   "source": [
    "### 8. Sorted random vector\n",
    "\n",
    "Create a random vector of size 10, then sort it."
   ]
  },
  {
   "cell_type": "code",
   "execution_count": 128,
   "metadata": {
    "collapsed": false
   },
   "outputs": [
    {
     "name": "stdout",
     "output_type": "stream",
     "text": [
      "[ 0.02583303  0.03223913  0.18437247  0.25985859  0.45291426  0.51562866\n",
      "  0.59213792  0.74654016  0.74929491  0.77386093]\n"
     ]
    }
   ],
   "source": [
    "a = np.random.random(10)\n",
    "a.sort()\n",
    "print(a)"
   ]
  },
  {
   "cell_type": "markdown",
   "metadata": {},
   "source": [
    "### 9. Test for array equality\n",
    "\n",
    "Write a function `is_equal(A, B)` that compare two arrays `A` and `B` and checks to see if they are equal. \n",
    "\n",
    "    return True if two arrays are the same shape and all the elements are equal.\n",
    "    \n",
    "    Inputs:\n",
    "        A, B:  array\n",
    "    Output:\n",
    "        Bool:  True if A and B have the same shape and identical elements.\n",
    "\n",
    "The arrays count as equal if they are the same shape and all elements in the array are equal."
   ]
  },
  {
   "cell_type": "code",
   "execution_count": 129,
   "metadata": {
    "collapsed": false
   },
   "outputs": [
    {
     "name": "stdout",
     "output_type": "stream",
     "text": [
      "True\n"
     ]
    }
   ],
   "source": [
    "a = np.random.random(1)\n",
    "b = np.random.random(1)\n",
    "\n",
    "def is_equal(a, b):\n",
    "    '''return True if two arrays are the same shape and all the elements are equal.\n",
    "\n",
    "Inputs:\n",
    "    A, B:  array\n",
    "Output:\n",
    "    Bool:  True if A and B have the same shape and identical elements.\n",
    "'''\n",
    "    if a.all(a)== a.all(b):\n",
    "        return True\n",
    "    else:\n",
    "        return False\n",
    "    \n",
    "print(is_equal(a, b))"
   ]
  },
  {
   "cell_type": "markdown",
   "metadata": {},
   "source": [
    "### 10. Subtract the row mean from rows of a matrix\n",
    "\n",
    "Create a matrix. Then subtract the mean of each row of the matrix from the respective row. Do this without using a loop (that is, using array operations)."
   ]
  },
  {
   "cell_type": "code",
   "execution_count": 130,
   "metadata": {
    "collapsed": false,
    "scrolled": true
   },
   "outputs": [
    {
     "name": "stdout",
     "output_type": "stream",
     "text": [
      "[[ 0.45379575  0.24295165  0.74552922  0.08722817]\n",
      " [ 0.94421727  0.62735614  0.06584797  0.19587674]\n",
      " [ 0.44458007  0.72434769  0.48472094  0.37593566]\n",
      " [ 0.24941959  0.08611676  0.57286458  0.8881052 ]]\n",
      "[[ 0.07141955 -0.13942455  0.36315302 -0.29514802]\n",
      " [ 0.48589274  0.16903161 -0.39247656 -0.26244779]\n",
      " [-0.06281602  0.2169516  -0.02267515 -0.13146043]\n",
      " [-0.19970694 -0.36300977  0.12373804  0.43897867]]\n"
     ]
    }
   ],
   "source": [
    "a = np.random.rand(4,4) #create a new matrix\n",
    "b = a - a.mean(axis=1)[:, np.newaxis] #subtracting the mean from the rows\n",
    "\n",
    "print(a)\n",
    "print(b)"
   ]
  },
  {
   "cell_type": "markdown",
   "metadata": {},
   "source": [
    "### 11. Multiply arrays\n",
    "\n",
    "Multiply an array of dimension (5,5,3) with an array with dimensions (5,5). Then multiply an array of dimension (3,5,5) with an array of dimension (5,5)."
   ]
  },
  {
   "cell_type": "code",
   "execution_count": 131,
   "metadata": {
    "collapsed": false,
    "scrolled": true
   },
   "outputs": [
    {
     "name": "stdout",
     "output_type": "stream",
     "text": [
      "[[[ 0.21996436  0.12125802  0.28392392]\n",
      "  [ 0.01240731  0.01694947  0.01458196]\n",
      "  [ 0.45624215  0.40322532  0.82903884]\n",
      "  [ 0.00272245  0.01114884  0.02354566]\n",
      "  [ 0.6090617   0.11046153  0.52450853]]\n",
      "\n",
      " [[ 0.42997511  0.24825846  0.3328942 ]\n",
      "  [ 0.19388631  0.03629394  0.22251868]\n",
      "  [ 0.04748424  0.0468113   0.04191224]\n",
      "  [ 0.05139729  0.10219679  0.10301366]\n",
      "  [ 0.13545056  0.12673648  0.01336103]]\n",
      "\n",
      " [[ 0.40547592  0.12445831  0.26016544]\n",
      "  [ 0.523064    0.23344488  0.44533624]\n",
      "  [ 0.27427357  0.51984291  0.34130466]\n",
      "  [ 0.10867145  0.2002493   0.01307071]\n",
      "  [ 0.00755128  0.0112109   0.00347298]]\n",
      "\n",
      " [[ 0.34299909  0.6985858   0.60677025]\n",
      "  [ 0.00097726  0.00178527  0.00089439]\n",
      "  [ 0.27266774  0.26287723  0.23670623]\n",
      "  [ 0.0739592   0.65179384  0.76352763]\n",
      "  [ 0.38247113  0.20850683  0.01017299]]\n",
      "\n",
      " [[ 0.39305273  0.57777295  0.31478951]\n",
      "  [ 0.12233759  0.4114695   0.47857938]\n",
      "  [ 0.48044597  0.43321007  0.22577902]\n",
      "  [ 0.60997105  0.889934    0.072617  ]\n",
      "  [ 0.01821989  0.07469431  0.05798179]]]\n",
      "[[[  1.78304878e-02   9.47556143e-03   2.68418453e-01   1.04075242e-02\n",
      "     1.76938858e-01]\n",
      "  [  1.39076683e-01   5.12581981e-02   5.19426359e-02   1.03729062e-01\n",
      "     1.59128613e-02]\n",
      "  [  4.62121388e-01   7.52501476e-01   2.45669851e-01   5.73852299e-01\n",
      "     1.02558087e-02]\n",
      "  [  4.14695395e-01   2.13658545e-03   2.56455512e-01   3.53862910e-01\n",
      "     1.93633352e-02]\n",
      "  [  1.09331493e-01   3.58053448e-02   4.91927567e-01   6.29418442e-01\n",
      "     3.15658935e-02]]\n",
      "\n",
      " [[  3.39703314e-01   6.37037580e-03   8.91657969e-02   2.68182802e-02\n",
      "     7.57538099e-01]\n",
      "  [  3.17478487e-02   1.28672902e-01   1.53513541e-02   8.87019482e-02\n",
      "     2.88403354e-02]\n",
      "  [  5.06705174e-01   4.83639186e-01   3.43370020e-01   5.05536014e-01\n",
      "     1.25530592e-02]\n",
      "  [  6.53206319e-01   5.49681192e-04   2.13799135e-01   3.25526999e-01\n",
      "     1.49329565e-01]\n",
      "  [  2.99371394e-01   3.60177513e-01   4.85191497e-01   7.47189214e-01\n",
      "     8.46099873e-02]]\n",
      "\n",
      " [[  1.24641426e-01   9.50323742e-03   2.63557509e-01   7.71562509e-03\n",
      "     6.53795427e-01]\n",
      "  [  7.42192700e-01   8.51083684e-02   2.00717379e-03   2.10224786e-02\n",
      "     1.55320855e-01]\n",
      "  [  1.22875455e-01   5.38657926e-01   1.80422517e-01   6.09889878e-03\n",
      "     4.01682180e-03]\n",
      "  [  4.17626100e-01   8.07012999e-04   2.01450044e-01   1.09122444e-01\n",
      "     8.27398899e-02]\n",
      "  [  5.06166948e-01   4.59283899e-01   2.74106389e-01   3.41687903e-01\n",
      "     2.82689938e-04]]]\n"
     ]
    }
   ],
   "source": [
    "a = np.random.random((5,5,3))\n",
    "b = np.random.random((5,5))\n",
    "c = np.random.random((3,5,5))\n",
    "b2 = b[:, : , np.newaxis]   #create a new dimension so they arrays can be multiplied, otherwise an array with dimension(5,5,3) and (5,5) cannot be multiplied\n",
    "solution1 = a * b2  #multiplying array dimension (5,5,3) and (5,5)\n",
    "solution2 = b * c  #multiplying array dimension (3,5,5) and (5,5) np.dot function can be used for matrix multiplication\n",
    "\n",
    "print(solution1)\n",
    "print(solution2)"
   ]
  },
  {
   "cell_type": "markdown",
   "metadata": {},
   "source": [
    "### 12. Creating a new array\n",
    "\n",
    "Starting with an array\n",
    "\n",
    "    Z = [1,2,3,4,5,6,7,8,9,10,11,12,13,14].\n",
    "    \n",
    "Generate an array \n",
    "\n",
    "    R = [[1,2,3,4], [2,3,4,5], [3,4,5,6], ..., [11,12,13,14]]. "
   ]
  },
  {
   "cell_type": "code",
   "execution_count": 132,
   "metadata": {
    "collapsed": false,
    "scrolled": false
   },
   "outputs": [
    {
     "name": "stdout",
     "output_type": "stream",
     "text": [
      "[[ 1  2  3  4]\n",
      " [ 2  3  4  5]\n",
      " [ 3  4  5  6]\n",
      " [ 4  5  6  7]\n",
      " [ 5  6  7  8]\n",
      " [ 6  7  8  9]\n",
      " [ 7  8  9 10]\n",
      " [ 8  9 10 11]\n",
      " [ 9 10 11 12]\n",
      " [10 11 12 13]\n",
      " [11 12 13 14]]\n"
     ]
    }
   ],
   "source": [
    "z = np.arange(1,15, dtype=np.uint32)\n",
    "r = stride_tricks.as_strided(z,(11,4),(4,4))\n",
    "print(r)"
   ]
  },
  {
   "cell_type": "markdown",
   "metadata": {},
   "source": [
    "### 13. Convert from Cartesian to polar coordinates\n",
    "\n",
    "Write a function `cart2polar(xy)` which takes in an Nx2 matrix of `x, y` pairs representing Cartesian coordinates and return the locations represented in polar coordinates in the same shape matrix. The API is\n",
    "\n",
    "    Return equivalent polar coordinates of specified cartesian points.\n",
    "    \n",
    "    Inputs:\n",
    "        xy: array\n",
    "             Nx2 array of Cartesian coordinates, with columns x and y respectively.\n",
    "\n",
    "    Returns:\n",
    "        rp: array\n",
    "            Nx2 array of polar coordinates, with columns radius and angle respectively\n"
   ]
  },
  {
   "cell_type": "code",
   "execution_count": 133,
   "metadata": {
    "collapsed": false,
    "scrolled": true
   },
   "outputs": [
    {
     "data": {
      "text/plain": [
       "(array([ 0.97812974,  0.22501968,  0.88614002,  0.77563467,  0.77162563,\n",
       "         0.97261897]),\n",
       " array([ 0.90185603,  0.97275724,  0.79881419,  0.0857813 ,  0.36044568,\n",
       "         1.31900759]))"
      ]
     },
     "execution_count": 133,
     "metadata": {},
     "output_type": "execute_result"
    }
   ],
   "source": [
    "r = np.random.rand(6,2)\n",
    "def cart2polar(r):\n",
    "    '''Return equivalent polar coordinates of specified cartesian points.\n",
    "\n",
    "Inputs:\n",
    "    xy: array\n",
    "         Nx2 array of Cartesian coordinates, with columns x and y respectively.\n",
    "\n",
    "Returns:\n",
    "    rp: array\n",
    "        Nx2 array of polar coordinates, with columns radius and angle respectively'''\n",
    "    x = r[:,0]  # 0 axis\n",
    "    y = r[:,1]  # 1 axis\n",
    "    r = np.sqrt(x**2 + y**2)\n",
    "    theta = np.arctan2(y,x)\n",
    "    return(r,theta)\n",
    "\n",
    "cart2polar(r)"
   ]
  },
  {
   "cell_type": "markdown",
   "metadata": {},
   "source": [
    "### 14. Compute and time for loops and array operations.\n",
    "\n",
    "Calculate the time it takes to do what we did in class\n",
    "\n",
    "    a = np.arange(1024.0).reshape(4, 8, 16, 2)   # a 4D array using sequential numbers\n",
    "    b = np.random.rand(4, 8, 16, 2)              # a 4D array using random numbers\n",
    "    sol = a * b  # element-by-element multiplication. This operation is about as fast as it can be on your computer.\n",
    "\n",
    "and the time required for doing the same operation with a series of 4 `for` loops, one for each dimension of the arrays. Compare the times by calculating a ratio."
   ]
  },
  {
   "cell_type": "code",
   "execution_count": 134,
   "metadata": {
    "collapsed": false,
    "scrolled": false
   },
   "outputs": [
    {
     "name": "stdout",
     "output_type": "stream",
     "text": [
      "0.0004 seconds have passed.\n",
      "0.0259 seconds have passed.\n",
      "58.508073196986004\n"
     ]
    }
   ],
   "source": [
    "t_start1 = time.time()\n",
    "a = np.arange(1024.0).reshape(4, 8, 16, 2)   # a 4D array using sequential numbers\n",
    "b = np.random.rand(4, 8, 16, 2)              # a 4D array using random numbers\n",
    "sol = a * b \n",
    "\n",
    "t_stop1 = time.time()\n",
    "time1 = t_stop1-t_start1\n",
    "\n",
    "print('{:6.4f} seconds have passed.'.format(t_stop1-t_start1))\n",
    "\n",
    "#looping over each dimension - a[i,j,k,l]*b[i,j,k,l] a nested loop for i,j,k,l \n",
    "t_start2 = time.time()\n",
    "array = []\n",
    "#create a new empty array\n",
    "for i in range(a.shape[0]): #start of a four for loop \n",
    "    for j in range(a.shape[1]):\n",
    "        for k in range(a.shape[2]):\n",
    "            for l in range(a.shape[3]):\n",
    "                array = np.append(array, a[i, j, k, l]*b[i, j, k, l])\n",
    "\n",
    "array.reshape(4, 8, 16, 2)\n",
    "t_stop2 = time.time()\n",
    "time2 = t_stop2-t_start2\n",
    "print('{:6.4f} seconds have passed.'.format(t_stop2-t_start2))\n",
    "\n",
    "ratio = time2/time1\n",
    "print(ratio)"
   ]
  },
  {
   "cell_type": "markdown",
   "metadata": {},
   "source": [
    "### 15. Fix the code\n",
    "\n",
    "This code needs to be fixed so that it can run properly and pass the assertion test at the bottom. Write out what you changed to make it work and why it needed to be changed."
   ]
  },
  {
   "cell_type": "code",
   "execution_count": 135,
   "metadata": {
    "collapsed": false,
    "scrolled": true
   },
   "outputs": [
    {
     "name": "stdout",
     "output_type": "stream",
     "text": [
      "[[ 2.25  2.25]\n",
      " [ 2.25  2.25]\n",
      " [ 3.    3.  ]]\n"
     ]
    }
   ],
   "source": [
    "def calculate(a, b):\n",
    "    \"\"\"Do some calculations\n",
    "    \n",
    "    Take in two arrays, subtract 1/4 of the [:2,:] elements from the elements themselves.\n",
    "    Then multiply with array b and return the result.\n",
    "    \n",
    "    Inputs:\n",
    "        a: input array, shape [MxN]\n",
    "        b: input array, shape [M]\n",
    "    \n",
    "    Returns:\n",
    "        resultant array\n",
    "    \"\"\"\n",
    "\n",
    "    aa = a[:2, :]\n",
    "    aa -= (aa/4.) #changed to -=(aa/4)\n",
    "    #a[:2, :] -= aa remove this line from the code\n",
    "    t = a.T  #transpose the array so they can be multiplied together\n",
    "\n",
    "    return (t*b).T \n",
    "    \n",
    "\n",
    "a = np.ones((3, 2))\n",
    "b = np.ones(3)*3\n",
    "res = calculate(a, b)\n",
    "\n",
    "print(res) #printing to check the array\n",
    "\n",
    "assert (res == np.array([[ 2.25,  2.25],[ 2.25,  2.25],[ 3., 3.]])).all()"
   ]
  },
  {
   "cell_type": "markdown",
   "metadata": {},
   "source": [
    "### 16. Calculate components of a vector\n",
    "\n",
    "Read in file `data/burl1h2010.txt`. This file gives a bunch of data from a wind station. In particular, read in the wind direction, `WDIR`, and wind speed, `WSPD`. Then, write a function that calculates and returns the `u` and `v` components of this wind vector, which point along the x- and y-axes.\n",
    "\n",
    "The function should have the following basic functionality:\n",
    "\n",
    "    Take in vector and return components.\n",
    "    \n",
    "    Inputs:\n",
    "        vdir: vector direction in degrees\n",
    "        vspd: vector magnitude\n",
    "        \n",
    "    Returns:\n",
    "        u: x component of vector\n",
    "        v: y component of vector\n"
   ]
  },
  {
   "cell_type": "code",
   "execution_count": 136,
   "metadata": {
    "collapsed": false
   },
   "outputs": [
    {
     "data": {
      "text/plain": [
       "array([  3. ,   3.6,   3.3, ...,  11.4,  11.9,  10.2])"
      ]
     },
     "execution_count": 136,
     "metadata": {},
     "output_type": "execute_result"
    }
   ],
   "source": [
    "data = np.loadtxt('burl1h2010.txt')\n",
    "'''Take in vector and return components.\n",
    "\n",
    "Inputs:\n",
    "    vdir: vector direction in degrees\n",
    "    vspd: vector magnitude\n",
    "\n",
    "Returns:\n",
    "    u: x component of vector\n",
    "    v: y component of vector'''\n",
    "data[:,5]\n",
    "data[:,6]"
   ]
  },
  {
   "cell_type": "markdown",
   "metadata": {},
   "source": [
    "### 17. (Grad) Write and use a class\n",
    "\n",
    "Consider one of the data files located in `python4geosciences/data/MCH/`. Write a class, `dataclass`, to store some of the information in the file. The class should:\n",
    "\n",
    "* be initialized with the name of the file (without file type suffix of .cnv2), and the temperature and salinity values found in the file;\n",
    "* contain a method, `salt_mean`, which returns the mean of the salinity;\n",
    "* contain a method, `temp_max`, which returns the maximum value of the temperature values.\n",
    "\n",
    "Notice that there are many data files in this directory. It would be a lot of work to read them all in by hand. Instead, write a loop which loops through the file names, reads in the necessary data, calls `dataclass` to store the data in a class instance, and adds it to a list of all of the class instances. At the end of your solution, you should have a list of all of the class instances, one for each data file. As usage examples, if your list of data objects is called `wind`, you should be able to access the temperatures from the 3rd file that is read in with\n",
    "\n",
    "    wind[2].temp\n",
    "\n",
    "and you should be able to calculate the mean salinity of the final file with \n",
    "\n",
    "    wind[-1].salt_mean()\n",
    "\n",
    "Hint: Check out the package `glob` for reading in file names with a wild card. "
   ]
  },
  {
   "cell_type": "code",
   "execution_count": 137,
   "metadata": {
    "collapsed": false
   },
   "outputs": [],
   "source": [
    "#creating a class\n",
    "class data_class:\n",
    "    '''Creating a class to store information from the m1007c file'''\n",
    "    def __init__(self, fname, salinity, temperature):\n",
    "        self.fname = [fname]\n",
    "        self.salinity = [salinity]\n",
    "        self.temperature = [temperature]\n",
    "    def salt_mean(self):\n",
    "        '''returns the mean of salinity'''\n",
    "        return np.mean(self.salinity)\n",
    "    def temp_max(self):\n",
    "        '''returns the max value for temperature'''\n",
    "        return np.max(self.temperature)\n",
    "    \n",
    "#loop to go through the files in MCH\n",
    "CTDdata = [] #empty list\n",
    "CTD_file = glob.glob('MCH/*.cnv2') #using the glob package to read in file names withs a wild card\n",
    "for file in CTD_file:\n",
    "    fname = np.genfromtxt(file, skip_header = 57)\n",
    "    salinity = fname[:,5]\n",
    "    temperature = fname[:,2]\n",
    "    CTDdata.append(data_class(fname,salinity,temperature))"
   ]
  },
  {
   "cell_type": "code",
   "execution_count": 146,
   "metadata": {
    "collapsed": false
   },
   "outputs": [
    {
     "data": {
      "text/plain": [
       "35.828874999999996"
      ]
     },
     "execution_count": 146,
     "metadata": {},
     "output_type": "execute_result"
    }
   ],
   "source": [
    "CTDdata[-1].salt_mean()"
   ]
  },
  {
   "cell_type": "code",
   "execution_count": 149,
   "metadata": {
    "collapsed": false,
    "scrolled": true
   },
   "outputs": [
    {
     "data": {
      "text/plain": [
       "[array([ 21.2128,  21.2149,  21.2177,  21.219 ,  21.2165,  21.2331,\n",
       "         21.3468,  21.4867,  21.526 ,  21.5914,  21.6244,  21.6219,\n",
       "         21.6295,  21.6204,  21.6003,  21.5912,  21.4888,  21.3504,\n",
       "         21.2779,  21.343 ,  21.4117,  21.4415,  21.441 ,  21.3959,\n",
       "         21.3208,  21.2352,  21.1793,  21.1591,  21.1479,  21.1501,\n",
       "         21.1435,  21.1413,  21.1385,  21.1377,  21.1369])]"
      ]
     },
     "execution_count": 149,
     "metadata": {},
     "output_type": "execute_result"
    }
   ],
   "source": [
    "CTDdata[2].temperature"
   ]
  },
  {
   "cell_type": "markdown",
   "metadata": {},
   "source": [
    "### 18. (Grad) Running mean\n",
    "\n",
    "Write a function that computes averages using a sliding window over a vector; that is, it should take in a vector and for every element in the vector, compute the average of that point with the N points on either side of the element. N should also be an input parameter, and the function should return the original vector if N=0. The returned vector should be the same size as the input vector.\n",
    "\n",
    "Do not use the `pandas` package or the function `convolve`; instead, use a loop. Use the following API for your function:\n",
    "\n",
    "    Return the running average of a vector, with averaging window of size N.\n",
    "    \n",
    "    Inputs:\n",
    "        vec: Input vector\n",
    "        N (int): Averaging window size, or number of elements to include in mean on either side of each element.\n",
    "    \n",
    "    Outputs:\n",
    "        out: Vector of running-averaged values; same size as vec\n"
   ]
  },
  {
   "cell_type": "code",
   "execution_count": 142,
   "metadata": {
    "collapsed": false,
    "scrolled": false
   },
   "outputs": [
    {
     "name": "stdout",
     "output_type": "stream",
     "text": [
      "[  0.5   1.5   2.5   3.5   4.5   5.5   6.5   7.5   8.5   9.5  10.5  11.5\n",
      "  12.5  13.5  14.5  15.5  16.5  17.5  18.5  19.5  20.5  21.5  22.5  23.5\n",
      "  24.5  25.5  26.5  27.5  28.5  29.5  30.5  31.5  32.5  33.5  34.5  35.5\n",
      "  36.5  37.5  38.5  39.5  40.5  41.5  42.5  43.5  44.5  45.5  46.5  47.5\n",
      "  48.5  49.5  50.5  51.5  52.5  53.5  54.5  55.5  56.5  57.5  58.5  59.5\n",
      "  60.5  61.5  62.5  63.5  64.5  65.5  66.5  67.5  68.5  69.5  70.5  71.5\n",
      "  72.5  73.5  74.5  75.5  76.5  77.5  78.5  79.5  80.5  81.5  82.5  83.5\n",
      "  84.5  85.5  86.5  87.5  88.5  89.5  90.5  91.5  92.5  93.5  94.5  95.5\n",
      "  96.5  97.5  98.5]\n",
      "[ 0  1  2  3  4  5  6  7  8  9 10 11 12 13 14 15 16 17 18 19 20 21 22 23 24\n",
      " 25 26 27 28 29 30 31 32 33 34 35 36 37 38 39 40 41 42 43 44 45 46 47 48 49\n",
      " 50 51 52 53 54 55 56 57 58 59 60 61 62 63 64 65 66 67 68 69 70 71 72 73 74\n",
      " 75 76 77 78 79 80 81 82 83 84 85 86 87 88 89 90 91 92 93 94 95 96 97 98 99]\n"
     ]
    }
   ],
   "source": [
    "x = np.arange(100) # Create a vector to test the function.\n",
    "\n",
    "def RunningMean(x, N):\n",
    "    '''Return the running average of a vector, with averaging window of size N.\n",
    "\n",
    "Inputs:\n",
    "    vec: Input vector\n",
    "    N (int): Averaging window size, or number of elements to include in mean on either side of each element.\n",
    "\n",
    "Outputs:\n",
    "    out: Vector of running-averaged values; same size as vec'''\n",
    "    if N == 0:\n",
    "        return x\n",
    "    else:\n",
    "        cumsum = np.cumsum(np.insert(x, 0, 0)) #cumsum is used to calculate cumulative sum\n",
    "        return (cumsum[N:] - cumsum[:-N]) / N\n",
    "\n",
    "print (RunningMean(x,2)) # Test the function using the random vector \n",
    "print (RunningMean(x,0)) # Test the function using the random vector x, should return same size as the original vector "
   ]
  },
  {
   "cell_type": "code",
   "execution_count": null,
   "metadata": {
    "collapsed": true
   },
   "outputs": [],
   "source": []
  }
 ],
 "metadata": {
  "kernelspec": {
   "display_name": "Python 3",
   "language": "python",
   "name": "python3"
  },
  "language_info": {
   "codemirror_mode": {
    "name": "ipython",
    "version": 3
   },
   "file_extension": ".py",
   "mimetype": "text/x-python",
   "name": "python",
   "nbconvert_exporter": "python",
   "pygments_lexer": "ipython3",
   "version": "3.5.1"
  }
 },
 "nbformat": 4,
 "nbformat_minor": 0
}
