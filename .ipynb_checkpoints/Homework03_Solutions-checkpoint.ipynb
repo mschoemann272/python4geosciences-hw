{
 "cells": [
  {
   "cell_type": "code",
   "execution_count": 1,
   "metadata": {
    "collapsed": false
   },
   "outputs": [],
   "source": [
    "import numpy as np\n",
    "\n",
    "import time"
   ]
  },
  {
   "cell_type": "code",
   "execution_count": 2,
   "metadata": {
    "collapsed": false
   },
   "outputs": [
    {
     "name": "stdout",
     "output_type": "stream",
     "text": [
      "[ 0.  0.  0.  0.  1.  0.  0.  0.  0.  0.]\n"
     ]
    }
   ],
   "source": [
    "#1. Vector manipulation: Create a vector of zeros of size 10 but have the fifth value be 1.\n",
    "\n",
    "a = np.zeros(10)  #creating a vector of zeros, size 10\n",
    "a[4]=1   #Make the 5th value a 1 in the array\n",
    "print(a)"
   ]
  },
  {
   "cell_type": "code",
   "execution_count": 3,
   "metadata": {
    "collapsed": false
   },
   "outputs": [
    {
     "data": {
      "text/plain": [
       "array([10, 11, 12, 13, 14, 15, 16, 17, 18, 19, 20, 21, 22, 23, 24, 25, 26,\n",
       "       27, 28, 29, 30, 31, 32, 33, 34, 35, 36, 37, 38, 39, 40, 41, 42, 43,\n",
       "       44, 45, 46, 47, 48, 49])"
      ]
     },
     "execution_count": 3,
     "metadata": {},
     "output_type": "execute_result"
    }
   ],
   "source": [
    "#2.Vector range: Create a vector with values ranging from 10 to 49, inclusive.\n",
    "\n",
    "b = range(10,50)\n",
    "np.array(b)"
   ]
  },
  {
   "cell_type": "code",
   "execution_count": 36,
   "metadata": {
    "collapsed": false
   },
   "outputs": [
    {
     "data": {
      "text/plain": [
       "[10, 9, 8, 7, 6, 5, 4, 3, 2, 1]"
      ]
     },
     "execution_count": 36,
     "metadata": {},
     "output_type": "execute_result"
    }
   ],
   "source": [
    "#3.Reverse a vector: Write a function, reverse(x) which reverses a vector, so that the first element becomes the last\n",
    "# element. The API should be return a 1D vector with the elements reversed.\n",
    "\n",
    "\n",
    "x = [1, 2, 3, 4, 5, 6, 7, 8, 9, 10]\n",
    "\n",
    "def reverse(x):\n",
    "    '''return a 1D vector with the elements reversed\n",
    "Input x: 1D array\n",
    "Output res: 1D array, with the elements of `x` reversed'''\n",
    "    return x[::-1]\n",
    "x.reverse()\n",
    "x"
   ]
  },
  {
   "cell_type": "code",
   "execution_count": 75,
   "metadata": {
    "collapsed": false,
    "scrolled": true
   },
   "outputs": [
    {
     "name": "stdout",
     "output_type": "stream",
     "text": [
      "(array([0, 1, 4]),)\n"
     ]
    }
   ],
   "source": [
    "#4. Find indices of non-zero elements\n",
    "\n",
    "x = [1, 2, 0, 0, 4, 0]\n",
    "\n",
    "def find_nonzero(x):\n",
    "    \"\"\"return the indices of non-zero elements of an array.\n",
    "Input: x:  array\n",
    "Output:indices: array of integer indices\"\"\"\n",
    "    np.nonzero(x==0)[0]\n",
    "        \n",
    "print(np.nonzero(x))"
   ]
  },
  {
   "cell_type": "code",
   "execution_count": 48,
   "metadata": {
    "collapsed": false,
    "scrolled": false
   },
   "outputs": [
    {
     "name": "stdout",
     "output_type": "stream",
     "text": [
      "[[[ 0.4633958   0.34074751  0.40240202]\n",
      "  [ 0.29786917  0.50437104  0.32925924]\n",
      "  [ 0.68710932  0.47045539  0.53031888]]\n",
      "\n",
      " [[ 0.56467522  0.51629974  0.42371748]\n",
      "  [ 0.36720746  0.58127976  0.59721463]\n",
      "  [ 0.46716036  0.64595524  0.66115689]]\n",
      "\n",
      " [[ 0.30674345  0.60721031  0.4284705 ]\n",
      "  [ 0.63700208  0.27245349  0.45458204]\n",
      "  [ 0.58867172  0.63943615  0.48272817]]]\n"
     ]
    }
   ],
   "source": [
    "#5. Array with random values: Create a 3x3x3 array with normally distributed (μ=0,σ=1) random values.\n",
    "\n",
    "μ,σ = 0.5,0.1\n",
    "s = np.random.normal(μ,σ,(3,3,3))\n",
    "print(s)"
   ]
  },
  {
   "cell_type": "code",
   "execution_count": 9,
   "metadata": {
    "collapsed": false,
    "scrolled": false
   },
   "outputs": [
    {
     "name": "stdout",
     "output_type": "stream",
     "text": [
      "[[57 82 47 20  4 66 57 65 40 16]\n",
      " [99 62 95 91 95 64 38 78  7  9]\n",
      " [74 76 59 69 83 78 95 61 54 23]\n",
      " [60 32 71 49 87 35 27  8 70 29]\n",
      " [69 70 12 96 81 62 49  2  7 28]\n",
      " [16 94 72  6 39 15 26 54 15  1]\n",
      " [ 2  7 72 71 59 32  1 41 75 43]\n",
      " [49 15 81  5 23  1 43 68 35 33]\n",
      " [ 1 63 76 95 25  3 68 55 27 78]\n",
      " [57 50 89 34 63 15 45 98 26 44]]\n",
      "7\n",
      "96\n"
     ]
    }
   ],
   "source": [
    "#6. Operations on an array with random values\n",
    "#Create a 10x10 array with random values. \n",
    "#the minimum value of the 2nd row\n",
    "#the maximum value of the 4th column\n",
    "\n",
    "arr = np.random.randint(100, size=(10, 10))\n",
    "arr\n",
    "\n",
    "print(arr)\n",
    "\n",
    "a = arr[1]\n",
    "imin = a.argmin()\n",
    "print(a.min())\n",
    "\n",
    "x = arr[:, 3]\n",
    "imax = x.argmax()\n",
    "print(x.max())"
   ]
  },
  {
   "cell_type": "code",
   "execution_count": 10,
   "metadata": {
    "collapsed": false,
    "scrolled": true
   },
   "outputs": [
    {
     "name": "stdout",
     "output_type": "stream",
     "text": [
      "[[ 0.09090909  0.18181818  0.27272727  0.36363636  0.45454545]\n",
      " [ 0.54545455  0.63636364  0.72727273  0.81818182  0.90909091]]\n"
     ]
    }
   ],
   "source": [
    "#7. Vector without end points: Create a vector of size 10 with values ranging from 0 to 1, both excluded.\n",
    "\n",
    "t = np.linspace(0,1,12,endpoint=True)[1:-1]\n",
    "print(t.reshape(2,5))"
   ]
  },
  {
   "cell_type": "code",
   "execution_count": 49,
   "metadata": {
    "collapsed": false,
    "scrolled": true
   },
   "outputs": [
    {
     "name": "stdout",
     "output_type": "stream",
     "text": [
      "[ 0.02185189  0.04014223  0.05097018  0.05412865  0.14973844  0.24239778\n",
      "  0.31495508  0.35120406  0.48788906  0.61875077]\n"
     ]
    }
   ],
   "source": [
    "#8. Sorted random vector: Create a random vector of size 10, then sort it.\n",
    "\n",
    "a = np.random.random(10)\n",
    "a.sort()\n",
    "print(a)"
   ]
  },
  {
   "cell_type": "code",
   "execution_count": 64,
   "metadata": {
    "collapsed": false
   },
   "outputs": [
    {
     "name": "stdout",
     "output_type": "stream",
     "text": [
      "True\n"
     ]
    }
   ],
   "source": [
    "#9. Test for array equality\n",
    "a = np.random.random(1)\n",
    "b = np.random.random(1)\n",
    "\n",
    "def is_equal(a, b):\n",
    "    '''return True if two arrays are the same shape and all the elements are equal.\n",
    "\n",
    "Inputs:\n",
    "    A, B:  array\n",
    "Output:\n",
    "    Bool:  True if A and B have the same shape and identical elements.\n",
    "'''\n",
    "    if a.all(a)== a.all(b):\n",
    "        return True\n",
    "    else:\n",
    "        return False\n",
    "    \n",
    "print(is_equal(a, b))"
   ]
  },
  {
   "cell_type": "code",
   "execution_count": 73,
   "metadata": {
    "collapsed": false,
    "scrolled": true
   },
   "outputs": [
    {
     "name": "stdout",
     "output_type": "stream",
     "text": [
      "[[ 0.78444279  0.86806643]\n",
      " [ 0.83168207  0.49205343]\n",
      " [ 0.69640186  0.75980999]\n",
      " [ 0.24346997  0.74845611]\n",
      " [ 0.47855314  0.33390833]]\n",
      "[[-0.04181182  0.04181182]\n",
      " [ 0.16981432 -0.16981432]\n",
      " [-0.03170406  0.03170406]\n",
      " [-0.25249307  0.25249307]\n",
      " [ 0.07232241 -0.07232241]]\n"
     ]
    }
   ],
   "source": [
    "#10. Subtract the row mean from rows of a matrix\n",
    "# take the mean of the row and subtract that mean from the row\n",
    "\n",
    "j = np.random.rand(5,2)\n",
    "x = j - j.mean(axis = 1, keepdims=True)\n",
    "print(j)\n",
    "print(x)"
   ]
  },
  {
   "cell_type": "code",
   "execution_count": 74,
   "metadata": {
    "collapsed": true
   },
   "outputs": [],
   "source": [
    "#10. Subtract the row mean from rows of a matrix\n",
    "# take the mean of the row and subtract that mean from the row\n",
    "\n",
    "j = np.random.rand(5,2)"
   ]
  },
  {
   "cell_type": "code",
   "execution_count": 15,
   "metadata": {
    "collapsed": false,
    "scrolled": false
   },
   "outputs": [
    {
     "name": "stdout",
     "output_type": "stream",
     "text": [
      "[[[ 1.  1.  1.]\n",
      "  [ 1.  1.  1.]\n",
      "  [ 1.  1.  1.]\n",
      "  [ 1.  1.  1.]\n",
      "  [ 1.  1.  1.]]\n",
      "\n",
      " [[ 1.  1.  1.]\n",
      "  [ 1.  1.  1.]\n",
      "  [ 1.  1.  1.]\n",
      "  [ 1.  1.  1.]\n",
      "  [ 1.  1.  1.]]\n",
      "\n",
      " [[ 1.  1.  1.]\n",
      "  [ 1.  1.  1.]\n",
      "  [ 1.  1.  1.]\n",
      "  [ 1.  1.  1.]\n",
      "  [ 1.  1.  1.]]\n",
      "\n",
      " [[ 1.  1.  1.]\n",
      "  [ 1.  1.  1.]\n",
      "  [ 1.  1.  1.]\n",
      "  [ 1.  1.  1.]\n",
      "  [ 1.  1.  1.]]\n",
      "\n",
      " [[ 1.  1.  1.]\n",
      "  [ 1.  1.  1.]\n",
      "  [ 1.  1.  1.]\n",
      "  [ 1.  1.  1.]\n",
      "  [ 1.  1.  1.]]]\n"
     ]
    },
    {
     "ename": "ValueError",
     "evalue": "operands could not be broadcast together with shapes (3,5,5) (5,5,1) ",
     "output_type": "error",
     "traceback": [
      "\u001b[0;31m---------------------------------------------------------------------------\u001b[0m",
      "\u001b[0;31mValueError\u001b[0m                                Traceback (most recent call last)",
      "\u001b[0;32m<ipython-input-15-9024a8477c76>\u001b[0m in \u001b[0;36m<module>\u001b[0;34m()\u001b[0m\n\u001b[1;32m     10\u001b[0m \u001b[0mc\u001b[0m \u001b[0;34m=\u001b[0m \u001b[0mnp\u001b[0m\u001b[0;34m.\u001b[0m\u001b[0mones\u001b[0m\u001b[0;34m(\u001b[0m\u001b[0;34m(\u001b[0m\u001b[0;36m3\u001b[0m\u001b[0;34m,\u001b[0m\u001b[0;36m5\u001b[0m\u001b[0;34m,\u001b[0m\u001b[0;36m5\u001b[0m\u001b[0;34m)\u001b[0m\u001b[0;34m)\u001b[0m\u001b[0;34m\u001b[0m\u001b[0m\n\u001b[1;32m     11\u001b[0m \u001b[0md\u001b[0m \u001b[0;34m=\u001b[0m \u001b[0mnp\u001b[0m\u001b[0;34m.\u001b[0m\u001b[0mones\u001b[0m\u001b[0;34m(\u001b[0m\u001b[0;34m(\u001b[0m\u001b[0;36m5\u001b[0m\u001b[0;34m,\u001b[0m\u001b[0;36m5\u001b[0m\u001b[0;34m)\u001b[0m\u001b[0;34m)\u001b[0m\u001b[0;34m\u001b[0m\u001b[0m\n\u001b[0;32m---> 12\u001b[0;31m \u001b[0mprint\u001b[0m\u001b[0;34m(\u001b[0m\u001b[0mc\u001b[0m\u001b[0;34m*\u001b[0m\u001b[0md\u001b[0m\u001b[0;34m[\u001b[0m\u001b[0;34m:\u001b[0m\u001b[0;34m,\u001b[0m\u001b[0;34m:\u001b[0m\u001b[0;34m,\u001b[0m\u001b[0;32mNone\u001b[0m\u001b[0;34m]\u001b[0m\u001b[0;34m)\u001b[0m\u001b[0;34m\u001b[0m\u001b[0m\n\u001b[0m",
      "\u001b[0;31mValueError\u001b[0m: operands could not be broadcast together with shapes (3,5,5) (5,5,1) "
     ]
    }
   ],
   "source": [
    "#11 Multiply arrays: Multiply an array of dimension (5,5,3) with an array with dimensions (5,5).\n",
    "#Then multiply an array of dimension (3,5,5) with an array of dimension (5,5).\n",
    "\n",
    "\n",
    "a = np.ones((5,5,3))\n",
    "b = np.ones((5,5))\n",
    "print(a*b[:,:,None])\n",
    "\n",
    "\n",
    "c = np.ones((3,5,5))\n",
    "d = np.ones((5,5))\n",
    "print(c*d[:,:,None])"
   ]
  },
  {
   "cell_type": "code",
   "execution_count": 47,
   "metadata": {
    "collapsed": false,
    "scrolled": true
   },
   "outputs": [
    {
     "data": {
      "text/plain": [
       "array([ 1,  2,  3,  4,  5,  6,  7,  8,  9, 10, 11, 12, 13, 14])"
      ]
     },
     "execution_count": 47,
     "metadata": {},
     "output_type": "execute_result"
    }
   ],
   "source": [
    "#12. Creating a new array\n",
    "#Starting with an array\n",
    "#Z = [1,2,3,4,5,6,7,8,9,10,11,12,13,14].\n",
    "#Generate an array\n",
    "#R = [[1,2,3,4], [2,3,4,5], [3,4,5,6], ..., [11,12,13,14]]. \n",
    "\n",
    "z = range(1,15)\n",
    "np.array(z)\n"
   ]
  },
  {
   "cell_type": "code",
   "execution_count": 16,
   "metadata": {
    "collapsed": false
   },
   "outputs": [],
   "source": [
    "#13. Convert from Cartesian to polar coordinates\n",
    "#Write a function cart2polar(xy) which takes in an Nx2 matrix of x, y pairs representing Cartesian coordinates \n",
    "#and return the locations represented in polar coordinates in the same shape matrix. The API is\n",
    "    #Return equivalent polar coordinates of specified cartesian points.\n",
    "    #Inputs:\n",
    "        #xy: array\n",
    "             #Nx2 array of Cartesian coordinates, with columns x and y respectively.\n",
    "    #Returns:\n",
    "        #rp: array\n",
    "            #Nx2 array of polar coordinates, with columns radius and angle respectively\n",
    "        \n",
    "m = np.random.random((5,2))\n"
   ]
  },
  {
   "cell_type": "code",
   "execution_count": 54,
   "metadata": {
    "collapsed": false
   },
   "outputs": [
    {
     "name": "stdout",
     "output_type": "stream",
     "text": [
      "CPU times: user 2 µs, sys: 1 µs, total: 3 µs\n",
      "Wall time: 6.2 µs\n",
      "CPU times: user 2 µs, sys: 1e+03 ns, total: 3 µs\n",
      "Wall time: 5.01 µs\n"
     ]
    },
    {
     "data": {
      "text/plain": [
       "array([[[[ 0.16404194,  0.9533566 ],\n",
       "         [ 0.34027238,  0.0848244 ],\n",
       "         [ 0.49565446,  0.0579338 ],\n",
       "         ..., \n",
       "         [ 0.75376449,  0.95233005],\n",
       "         [ 0.39909967,  0.8156945 ],\n",
       "         [ 0.01471569,  0.63748123]],\n",
       "\n",
       "        [[ 0.46491609,  0.96581448],\n",
       "         [ 0.75577411,  0.14530833],\n",
       "         [ 0.39838671,  0.80936086],\n",
       "         ..., \n",
       "         [ 0.85834804,  0.70592482],\n",
       "         [ 0.27491941,  0.72531436],\n",
       "         [ 0.06216938,  0.23698028]],\n",
       "\n",
       "        [[ 0.31529497,  0.47127508],\n",
       "         [ 0.16214631,  0.32096869],\n",
       "         [ 0.72088226,  0.05880956],\n",
       "         ..., \n",
       "         [ 0.41448023,  0.64756379],\n",
       "         [ 0.69582173,  0.32555389],\n",
       "         [ 0.57749053,  0.93818215]],\n",
       "\n",
       "        ..., \n",
       "        [[ 0.06911582,  0.87435299],\n",
       "         [ 0.50507797,  0.54147951],\n",
       "         [ 0.93679179,  0.00663543],\n",
       "         ..., \n",
       "         [ 0.28992242,  0.4741215 ],\n",
       "         [ 0.96099198,  0.25683584],\n",
       "         [ 0.93770706,  0.64751364]],\n",
       "\n",
       "        [[ 0.77054225,  0.8906883 ],\n",
       "         [ 0.56459735,  0.79694543],\n",
       "         [ 0.68780652,  0.8740365 ],\n",
       "         ..., \n",
       "         [ 0.11594887,  0.54757414],\n",
       "         [ 0.16762271,  0.6153166 ],\n",
       "         [ 0.12682018,  0.21154419]],\n",
       "\n",
       "        [[ 0.11565995,  0.05316722],\n",
       "         [ 0.60259726,  0.19730048],\n",
       "         [ 0.23830458,  0.82354435],\n",
       "         ..., \n",
       "         [ 0.47392304,  0.14840359],\n",
       "         [ 0.3276699 ,  0.38411081],\n",
       "         [ 0.33627439,  0.93382273]]],\n",
       "\n",
       "\n",
       "       [[[ 0.8038392 ,  0.12203212],\n",
       "         [ 0.65076839,  0.81270117],\n",
       "         [ 0.17816513,  0.67407112],\n",
       "         ..., \n",
       "         [ 0.39530917,  0.42057091],\n",
       "         [ 0.03510747,  0.59675995],\n",
       "         [ 0.78818163,  0.37130713]],\n",
       "\n",
       "        [[ 0.70385477,  0.88372738],\n",
       "         [ 0.30094295,  0.55699697],\n",
       "         [ 0.73195733,  0.75874824],\n",
       "         ..., \n",
       "         [ 0.4990302 ,  0.71811653],\n",
       "         [ 0.48505338,  0.641794  ],\n",
       "         [ 0.96942564,  0.65717651]],\n",
       "\n",
       "        [[ 0.19468005,  0.27132823],\n",
       "         [ 0.61897422,  0.70075026],\n",
       "         [ 0.68465995,  0.17292703],\n",
       "         ..., \n",
       "         [ 0.15456097,  0.24347693],\n",
       "         [ 0.13160615,  0.18239246],\n",
       "         [ 0.22180825,  0.69822411]],\n",
       "\n",
       "        ..., \n",
       "        [[ 0.09392405,  0.09464024],\n",
       "         [ 0.54709914,  0.05859999],\n",
       "         [ 0.09004985,  0.46465044],\n",
       "         ..., \n",
       "         [ 0.03241069,  0.3712812 ],\n",
       "         [ 0.44085497,  0.3681411 ],\n",
       "         [ 0.36606795,  0.79474379]],\n",
       "\n",
       "        [[ 0.88979844,  0.32159522],\n",
       "         [ 0.74958544,  0.05359784],\n",
       "         [ 0.52863071,  0.16436986],\n",
       "         ..., \n",
       "         [ 0.63647234,  0.24685174],\n",
       "         [ 0.75076908,  0.26448488],\n",
       "         [ 0.27005394,  0.24495689]],\n",
       "\n",
       "        [[ 0.11187483,  0.29190998],\n",
       "         [ 0.25891945,  0.6046459 ],\n",
       "         [ 0.05779922,  0.70318925],\n",
       "         ..., \n",
       "         [ 0.80336331,  0.23400253],\n",
       "         [ 0.68256251,  0.73991211],\n",
       "         [ 0.20704376,  0.61823008]]],\n",
       "\n",
       "\n",
       "       [[[ 0.67722819,  0.80116761],\n",
       "         [ 0.26030594,  0.85644477],\n",
       "         [ 0.92319038,  0.38437853],\n",
       "         ..., \n",
       "         [ 0.52216887,  0.95143586],\n",
       "         [ 0.58384334,  0.65754757],\n",
       "         [ 0.09513421,  0.58426879]],\n",
       "\n",
       "        [[ 0.814311  ,  0.40627678],\n",
       "         [ 0.72806766,  0.34817713],\n",
       "         [ 0.84595291,  0.04418219],\n",
       "         ..., \n",
       "         [ 0.49112832,  0.41092573],\n",
       "         [ 0.22621451,  0.21073398],\n",
       "         [ 0.16325501,  0.51099518]],\n",
       "\n",
       "        [[ 0.6331516 ,  0.47889607],\n",
       "         [ 0.61282511,  0.16099039],\n",
       "         [ 0.59191462,  0.11652409],\n",
       "         ..., \n",
       "         [ 0.41108697,  0.30985677],\n",
       "         [ 0.34480529,  0.97713   ],\n",
       "         [ 0.71354983,  0.4652749 ]],\n",
       "\n",
       "        ..., \n",
       "        [[ 0.33264036,  0.52192245],\n",
       "         [ 0.45688234,  0.1884756 ],\n",
       "         [ 0.51978309,  0.69458075],\n",
       "         ..., \n",
       "         [ 0.36517807,  0.51672307],\n",
       "         [ 0.65178387,  0.17124528],\n",
       "         [ 0.43902391,  0.89772695]],\n",
       "\n",
       "        [[ 0.36763654,  0.81358358],\n",
       "         [ 0.43697691,  0.68456701],\n",
       "         [ 0.54624425,  0.58962717],\n",
       "         ..., \n",
       "         [ 0.10772579,  0.94488328],\n",
       "         [ 0.58829684,  0.31504768],\n",
       "         [ 0.45869584,  0.90474019]],\n",
       "\n",
       "        [[ 0.11857465,  0.53748282],\n",
       "         [ 0.17175166,  0.21993003],\n",
       "         [ 0.9855817 ,  0.94199599],\n",
       "         ..., \n",
       "         [ 0.05534543,  0.28781639],\n",
       "         [ 0.34767151,  0.22755977],\n",
       "         [ 0.25218432,  0.12306237]]],\n",
       "\n",
       "\n",
       "       [[[ 0.15881801,  0.76100654],\n",
       "         [ 0.19178373,  0.1670545 ],\n",
       "         [ 0.56948842,  0.33827345],\n",
       "         ..., \n",
       "         [ 0.13357711,  0.79880752],\n",
       "         [ 0.55239416,  0.35583714],\n",
       "         [ 0.56858757,  0.94446873]],\n",
       "\n",
       "        [[ 0.86590881,  0.99331047],\n",
       "         [ 0.95882231,  0.07728037],\n",
       "         [ 0.8718741 ,  0.45130056],\n",
       "         ..., \n",
       "         [ 0.92399241,  0.64400963],\n",
       "         [ 0.66813791,  0.96731186],\n",
       "         [ 0.97697745,  0.41534579]],\n",
       "\n",
       "        [[ 0.99857681,  0.12243313],\n",
       "         [ 0.66271465,  0.5858549 ],\n",
       "         [ 0.11309826,  0.21057127],\n",
       "         ..., \n",
       "         [ 0.26802985,  0.31350941],\n",
       "         [ 0.47646185,  0.9515895 ],\n",
       "         [ 0.09010453,  0.39483104]],\n",
       "\n",
       "        ..., \n",
       "        [[ 0.62081632,  0.19117237],\n",
       "         [ 0.87657583,  0.25526289],\n",
       "         [ 0.28218082,  0.49106262],\n",
       "         ..., \n",
       "         [ 0.99918803,  0.68910094],\n",
       "         [ 0.06790706,  0.20773699],\n",
       "         [ 0.83261618,  0.14838525]],\n",
       "\n",
       "        [[ 0.8537247 ,  0.35355292],\n",
       "         [ 0.25609065,  0.28485465],\n",
       "         [ 0.13821901,  0.13034788],\n",
       "         ..., \n",
       "         [ 0.045995  ,  0.2568229 ],\n",
       "         [ 0.38583653,  0.43618879],\n",
       "         [ 0.17819528,  0.44342472]],\n",
       "\n",
       "        [[ 0.75633775,  0.65808637],\n",
       "         [ 0.02945195,  0.23915197],\n",
       "         [ 0.20910608,  0.60082864],\n",
       "         ..., \n",
       "         [ 0.31425749,  0.55573647],\n",
       "         [ 0.92466807,  0.68605871],\n",
       "         [ 0.2248266 ,  0.22516465]]]])"
      ]
     },
     "execution_count": 54,
     "metadata": {},
     "output_type": "execute_result"
    }
   ],
   "source": [
    "#14 Compute and time for loops and array operations\n",
    "\n",
    "a = np.arange(1024.0).reshape(4, 8, 16, 2)   # a 4D array using sequential numbers\n",
    "b = np.random.rand(4, 8, 16, 2)              # a 4D array using random numbers\n",
    "sol = a * b \n",
    "%time(a)\n",
    "%time(b)"
   ]
  },
  {
   "cell_type": "code",
   "execution_count": 17,
   "metadata": {
    "collapsed": false,
    "scrolled": false
   },
   "outputs": [
    {
     "ename": "ValueError",
     "evalue": "operands could not be broadcast together with shapes (3,2) (3,) ",
     "output_type": "error",
     "traceback": [
      "\u001b[0;31m---------------------------------------------------------------------------\u001b[0m",
      "\u001b[0;31mValueError\u001b[0m                                Traceback (most recent call last)",
      "\u001b[0;32m<ipython-input-17-6449fc4d0789>\u001b[0m in \u001b[0;36m<module>\u001b[0;34m()\u001b[0m\n\u001b[1;32m     25\u001b[0m \u001b[0ma\u001b[0m \u001b[0;34m=\u001b[0m \u001b[0mnp\u001b[0m\u001b[0;34m.\u001b[0m\u001b[0mones\u001b[0m\u001b[0;34m(\u001b[0m\u001b[0;34m(\u001b[0m\u001b[0;36m3\u001b[0m\u001b[0;34m,\u001b[0m \u001b[0;36m2\u001b[0m\u001b[0;34m)\u001b[0m\u001b[0;34m)\u001b[0m\u001b[0;34m\u001b[0m\u001b[0m\n\u001b[1;32m     26\u001b[0m \u001b[0mb\u001b[0m \u001b[0;34m=\u001b[0m \u001b[0mnp\u001b[0m\u001b[0;34m.\u001b[0m\u001b[0mones\u001b[0m\u001b[0;34m(\u001b[0m\u001b[0;36m3\u001b[0m\u001b[0;34m)\u001b[0m\u001b[0;34m*\u001b[0m\u001b[0;36m3\u001b[0m\u001b[0;34m\u001b[0m\u001b[0m\n\u001b[0;32m---> 27\u001b[0;31m \u001b[0mres\u001b[0m \u001b[0;34m=\u001b[0m \u001b[0mcalculate\u001b[0m\u001b[0;34m(\u001b[0m\u001b[0ma\u001b[0m\u001b[0;34m,\u001b[0m \u001b[0mb\u001b[0m\u001b[0;34m)\u001b[0m\u001b[0;34m\u001b[0m\u001b[0m\n\u001b[0m\u001b[1;32m     28\u001b[0m \u001b[0;34m\u001b[0m\u001b[0m\n\u001b[1;32m     29\u001b[0m \u001b[0;32massert\u001b[0m \u001b[0;34m(\u001b[0m\u001b[0mres\u001b[0m \u001b[0;34m==\u001b[0m \u001b[0mnp\u001b[0m\u001b[0;34m.\u001b[0m\u001b[0marray\u001b[0m\u001b[0;34m(\u001b[0m\u001b[0;34m[\u001b[0m\u001b[0;34m[\u001b[0m \u001b[0;36m2.25\u001b[0m\u001b[0;34m,\u001b[0m  \u001b[0;36m2.25\u001b[0m\u001b[0;34m]\u001b[0m\u001b[0;34m,\u001b[0m\u001b[0;34m[\u001b[0m \u001b[0;36m2.25\u001b[0m\u001b[0;34m,\u001b[0m  \u001b[0;36m2.25\u001b[0m\u001b[0;34m]\u001b[0m\u001b[0;34m,\u001b[0m\u001b[0;34m[\u001b[0m \u001b[0;36m3.\u001b[0m\u001b[0;34m,\u001b[0m \u001b[0;36m3.\u001b[0m\u001b[0;34m]\u001b[0m\u001b[0;34m]\u001b[0m\u001b[0;34m)\u001b[0m\u001b[0;34m)\u001b[0m\u001b[0;34m.\u001b[0m\u001b[0mall\u001b[0m\u001b[0;34m(\u001b[0m\u001b[0;34m)\u001b[0m\u001b[0;34m\u001b[0m\u001b[0m\n",
      "\u001b[0;32m<ipython-input-17-6449fc4d0789>\u001b[0m in \u001b[0;36mcalculate\u001b[0;34m(a, b)\u001b[0m\n\u001b[1;32m     20\u001b[0m     \u001b[0ma\u001b[0m\u001b[0;34m[\u001b[0m\u001b[0;34m:\u001b[0m\u001b[0;36m2\u001b[0m\u001b[0;34m,\u001b[0m \u001b[0;34m:\u001b[0m\u001b[0;34m]\u001b[0m \u001b[0;34m-=\u001b[0m \u001b[0maa\u001b[0m\u001b[0;34m\u001b[0m\u001b[0m\n\u001b[1;32m     21\u001b[0m \u001b[0;34m\u001b[0m\u001b[0m\n\u001b[0;32m---> 22\u001b[0;31m     \u001b[0;32mreturn\u001b[0m \u001b[0ma\u001b[0m\u001b[0;34m*\u001b[0m\u001b[0mb\u001b[0m\u001b[0;34m\u001b[0m\u001b[0m\n\u001b[0m\u001b[1;32m     23\u001b[0m \u001b[0;34m\u001b[0m\u001b[0m\n\u001b[1;32m     24\u001b[0m \u001b[0;34m\u001b[0m\u001b[0m\n",
      "\u001b[0;31mValueError\u001b[0m: operands could not be broadcast together with shapes (3,2) (3,) "
     ]
    }
   ],
   "source": [
    "#15. Fix the code: This code needs to be fixed so that it can run properly and pass the assertion test\n",
    "#at the bottom. Write out what you changed to make it work and why it needed to be changed.\n",
    "\n",
    "def calculate(a, b):\n",
    "    \"\"\"Do some calculations\n",
    "    \n",
    "    Take in two arrays, subtract 1/4 of the [:2,:] elements from the elements themselves.\n",
    "    Then multiply with array b and return the result.\n",
    "    \n",
    "    Inputs:\n",
    "        a: input array, shape [MxN]\n",
    "        b: input array, shape [M]\n",
    "    \n",
    "    Returns:\n",
    "        resultant array\n",
    "    \"\"\"\n",
    "\n",
    "    aa = a[:2, :]\n",
    "    aa /= 4.\n",
    "    a[:2, :] -= aa\n",
    "\n",
    "    return a*b\n",
    "    \n",
    "\n",
    "a = np.ones((3, 2))\n",
    "b = np.ones(3)*3\n",
    "res = calculate(a, b)\n",
    "\n",
    "assert (res == np.array([[ 2.25,  2.25],[ 2.25,  2.25],[ 3., 3.]])).all()"
   ]
  },
  {
   "cell_type": "code",
   "execution_count": null,
   "metadata": {
    "collapsed": true
   },
   "outputs": [],
   "source": [
    "#16"
   ]
  },
  {
   "cell_type": "code",
   "execution_count": null,
   "metadata": {
    "collapsed": true
   },
   "outputs": [],
   "source": [
    "#17"
   ]
  },
  {
   "cell_type": "code",
   "execution_count": null,
   "metadata": {
    "collapsed": true
   },
   "outputs": [],
   "source": [
    "#18"
   ]
  }
 ],
 "metadata": {
  "kernelspec": {
   "display_name": "Python 3",
   "language": "python",
   "name": "python3"
  },
  "language_info": {
   "codemirror_mode": {
    "name": "ipython",
    "version": 3
   },
   "file_extension": ".py",
   "mimetype": "text/x-python",
   "name": "python",
   "nbconvert_exporter": "python",
   "pygments_lexer": "ipython3",
   "version": "3.5.1"
  }
 },
 "nbformat": 4,
 "nbformat_minor": 0
}
