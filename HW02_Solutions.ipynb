{
 "cells": [
  {
   "cell_type": "code",
   "execution_count": 1,
   "metadata": {
    "collapsed": false
   },
   "outputs": [
    {
     "name": "stdout",
     "output_type": "stream",
     "text": [
      "{'hometown': 'katy', 'taking_class': 'learn_python', 'department': 'geography', 'studentstatus': 'graduate student_3years'}\n"
     ]
    }
   ],
   "source": [
    "mackenzie = {\n",
    "    \"hometown\" : \"katy\",\n",
    "    \"department\" : \"geography\",\n",
    "    \"studentstatus\" : \"graduate student_3years\",\n",
    "    \"taking_class\" : \"learn_python\"\n",
    "}\n",
    "\n",
    "mackenzie.keys()\n",
    "mackenzie.values()\n",
    "\n",
    "print(mackenzie)"
   ]
  },
  {
   "cell_type": "code",
   "execution_count": 2,
   "metadata": {
    "collapsed": false
   },
   "outputs": [
    {
     "name": "stdout",
     "output_type": "stream",
     "text": [
      "true\n"
     ]
    }
   ],
   "source": [
    "vowel = ['a','e','i','o','u']\n",
    "\n",
    "def return_vowel(x):\n",
    "    if x in vowel:\n",
    "        print ('true')\n",
    "    else:\n",
    "        print ('false')\n",
    "return_vowel('a')"
   ]
  },
  {
   "cell_type": "code",
   "execution_count": null,
   "metadata": {
    "collapsed": true
   },
   "outputs": [],
   "source": []
  }
 ],
 "metadata": {
  "kernelspec": {
   "display_name": "Python 3",
   "language": "python",
   "name": "python3"
  },
  "language_info": {
   "codemirror_mode": {
    "name": "ipython",
    "version": 3
   },
   "file_extension": ".py",
   "mimetype": "text/x-python",
   "name": "python",
   "nbconvert_exporter": "python",
   "pygments_lexer": "ipython3",
   "version": "3.5.1"
  }
 },
 "nbformat": 4,
 "nbformat_minor": 0
}
