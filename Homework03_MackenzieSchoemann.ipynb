{
 "cells": [
  {
   "cell_type": "markdown",
   "metadata": {},
   "source": [
    "# Homework 03\n",
    "\n",
    "## Due Thursday February 18th"
   ]
  },
  {
   "cell_type": "code",
   "execution_count": 2,
   "metadata": {
    "collapsed": true
   },
   "outputs": [],
   "source": [
    "import numpy as np\n",
    "import time\n",
    "from numpy.lib import stride_tricks\n",
    "import glob"
   ]
  },
  {
   "cell_type": "markdown",
   "metadata": {},
   "source": [
    "### 1. Vector manipulation\n",
    "\n",
    "Create a vector of zeros of size 10 but have the fifth value be 1."
   ]
  },
  {
   "cell_type": "code",
   "execution_count": 3,
   "metadata": {
    "collapsed": false
   },
   "outputs": [
    {
     "name": "stdout",
     "output_type": "stream",
     "text": [
      "[ 0.  0.  0.  0.  1.  0.  0.  0.  0.  0.]\n"
     ]
    }
   ],
   "source": [
    "a = np.zeros(10)  #creating a vector of zeros, size 10\n",
    "a[4]=1   #Make the 5th value a 1 in the array\n",
    "print(a)"
   ]
  },
  {
   "cell_type": "markdown",
   "metadata": {},
   "source": [
    "### 2. Vector range\n",
    "\n",
    "Create a vector with values ranging from 10 to 49, inclusive."
   ]
  },
  {
   "cell_type": "code",
   "execution_count": 4,
   "metadata": {
    "collapsed": false
   },
   "outputs": [
    {
     "data": {
      "text/plain": [
       "array([10, 11, 12, 13, 14, 15, 16, 17, 18, 19, 20, 21, 22, 23, 24, 25, 26,\n",
       "       27, 28, 29, 30, 31, 32, 33, 34, 35, 36, 37, 38, 39, 40, 41, 42, 43,\n",
       "       44, 45, 46, 47, 48, 49])"
      ]
     },
     "execution_count": 4,
     "metadata": {},
     "output_type": "execute_result"
    }
   ],
   "source": [
    "b = range(10,50)\n",
    "np.array(b)"
   ]
  },
  {
   "cell_type": "markdown",
   "metadata": {},
   "source": [
    "### 3. Reverse a vector\n",
    "\n",
    "Write a function, `reverse(x)` which reverses a vector, so that the first element becomes the last element. The API should be\n",
    "\n",
    "    return a 1D vector with the elements reversed\n",
    "    \n",
    "    Input\n",
    "    -----\n",
    "        x: 1D array\n",
    "    \n",
    "    Output\n",
    "    ------\n",
    "        res: 1D array, with the elements of `x` reversed\n",
    "\n",
    "Include this (or an equivalent description) in the function's docstring."
   ]
  },
  {
   "cell_type": "code",
   "execution_count": 5,
   "metadata": {
    "collapsed": false
   },
   "outputs": [
    {
     "data": {
      "text/plain": [
       "[10, 9, 8, 7, 6, 5, 4, 3, 2, 1]"
      ]
     },
     "execution_count": 5,
     "metadata": {},
     "output_type": "execute_result"
    }
   ],
   "source": [
    "x = [1, 2, 3, 4, 5, 6, 7, 8, 9, 10]\n",
    "\n",
    "def reverse(x):\n",
    "    '''return a 1D vector with the elements reversed\n",
    "Input x: 1D array\n",
    "Output res: 1D array, with the elements of `x` reversed'''\n",
    "    return x[::-1]\n",
    "x.reverse()  #the numpy method to reverse an array\n",
    "x"
   ]
  },
  {
   "cell_type": "markdown",
   "metadata": {},
   "source": [
    "### 4. Find indices of non-zero elements\n",
    "\n",
    "Write a function `find_nonzero(x)` that finds the indices of non-zero elements, with an API like\n",
    "\n",
    "    return the indices of non-zero elements of an array.\n",
    "\n",
    "    Input:      x:  array\n",
    "    Output:     indices: array of integer indices\n",
    "\n",
    "Use the function to get out the non-zero elements from an array containing the elements [1,2,0,0,4,0]."
   ]
  },
  {
   "cell_type": "code",
   "execution_count": 6,
   "metadata": {
    "collapsed": false
   },
   "outputs": [
    {
     "name": "stdout",
     "output_type": "stream",
     "text": [
      "(array([0, 1, 4]),)\n"
     ]
    }
   ],
   "source": [
    "x = [1, 2, 0, 0, 4, 0]\n",
    "def find_nonzero(x):\n",
    "    \"\"\"return the indices of non-zero elements of an array.\n",
    "Input: x:  array\n",
    "Output:indices: array of integer indices\"\"\"\n",
    "    np.nonzero(x==0)[0]\n",
    "        \n",
    "print(np.nonzero(x))"
   ]
  },
  {
   "cell_type": "markdown",
   "metadata": {},
   "source": [
    "### 5. Array with random values\n",
    "\n",
    "Create a 3x3x3 array with normally distributed ($\\mu =0, \\sigma=1)$ random values."
   ]
  },
  {
   "cell_type": "code",
   "execution_count": 7,
   "metadata": {
    "collapsed": false
   },
   "outputs": [
    {
     "name": "stdout",
     "output_type": "stream",
     "text": [
      "[[[ 0.41921781  0.57908292  0.66510217]\n",
      "  [ 0.39738617  0.43755834  0.58185733]\n",
      "  [ 0.48549974  0.27127981  0.70460422]]\n",
      "\n",
      " [[ 0.65651508  0.58184594  0.55498791]\n",
      "  [ 0.52249351  0.58477885  0.53829138]\n",
      "  [ 0.53033767  0.54151343  0.41385736]]\n",
      "\n",
      " [[ 0.55521466  0.48049225  0.49215285]\n",
      "  [ 0.49505614  0.4571189   0.49414226]\n",
      "  [ 0.57094438  0.70588497  0.45073708]]]\n"
     ]
    }
   ],
   "source": [
    "μ,σ = 0.5,0.1\n",
    "s = np.random.normal(μ,σ,(3,3,3))\n",
    "print(s)"
   ]
  },
  {
   "cell_type": "markdown",
   "metadata": {},
   "source": [
    "### 6. Operations on an array with random values\n",
    "\n",
    "Create a 10x10 array with random values. Find \n",
    "- the minimum value of the 2nd row\n",
    "- the maximum value of the 4th column"
   ]
  },
  {
   "cell_type": "code",
   "execution_count": 8,
   "metadata": {
    "collapsed": false
   },
   "outputs": [
    {
     "name": "stdout",
     "output_type": "stream",
     "text": [
      "[[80 11 63 21  7 80 53 82 60 77]\n",
      " [60 15 59 24 16 19 59 59 26 13]\n",
      " [21 43 20 93 84 14 59 87 39 12]\n",
      " [47 23 82 35 94 64 16 39 34 48]\n",
      " [21 75 21 10 90 72 93 66 43 64]\n",
      " [65 55 68 27 72 32 91 56 30 36]\n",
      " [30 94 91 53 75 84 38 97 82 27]\n",
      " [85  6 30 90 24 16 53 62 19 76]\n",
      " [51 91 49 26 47 83 18 88 97 15]\n",
      " [47 43 89 63  8 20 80 16  3 47]]\n",
      "13\n",
      "93\n"
     ]
    }
   ],
   "source": [
    "arr = np.random.randint(100, size=(10, 10))\n",
    "arr\n",
    "\n",
    "print(arr)\n",
    "\n",
    "a = arr[1]\n",
    "imin = a.argmin()\n",
    "print(a.min())\n",
    "\n",
    "x = arr[:, 3]\n",
    "imax = x.argmax()\n",
    "print(x.max())"
   ]
  },
  {
   "cell_type": "markdown",
   "metadata": {},
   "source": [
    "### 7. Vector without end points\n",
    "\n",
    "Create a vector of size 10 with values ranging from 0 to 1, both excluded."
   ]
  },
  {
   "cell_type": "code",
   "execution_count": 9,
   "metadata": {
    "collapsed": false
   },
   "outputs": [
    {
     "name": "stdout",
     "output_type": "stream",
     "text": [
      "[[ 0.09090909  0.18181818  0.27272727  0.36363636  0.45454545]\n",
      " [ 0.54545455  0.63636364  0.72727273  0.81818182  0.90909091]]\n"
     ]
    }
   ],
   "source": [
    "t = np.linspace(0,1,12,endpoint=True)[1:-1]\n",
    "print(t.reshape(2,5))"
   ]
  },
  {
   "cell_type": "markdown",
   "metadata": {},
   "source": [
    "### 8. Sorted random vector\n",
    "\n",
    "Create a random vector of size 10, then sort it."
   ]
  },
  {
   "cell_type": "code",
   "execution_count": 10,
   "metadata": {
    "collapsed": false
   },
   "outputs": [
    {
     "name": "stdout",
     "output_type": "stream",
     "text": [
      "[ 0.16327351  0.1873086   0.20434502  0.32511771  0.5191072   0.6748292\n",
      "  0.81492292  0.86354437  0.89703288  0.91195337]\n"
     ]
    }
   ],
   "source": [
    "a = np.random.random(10)\n",
    "a.sort()\n",
    "print(a)"
   ]
  },
  {
   "cell_type": "markdown",
   "metadata": {},
   "source": [
    "### 9. Test for array equality\n",
    "\n",
    "Write a function `is_equal(A, B)` that compare two arrays `A` and `B` and checks to see if they are equal. \n",
    "\n",
    "    return True if two arrays are the same shape and all the elements are equal.\n",
    "    \n",
    "    Inputs:\n",
    "        A, B:  array\n",
    "    Output:\n",
    "        Bool:  True if A and B have the same shape and identical elements.\n",
    "\n",
    "The arrays count as equal if they are the same shape and all elements in the array are equal."
   ]
  },
  {
   "cell_type": "code",
   "execution_count": 11,
   "metadata": {
    "collapsed": false
   },
   "outputs": [
    {
     "name": "stdout",
     "output_type": "stream",
     "text": [
      "True\n"
     ]
    }
   ],
   "source": [
    "a = np.random.random(1)\n",
    "b = np.random.random(1)\n",
    "\n",
    "def is_equal(a, b):\n",
    "    '''return True if two arrays are the same shape and all the elements are equal.\n",
    "\n",
    "Inputs:\n",
    "    A, B:  array\n",
    "Output:\n",
    "    Bool:  True if A and B have the same shape and identical elements.\n",
    "'''\n",
    "    if a.all(a)== a.all(b):\n",
    "        return True\n",
    "    else:\n",
    "        return False\n",
    "    \n",
    "print(is_equal(a, b))"
   ]
  },
  {
   "cell_type": "markdown",
   "metadata": {},
   "source": [
    "### 10. Subtract the row mean from rows of a matrix\n",
    "\n",
    "Create a matrix. Then subtract the mean of each row of the matrix from the respective row. Do this without using a loop (that is, using array operations)."
   ]
  },
  {
   "cell_type": "code",
   "execution_count": 12,
   "metadata": {
    "collapsed": false,
    "scrolled": true
   },
   "outputs": [
    {
     "name": "stdout",
     "output_type": "stream",
     "text": [
      "[[ 0.88508414  0.91323094  0.13075813  0.95564956]\n",
      " [ 0.96895061  0.54828108  0.00561944  0.27775139]\n",
      " [ 0.95951915  0.77955705  0.19390632  0.41302278]\n",
      " [ 0.5653373   0.68395735  0.3474266   0.55020242]]\n",
      "[[ 0.16390344  0.19205025 -0.59042256  0.23446887]\n",
      " [ 0.51879998  0.09813045 -0.44453119 -0.17239924]\n",
      " [ 0.37301782  0.19305573 -0.39259501 -0.17347854]\n",
      " [ 0.02860638  0.14722643 -0.18930432  0.0134715 ]]\n"
     ]
    }
   ],
   "source": [
    "a = np.random.rand(4,4) #create a new matrix\n",
    "b = a - a.mean(axis=1)[:, np.newaxis] #subtracting the mean from the rows\n",
    "\n",
    "print(a)\n",
    "print(b)"
   ]
  },
  {
   "cell_type": "markdown",
   "metadata": {},
   "source": [
    "### 11. Multiply arrays\n",
    "\n",
    "Multiply an array of dimension (5,5,3) with an array with dimensions (5,5). Then multiply an array of dimension (3,5,5) with an array of dimension (5,5)."
   ]
  },
  {
   "cell_type": "code",
   "execution_count": 13,
   "metadata": {
    "collapsed": false,
    "scrolled": true
   },
   "outputs": [
    {
     "name": "stdout",
     "output_type": "stream",
     "text": [
      "[[[ 0.58511576  0.09251072  0.484682  ]\n",
      "  [ 0.51856473  0.46314509  0.08034987]\n",
      "  [ 0.37925403  0.36030055  0.06190007]\n",
      "  [ 0.43888556  0.28847417  0.42014899]\n",
      "  [ 0.00656611  0.50123786  0.37677635]]\n",
      "\n",
      " [[ 0.06996412  0.53985741  0.3046442 ]\n",
      "  [ 0.51358114  0.20452972  0.27143654]\n",
      "  [ 0.48040523  0.24648747  0.20789673]\n",
      "  [ 0.21770112  0.23876199  0.37555997]\n",
      "  [ 0.46719334  0.11188486  0.62107533]]\n",
      "\n",
      " [[ 0.02818629  0.22950287  0.25357024]\n",
      "  [ 0.49556124  0.33266169  0.5247207 ]\n",
      "  [ 0.13524792  0.1150255   0.14497822]\n",
      "  [ 0.15054711  0.05387146  0.19655608]\n",
      "  [ 0.47964423  0.44745542  0.72004793]]\n",
      "\n",
      " [[ 0.49817006  0.10769831  0.16646288]\n",
      "  [ 0.13667512  0.4255326   0.62895983]\n",
      "  [ 0.16914125  0.3214853   0.33774802]\n",
      "  [ 0.20422927  0.40232997  0.30412015]\n",
      "  [ 0.06287489  0.05554216  0.10909337]]\n",
      "\n",
      " [[ 0.07473405  0.09617109  0.05717906]\n",
      "  [ 0.02117852  0.17590029  0.20532166]\n",
      "  [ 0.7621711   0.34201154  0.275049  ]\n",
      "  [ 0.04184609  0.0564112   0.35497875]\n",
      "  [ 0.5221313   0.19981096  0.22233592]]]\n",
      "[[[ 0.22513961  0.01348769  0.41902838  0.40589463  0.27124477]\n",
      "  [ 0.41362933  0.27238025  0.20016176  0.08250399  0.43890277]\n",
      "  [ 0.17320394  0.18356381  0.17537437  0.06917177  0.51540971]\n",
      "  [ 0.25995789  0.21234294  0.13142055  0.21245912  0.09754801]\n",
      "  [ 0.39775904  0.02734807  0.55481634  0.07362925  0.37080241]]\n",
      "\n",
      " [[ 0.2602683   0.22510022  0.07175261  0.37119812  0.15542177]\n",
      "  [ 0.21471968  0.57316629  0.5287835   0.62940082  0.48048564]\n",
      "  [ 0.01657457  0.46631984  0.20879785  0.04337305  0.48965439]\n",
      "  [ 0.47179842  0.7298591   0.38478481  0.36499255  0.04311485]\n",
      "  [ 0.29426134  0.17531728  0.47019223  0.09870965  0.31980326]]\n",
      "\n",
      " [[ 0.47965089  0.03601958  0.05733197  0.01807069  0.43119906]\n",
      "  [ 0.03875813  0.542059    0.39172611  0.21414852  0.31283151]\n",
      "  [ 0.21355505  0.30054381  0.13146329  0.11826849  0.32761397]\n",
      "  [ 0.25771837  0.27279837  0.11545748  0.27962708  0.12639547]\n",
      "  [ 0.10609198  0.21419794  0.0477338   0.14334743  0.14046112]]]\n"
     ]
    }
   ],
   "source": [
    "a = np.random.random((5,5,3))\n",
    "b = np.random.random((5,5))\n",
    "c = np.random.random((3,5,5))\n",
    "b2 = b[:, : , np.newaxis]   #create a new dimension so they arrays can be multiplied, otherwise an array with dimension(5,5,3) and (5,5) cannot be multiplied\n",
    "solution1 = a * b2  #multiplying array dimension (5,5,3) and (5,5)\n",
    "solution2 = b * c  #multiplying array dimension (3,5,5) and (5,5) np.dot function can be used for matrix multiplication\n",
    "\n",
    "print(solution1)\n",
    "print(solution2)"
   ]
  },
  {
   "cell_type": "markdown",
   "metadata": {},
   "source": [
    "### 12. Creating a new array\n",
    "\n",
    "Starting with an array\n",
    "\n",
    "    Z = [1,2,3,4,5,6,7,8,9,10,11,12,13,14].\n",
    "    \n",
    "Generate an array \n",
    "\n",
    "    R = [[1,2,3,4], [2,3,4,5], [3,4,5,6], ..., [11,12,13,14]]. "
   ]
  },
  {
   "cell_type": "code",
   "execution_count": 14,
   "metadata": {
    "collapsed": false,
    "scrolled": false
   },
   "outputs": [
    {
     "name": "stdout",
     "output_type": "stream",
     "text": [
      "[[ 1  2  3  4]\n",
      " [ 2  3  4  5]\n",
      " [ 3  4  5  6]\n",
      " [ 4  5  6  7]\n",
      " [ 5  6  7  8]\n",
      " [ 6  7  8  9]\n",
      " [ 7  8  9 10]\n",
      " [ 8  9 10 11]\n",
      " [ 9 10 11 12]\n",
      " [10 11 12 13]\n",
      " [11 12 13 14]]\n"
     ]
    }
   ],
   "source": [
    "z = np.arange(1,15, dtype=np.uint32)\n",
    "r = stride_tricks.as_strided(z,(11,4),(4,4))\n",
    "print(r)"
   ]
  },
  {
   "cell_type": "markdown",
   "metadata": {},
   "source": [
    "### 13. Convert from Cartesian to polar coordinates\n",
    "\n",
    "Write a function `cart2polar(xy)` which takes in an Nx2 matrix of `x, y` pairs representing Cartesian coordinates and return the locations represented in polar coordinates in the same shape matrix. The API is\n",
    "\n",
    "    Return equivalent polar coordinates of specified cartesian points.\n",
    "    \n",
    "    Inputs:\n",
    "        xy: array\n",
    "             Nx2 array of Cartesian coordinates, with columns x and y respectively.\n",
    "\n",
    "    Returns:\n",
    "        rp: array\n",
    "            Nx2 array of polar coordinates, with columns radius and angle respectively\n"
   ]
  },
  {
   "cell_type": "code",
   "execution_count": 15,
   "metadata": {
    "collapsed": false,
    "scrolled": true
   },
   "outputs": [
    {
     "data": {
      "text/plain": [
       "(array([ 0.98176336,  0.54054093,  1.05454056,  0.9281772 ,  0.41160188,\n",
       "         0.4465217 ]),\n",
       " array([ 0.39645268,  1.46600559,  0.83932542,  0.16733042,  0.5442864 ,\n",
       "         1.09043216]))"
      ]
     },
     "execution_count": 15,
     "metadata": {},
     "output_type": "execute_result"
    }
   ],
   "source": [
    "r = np.random.rand(6,2)\n",
    "def cart2polar(r):\n",
    "    '''Return equivalent polar coordinates of specified cartesian points.\n",
    "\n",
    "Inputs:\n",
    "    xy: array\n",
    "         Nx2 array of Cartesian coordinates, with columns x and y respectively.\n",
    "\n",
    "Returns:\n",
    "    rp: array\n",
    "        Nx2 array of polar coordinates, with columns radius and angle respectively'''\n",
    "    x = r[:,0]  # 0 axis\n",
    "    y = r[:,1]  # 1 axis\n",
    "    r = np.sqrt(x**2 + y**2)\n",
    "    theta = np.arctan2(y,x)\n",
    "    return(r,theta)\n",
    "\n",
    "cart2polar(r)"
   ]
  },
  {
   "cell_type": "markdown",
   "metadata": {},
   "source": [
    "### 14. Compute and time for loops and array operations.\n",
    "\n",
    "Calculate the time it takes to do what we did in class\n",
    "\n",
    "    a = np.arange(1024.0).reshape(4, 8, 16, 2)   # a 4D array using sequential numbers\n",
    "    b = np.random.rand(4, 8, 16, 2)              # a 4D array using random numbers\n",
    "    sol = a * b  # element-by-element multiplication. This operation is about as fast as it can be on your computer.\n",
    "\n",
    "and the time required for doing the same operation with a series of 4 `for` loops, one for each dimension of the arrays. Compare the times by calculating a ratio."
   ]
  },
  {
   "cell_type": "code",
   "execution_count": 16,
   "metadata": {
    "collapsed": false,
    "scrolled": false
   },
   "outputs": [
    {
     "name": "stdout",
     "output_type": "stream",
     "text": [
      "0.0005 seconds have passed.\n",
      "0.0230 seconds have passed.\n",
      "48.10204081632653\n"
     ]
    }
   ],
   "source": [
    "t_start1 = time.time()\n",
    "a = np.arange(1024.0).reshape(4, 8, 16, 2)   # a 4D array using sequential numbers\n",
    "b = np.random.rand(4, 8, 16, 2)              # a 4D array using random numbers\n",
    "sol = a * b \n",
    "\n",
    "t_stop1 = time.time()\n",
    "time1 = t_stop1-t_start1\n",
    "\n",
    "print('{:6.4f} seconds have passed.'.format(t_stop1-t_start1))\n",
    "\n",
    "#looping over each dimension - a[i,j,k,l]*b[i,j,k,l] a nested loop for i,j,k,l \n",
    "t_start2 = time.time()\n",
    "array = []\n",
    "#create a new empty array\n",
    "for i in range(a.shape[0]): #start of a four for loop \n",
    "    for j in range(a.shape[1]):\n",
    "        for k in range(a.shape[2]):\n",
    "            for l in range(a.shape[3]):\n",
    "                array = np.append(array, a[i, j, k, l]*b[i, j, k, l])\n",
    "\n",
    "array.reshape(4, 8, 16, 2)\n",
    "t_stop2 = time.time()\n",
    "time2 = t_stop2-t_start2\n",
    "print('{:6.4f} seconds have passed.'.format(t_stop2-t_start2))\n",
    "\n",
    "ratio = time2/time1\n",
    "print(ratio)"
   ]
  },
  {
   "cell_type": "markdown",
   "metadata": {},
   "source": [
    "### 15. Fix the code\n",
    "\n",
    "This code needs to be fixed so that it can run properly and pass the assertion test at the bottom. Write out what you changed to make it work and why it needed to be changed."
   ]
  },
  {
   "cell_type": "code",
   "execution_count": 17,
   "metadata": {
    "collapsed": false,
    "scrolled": true
   },
   "outputs": [
    {
     "name": "stdout",
     "output_type": "stream",
     "text": [
      "[[ 2.25  2.25]\n",
      " [ 2.25  2.25]\n",
      " [ 3.    3.  ]]\n"
     ]
    }
   ],
   "source": [
    "def calculate(a, b):\n",
    "    \"\"\"Do some calculations\n",
    "    \n",
    "    Take in two arrays, subtract 1/4 of the [:2,:] elements from the elements themselves.\n",
    "    Then multiply with array b and return the result.\n",
    "    \n",
    "    Inputs:\n",
    "        a: input array, shape [MxN]\n",
    "        b: input array, shape [M]\n",
    "    \n",
    "    Returns:\n",
    "        resultant array\n",
    "    \"\"\"\n",
    "\n",
    "    aa = a[:2, :]\n",
    "    aa -= (aa/4.) #changed to -=(aa/4)\n",
    "    #a[:2, :] -= aa remove this line from the code\n",
    "    t = a.T  #transpose the array so they can be multiplied together\n",
    "\n",
    "    return (t*b).T \n",
    "    \n",
    "\n",
    "a = np.ones((3, 2))\n",
    "b = np.ones(3)*3\n",
    "res = calculate(a, b)\n",
    "\n",
    "print(res) #printing to check the array\n",
    "\n",
    "assert (res == np.array([[ 2.25,  2.25],[ 2.25,  2.25],[ 3., 3.]])).all()"
   ]
  },
  {
   "cell_type": "markdown",
   "metadata": {},
   "source": [
    "### 16. Calculate components of a vector\n",
    "\n",
    "Read in file `data/burl1h2010.txt`. This file gives a bunch of data from a wind station. In particular, read in the wind direction, `WDIR`, and wind speed, `WSPD`. Then, write a function that calculates and returns the `u` and `v` components of this wind vector, which point along the x- and y-axes.\n",
    "\n",
    "The function should have the following basic functionality:\n",
    "\n",
    "    Take in vector and return components.\n",
    "    \n",
    "    Inputs:\n",
    "        vdir: vector direction in degrees\n",
    "        vspd: vector magnitude\n",
    "        \n",
    "    Returns:\n",
    "        u: x component of vector\n",
    "        v: y component of vector\n"
   ]
  },
  {
   "cell_type": "code",
   "execution_count": 31,
   "metadata": {
    "collapsed": false
   },
   "outputs": [
    {
     "name": "stdout",
     "output_type": "stream",
     "text": [
      "[ 134.  123.  130. ...,  147.  152.  150.]\n",
      "[  3.    3.6   3.3 ...,  11.4  11.9  10.2]\n",
      "(array([-1.39148661, -3.19668806, -1.21206139, ..., -9.04175518,\n",
      "        4.27262701,  7.13235823]), array([  2.65777445,  -1.65565257,  -3.06934964, ...,   6.94310185,\n",
      "        11.10651423,  -7.29173958]))\n"
     ]
    }
   ],
   "source": [
    "file = np.loadtxt('burl1h2010.txt')\n",
    "wind_direction = data[:,5] #input wind direction\n",
    "wind_speed = data[:,6] #input wind speed\n",
    "print(wind_direction)#degT\n",
    "print(wind_speed)#m/s\n",
    "\n",
    "def wind_vector(vdir,vspd):\n",
    "        '''Take in vector and return components.\n",
    "\n",
    "Inputs:\n",
    "    vdir: vector direction in degrees\n",
    "    vspd: vector magnitude\n",
    "\n",
    "Returns:\n",
    "    u: x component of vector\n",
    "    v: y component of vector'''\n",
    "        u = vspd*(np.cos(vdir))\n",
    "        v = vspd*(np.sin(vdir))\n",
    "        return u,v\n",
    "wind_vector(wind_direction,wind_speed)\n",
    "\n",
    "print(wind_vector(wind_direction,wind_speed))"
   ]
  },
  {
   "cell_type": "markdown",
   "metadata": {},
   "source": [
    "### 17. (Grad) Write and use a class\n",
    "\n",
    "Consider one of the data files located in `python4geosciences/data/MCH/`. Write a class, `dataclass`, to store some of the information in the file. The class should:\n",
    "\n",
    "* be initialized with the name of the file (without file type suffix of .cnv2), and the temperature and salinity values found in the file;\n",
    "* contain a method, `salt_mean`, which returns the mean of the salinity;\n",
    "* contain a method, `temp_max`, which returns the maximum value of the temperature values.\n",
    "\n",
    "Notice that there are many data files in this directory. It would be a lot of work to read them all in by hand. Instead, write a loop which loops through the file names, reads in the necessary data, calls `dataclass` to store the data in a class instance, and adds it to a list of all of the class instances. At the end of your solution, you should have a list of all of the class instances, one for each data file. As usage examples, if your list of data objects is called `wind`, you should be able to access the temperatures from the 3rd file that is read in with\n",
    "\n",
    "    wind[2].temp\n",
    "\n",
    "and you should be able to calculate the mean salinity of the final file with \n",
    "\n",
    "    wind[-1].salt_mean()\n",
    "\n",
    "Hint: Check out the package `glob` for reading in file names with a wild card. "
   ]
  },
  {
   "cell_type": "code",
   "execution_count": null,
   "metadata": {
    "collapsed": false
   },
   "outputs": [],
   "source": [
    "#creating a class\n",
    "class data_class:\n",
    "    '''Creating a class to store information from the m1007c file'''\n",
    "    def __init__(self, fname, salinity, temperature):\n",
    "        self.fname = [fname]\n",
    "        self.salinity = [salinity]\n",
    "        self.temperature = [temperature]\n",
    "    def salt_mean(self):\n",
    "        '''returns the mean of salinity'''\n",
    "        return np.mean(self.salinity)\n",
    "    def temp_max(self):\n",
    "        '''returns the max value for temperature'''\n",
    "        return np.max(self.temperature)\n",
    "    \n",
    "#loop to go through the files in MCH\n",
    "CTDdata = [] #empty list\n",
    "CTD_file = glob.glob('MCH/*.cnv2') #using the glob package to read in file names withs a wild card\n",
    "for file in CTD_file:\n",
    "    fname = np.genfromtxt(file, skip_header = 57)\n",
    "    salinity = fname[:,5]\n",
    "    temperature = fname[:,2]\n",
    "    CTDdata.append(data_class(fname,salinity,temperature))"
   ]
  },
  {
   "cell_type": "code",
   "execution_count": null,
   "metadata": {
    "collapsed": false
   },
   "outputs": [],
   "source": [
    "CTDdata[-1].salt_mean()"
   ]
  },
  {
   "cell_type": "code",
   "execution_count": null,
   "metadata": {
    "collapsed": false,
    "scrolled": true
   },
   "outputs": [],
   "source": [
    "CTDdata[2].temperature"
   ]
  },
  {
   "cell_type": "markdown",
   "metadata": {},
   "source": [
    "### 18. (Grad) Running mean\n",
    "\n",
    "Write a function that computes averages using a sliding window over a vector; that is, it should take in a vector and for every element in the vector, compute the average of that point with the N points on either side of the element. N should also be an input parameter, and the function should return the original vector if N=0. The returned vector should be the same size as the input vector.\n",
    "\n",
    "Do not use the `pandas` package or the function `convolve`; instead, use a loop. Use the following API for your function:\n",
    "\n",
    "    Return the running average of a vector, with averaging window of size N.\n",
    "    \n",
    "    Inputs:\n",
    "        vec: Input vector\n",
    "        N (int): Averaging window size, or number of elements to include in mean on either side of each element.\n",
    "    \n",
    "    Outputs:\n",
    "        out: Vector of running-averaged values; same size as vec\n"
   ]
  },
  {
   "cell_type": "code",
   "execution_count": null,
   "metadata": {
    "collapsed": false,
    "scrolled": false
   },
   "outputs": [],
   "source": [
    "x = np.arange(100) # Create a vector to test the function.\n",
    "\n",
    "def RunningMean(x, N):\n",
    "    '''Return the running average of a vector, with averaging window of size N.\n",
    "\n",
    "Inputs:\n",
    "    vec: Input vector\n",
    "    N (int): Averaging window size, or number of elements to include in mean on either side of each element.\n",
    "\n",
    "Outputs:\n",
    "    out: Vector of running-averaged values; same size as vec'''\n",
    "    if N == 0:\n",
    "        return x\n",
    "    else:\n",
    "        cumsum = np.cumsum(np.insert(x, 0, 0)) #cumsum is used to calculate cumulative sum\n",
    "        return (cumsum[N:] - cumsum[:-N]) / N\n",
    "\n",
    "print (RunningMean(x,2)) # Test the function using the random vector \n",
    "print (RunningMean(x,0)) # Test the function using the random vector x, should return same size as the original vector "
   ]
  },
  {
   "cell_type": "code",
   "execution_count": null,
   "metadata": {
    "collapsed": true
   },
   "outputs": [],
   "source": []
  }
 ],
 "metadata": {
  "kernelspec": {
   "display_name": "Python 3",
   "language": "python",
   "name": "python3"
  },
  "language_info": {
   "codemirror_mode": {
    "name": "ipython",
    "version": 3
   },
   "file_extension": ".py",
   "mimetype": "text/x-python",
   "name": "python",
   "nbconvert_exporter": "python",
   "pygments_lexer": "ipython3",
   "version": "3.5.1"
  }
 },
 "nbformat": 4,
 "nbformat_minor": 0
}
