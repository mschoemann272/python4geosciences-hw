{
 "cells": [
  {
   "cell_type": "markdown",
   "metadata": {},
   "source": [
    "# Homework 03\n",
    "\n",
    "## Due Tuesday, February 16th"
   ]
  },
  {
   "cell_type": "code",
   "execution_count": 83,
   "metadata": {
    "collapsed": true
   },
   "outputs": [],
   "source": [
    "import numpy as np\n",
    "import time\n",
    "from numpy.lib import stride_tricks"
   ]
  },
  {
   "cell_type": "markdown",
   "metadata": {},
   "source": [
    "### 1. Vector manipulation\n",
    "\n",
    "Create a vector of zeros of size 10 but have the fifth value be 1."
   ]
  },
  {
   "cell_type": "code",
   "execution_count": 84,
   "metadata": {
    "collapsed": false
   },
   "outputs": [
    {
     "name": "stdout",
     "output_type": "stream",
     "text": [
      "[ 0.  0.  0.  0.  1.  0.  0.  0.  0.  0.]\n"
     ]
    }
   ],
   "source": [
    "a = np.zeros(10)  #creating a vector of zeros, size 10\n",
    "a[4]=1   #Make the 5th value a 1 in the array\n",
    "print(a)"
   ]
  },
  {
   "cell_type": "markdown",
   "metadata": {},
   "source": [
    "### 2. Vector range\n",
    "\n",
    "Create a vector with values ranging from 10 to 49, inclusive."
   ]
  },
  {
   "cell_type": "code",
   "execution_count": 85,
   "metadata": {
    "collapsed": false
   },
   "outputs": [
    {
     "data": {
      "text/plain": [
       "array([10, 11, 12, 13, 14, 15, 16, 17, 18, 19, 20, 21, 22, 23, 24, 25, 26,\n",
       "       27, 28, 29, 30, 31, 32, 33, 34, 35, 36, 37, 38, 39, 40, 41, 42, 43,\n",
       "       44, 45, 46, 47, 48, 49])"
      ]
     },
     "execution_count": 85,
     "metadata": {},
     "output_type": "execute_result"
    }
   ],
   "source": [
    "b = range(10,50)\n",
    "np.array(b)"
   ]
  },
  {
   "cell_type": "markdown",
   "metadata": {},
   "source": [
    "### 3. Reverse a vector\n",
    "\n",
    "Write a function, `reverse(x)` which reverses a vector, so that the first element becomes the last element. The API should be\n",
    "\n",
    "    return a 1D vector with the elements reversed\n",
    "    \n",
    "    Input\n",
    "    -----\n",
    "        x: 1D array\n",
    "    \n",
    "    Output\n",
    "    ------\n",
    "        res: 1D array, with the elements of `x` reversed\n",
    "\n",
    "Include this (or an equivalent description) in the function's docstring."
   ]
  },
  {
   "cell_type": "code",
   "execution_count": 86,
   "metadata": {
    "collapsed": false
   },
   "outputs": [
    {
     "data": {
      "text/plain": [
       "[10, 9, 8, 7, 6, 5, 4, 3, 2, 1]"
      ]
     },
     "execution_count": 86,
     "metadata": {},
     "output_type": "execute_result"
    }
   ],
   "source": [
    "x = [1, 2, 3, 4, 5, 6, 7, 8, 9, 10]\n",
    "\n",
    "def reverse(x):\n",
    "    '''return a 1D vector with the elements reversed\n",
    "Input x: 1D array\n",
    "Output res: 1D array, with the elements of `x` reversed'''\n",
    "    return x[::-1]\n",
    "x.reverse()  #the numpy method to reverse an array\n",
    "x"
   ]
  },
  {
   "cell_type": "markdown",
   "metadata": {},
   "source": [
    "### 4. Find indices of non-zero elements\n",
    "\n",
    "Write a function `find_nonzero(x)` that finds the indices of non-zero elements, with an API like\n",
    "\n",
    "    return the indices of non-zero elements of an array.\n",
    "\n",
    "    Input:      x:  array\n",
    "    Output:     indices: array of integer indices\n",
    "\n",
    "Use the function to get out the non-zero elements from an array containing the elements [1,2,0,0,4,0]."
   ]
  },
  {
   "cell_type": "code",
   "execution_count": 87,
   "metadata": {
    "collapsed": false
   },
   "outputs": [
    {
     "name": "stdout",
     "output_type": "stream",
     "text": [
      "(array([0, 1, 4]),)\n"
     ]
    }
   ],
   "source": [
    "x = [1, 2, 0, 0, 4, 0]\n",
    "def find_nonzero(x):\n",
    "    \"\"\"return the indices of non-zero elements of an array.\n",
    "Input: x:  array\n",
    "Output:indices: array of integer indices\"\"\"\n",
    "    np.nonzero(x==0)[0]\n",
    "        \n",
    "print(np.nonzero(x))"
   ]
  },
  {
   "cell_type": "markdown",
   "metadata": {},
   "source": [
    "### 5. Array with random values\n",
    "\n",
    "Create a 3x3x3 array with normally distributed ($\\mu =0, \\sigma=1)$ random values."
   ]
  },
  {
   "cell_type": "code",
   "execution_count": 88,
   "metadata": {
    "collapsed": false
   },
   "outputs": [
    {
     "name": "stdout",
     "output_type": "stream",
     "text": [
      "[[[ 0.45837898  0.5461119   0.34179316]\n",
      "  [ 0.46353804  0.47451904  0.3464074 ]\n",
      "  [ 0.73908299  0.51569206  0.60059709]]\n",
      "\n",
      " [[ 0.55430791  0.40352669  0.64428565]\n",
      "  [ 0.59389645  0.43631174  0.47556084]\n",
      "  [ 0.6368071   0.58963775  0.51555171]]\n",
      "\n",
      " [[ 0.58888536  0.53910266  0.42352499]\n",
      "  [ 0.48588863  0.7273072   0.3523288 ]\n",
      "  [ 0.58328951  0.40665383  0.46097446]]]\n"
     ]
    }
   ],
   "source": [
    "μ,σ = 0.5,0.1\n",
    "s = np.random.normal(μ,σ,(3,3,3))\n",
    "print(s)"
   ]
  },
  {
   "cell_type": "markdown",
   "metadata": {},
   "source": [
    "### 6. Operations on an array with random values\n",
    "\n",
    "Create a 10x10 array with random values. Find \n",
    "- the minimum value of the 2nd row\n",
    "- the maximum value of the 4th column"
   ]
  },
  {
   "cell_type": "code",
   "execution_count": 89,
   "metadata": {
    "collapsed": false
   },
   "outputs": [
    {
     "name": "stdout",
     "output_type": "stream",
     "text": [
      "[[99 72 47 31 67 65 63 58 30 82]\n",
      " [46 21 87 10 94 81 74  9  8 47]\n",
      " [11 80 52 85 54 75 25 64 96 99]\n",
      " [60 95 67 83  4 89  2 48 37 74]\n",
      " [55 94 92 50 87 16 47 18  4 32]\n",
      " [90 99 33 75 26 76 63 96 83 75]\n",
      " [82 35 97 20  5 32 66 86 71  4]\n",
      " [70  0 78  7 85 32  2 27 26 53]\n",
      " [19 50 64 74 43 43 88 35 30 23]\n",
      " [38 44 36 31 57 95 53 71 16 54]]\n",
      "8\n",
      "85\n"
     ]
    }
   ],
   "source": [
    "arr = np.random.randint(100, size=(10, 10))\n",
    "arr\n",
    "\n",
    "print(arr)\n",
    "\n",
    "a = arr[1]\n",
    "imin = a.argmin()\n",
    "print(a.min())\n",
    "\n",
    "x = arr[:, 3]\n",
    "imax = x.argmax()\n",
    "print(x.max())"
   ]
  },
  {
   "cell_type": "markdown",
   "metadata": {},
   "source": [
    "### 7. Vector without end points\n",
    "\n",
    "Create a vector of size 10 with values ranging from 0 to 1, both excluded."
   ]
  },
  {
   "cell_type": "code",
   "execution_count": 90,
   "metadata": {
    "collapsed": false
   },
   "outputs": [
    {
     "name": "stdout",
     "output_type": "stream",
     "text": [
      "[[ 0.09090909  0.18181818  0.27272727  0.36363636  0.45454545]\n",
      " [ 0.54545455  0.63636364  0.72727273  0.81818182  0.90909091]]\n"
     ]
    }
   ],
   "source": [
    "t = np.linspace(0,1,12,endpoint=True)[1:-1]\n",
    "print(t.reshape(2,5))"
   ]
  },
  {
   "cell_type": "markdown",
   "metadata": {},
   "source": [
    "### 8. Sorted random vector\n",
    "\n",
    "Create a random vector of size 10, then sort it."
   ]
  },
  {
   "cell_type": "code",
   "execution_count": 91,
   "metadata": {
    "collapsed": false
   },
   "outputs": [
    {
     "name": "stdout",
     "output_type": "stream",
     "text": [
      "[ 0.00271217  0.18461875  0.31849445  0.32236119  0.52271006  0.69482712\n",
      "  0.80899291  0.84279759  0.88673921  0.91258171]\n"
     ]
    }
   ],
   "source": [
    "a = np.random.random(10)\n",
    "a.sort()\n",
    "print(a)"
   ]
  },
  {
   "cell_type": "markdown",
   "metadata": {},
   "source": [
    "### 9. Test for array equality\n",
    "\n",
    "Write a function `is_equal(A, B)` that compare two arrays `A` and `B` and checks to see if they are equal. \n",
    "\n",
    "    return True if two arrays are the same shape and all the elements are equal.\n",
    "    \n",
    "    Inputs:\n",
    "        A, B:  array\n",
    "    Output:\n",
    "        Bool:  True if A and B have the same shape and identical elements.\n",
    "\n",
    "The arrays count as equal if they are the same shape and all elements in the array are equal."
   ]
  },
  {
   "cell_type": "code",
   "execution_count": 92,
   "metadata": {
    "collapsed": false
   },
   "outputs": [
    {
     "name": "stdout",
     "output_type": "stream",
     "text": [
      "True\n"
     ]
    }
   ],
   "source": [
    "a = np.random.random(1)\n",
    "b = np.random.random(1)\n",
    "\n",
    "def is_equal(a, b):\n",
    "    '''return True if two arrays are the same shape and all the elements are equal.\n",
    "\n",
    "Inputs:\n",
    "    A, B:  array\n",
    "Output:\n",
    "    Bool:  True if A and B have the same shape and identical elements.\n",
    "'''\n",
    "    if a.all(a)== a.all(b):\n",
    "        return True\n",
    "    else:\n",
    "        return False\n",
    "    \n",
    "print(is_equal(a, b))"
   ]
  },
  {
   "cell_type": "markdown",
   "metadata": {},
   "source": [
    "### 10. Subtract the row mean from rows of a matrix\n",
    "\n",
    "Create a matrix. Then subtract the mean of each row of the matrix from the respective row. Do this without using a loop (that is, using array operations)."
   ]
  },
  {
   "cell_type": "code",
   "execution_count": 93,
   "metadata": {
    "collapsed": false,
    "scrolled": true
   },
   "outputs": [
    {
     "name": "stdout",
     "output_type": "stream",
     "text": [
      "[[  8.18594110e-04   9.98170187e-01   3.87643779e-02   2.90296006e-02]\n",
      " [  6.76419823e-01   8.34863897e-01   8.93708092e-01   3.01043216e-01]\n",
      " [  3.75016676e-01   2.57814359e-01   2.60215183e-01   5.33550147e-02]\n",
      " [  1.78240264e-01   6.80472537e-01   3.51161545e-01   7.80893051e-01]]\n",
      "[[ -2.65877096e-01   7.31474497e-01  -2.27931312e-01  -2.37666089e-01]\n",
      " [ -8.89341137e-05   1.58355140e-01   2.17199335e-01  -3.75465541e-01]\n",
      " [  1.38416368e-01   2.12140505e-02   2.36148749e-02  -1.83245293e-01]\n",
      " [ -3.19451585e-01   1.82780688e-01  -1.46530304e-01   2.83201202e-01]]\n"
     ]
    }
   ],
   "source": [
    "a = np.random.rand(4,4) #create a new matrix\n",
    "b = a - a.mean(axis=1)[:, np.newaxis] #subtracting the mean from the rows\n",
    "\n",
    "print(a)\n",
    "print(b)"
   ]
  },
  {
   "cell_type": "markdown",
   "metadata": {},
   "source": [
    "### 11. Multiply arrays\n",
    "\n",
    "Multiply an array of dimension (5,5,3) with an array with dimensions (5,5). Then multiply an array of dimension (3,5,5) with an array of dimension (5,5)."
   ]
  },
  {
   "cell_type": "code",
   "execution_count": 94,
   "metadata": {
    "collapsed": false,
    "scrolled": true
   },
   "outputs": [
    {
     "name": "stdout",
     "output_type": "stream",
     "text": [
      "[[[ 0.33288609  0.22948746  0.4000143 ]\n",
      "  [ 0.29250851  0.05175532  0.103207  ]\n",
      "  [ 0.1075573   0.911364    0.52430389]\n",
      "  [ 0.04686416  0.04627171  0.04291759]\n",
      "  [ 0.00602789  0.00476149  0.00830945]]\n",
      "\n",
      " [[ 0.01408373  0.00517833  0.00460285]\n",
      "  [ 0.17120355  0.27745367  0.85637913]\n",
      "  [ 0.23203159  0.01885277  0.26199276]\n",
      "  [ 0.05021027  0.20204231  0.19420472]\n",
      "  [ 0.62581769  0.55625861  0.47467254]]\n",
      "\n",
      " [[ 0.53350474  0.07879812  0.39230244]\n",
      "  [ 0.06363137  0.0283679   0.21932955]\n",
      "  [ 0.02509172  0.58928032  0.13981677]\n",
      "  [ 0.04723207  0.20155579  0.21578944]\n",
      "  [ 0.14976172  0.30793153  0.30556842]]\n",
      "\n",
      " [[ 0.09500097  0.18364024  0.29064367]\n",
      "  [ 0.51579753  0.17345581  0.5495508 ]\n",
      "  [ 0.26267266  0.49565884  0.20650276]\n",
      "  [ 0.09973096  0.15105339  0.16863242]\n",
      "  [ 0.19569167  0.1237089   0.14344632]]\n",
      "\n",
      " [[ 0.44582563  0.55700842  0.43871882]\n",
      "  [ 0.16964516  0.17303583  0.05129856]\n",
      "  [ 0.24149849  0.6985156   0.40629139]\n",
      "  [ 0.0087447   0.00449815  0.02919903]\n",
      "  [ 0.01333879  0.17783824  0.21714178]]]\n",
      "[[[ 0.21925649  0.06158931  0.18101257  0.04579318  0.00146645]\n",
      "  [ 0.00439641  0.74809303  0.22867159  0.13108555  0.1872561 ]\n",
      "  [ 0.58616015  0.0885315   0.27474735  0.19925186  0.04953291]\n",
      "  [ 0.24160022  0.25366966  0.59558978  0.07637627  0.01207531]\n",
      "  [ 0.23824609  0.28916196  0.01407863  0.02272737  0.33758852]]\n",
      "\n",
      " [[ 0.10044315  0.12208218  0.32343804  0.0036536   0.00461491]\n",
      "  [ 0.00173512  0.38381805  0.03660937  0.37073898  0.22608621]\n",
      "  [ 0.16031708  0.16056927  0.42868737  0.04058791  0.05089486]\n",
      "  [ 0.43520646  0.35636482  0.40350672  0.08876716  0.12711492]\n",
      "  [ 0.51438501  0.04671354  0.42842147  0.02510215  0.08581595]]\n",
      "\n",
      " [[ 0.16709316  0.14322914  0.32654006  0.01949298  0.00459834]\n",
      "  [ 0.01626218  0.53506576  0.14783081  0.396166    0.35638802]\n",
      "  [ 0.01205809  0.02276213  0.04718375  0.05087271  0.10453146]\n",
      "  [ 0.19667524  0.16908704  0.28173012  0.1372036   0.18599209]\n",
      "  [ 0.29811726  0.17571836  0.80134942  0.02574355  0.0180743 ]]]\n"
     ]
    }
   ],
   "source": [
    "a = np.random.random((5,5,3))\n",
    "b = np.random.random((5,5))\n",
    "c = np.random.random((3,5,5))\n",
    "b2 = b[:, : , np.newaxis]   #create a new dimension so they arrays can be multiplied, otherwise an array with dimension(5,5,3) and (5,5) cannot be multiplied\n",
    "solution1 = a * b2  #multiplying array dimension (5,5,3) and (5,5)\n",
    "solution2 = b * c  #multiplying array dimension (3,5,5) and (5,5) np.dot function can be used for matrix multiplication\n",
    "\n",
    "print(solution1)\n",
    "print(solution2)"
   ]
  },
  {
   "cell_type": "markdown",
   "metadata": {},
   "source": [
    "### 12. Creating a new array\n",
    "\n",
    "Starting with an array\n",
    "\n",
    "    Z = [1,2,3,4,5,6,7,8,9,10,11,12,13,14].\n",
    "    \n",
    "Generate an array \n",
    "\n",
    "    R = [[1,2,3,4], [2,3,4,5], [3,4,5,6], ..., [11,12,13,14]]. "
   ]
  },
  {
   "cell_type": "code",
   "execution_count": 95,
   "metadata": {
    "collapsed": false,
    "scrolled": false
   },
   "outputs": [
    {
     "name": "stdout",
     "output_type": "stream",
     "text": [
      "[[ 1  2  3  4]\n",
      " [ 2  3  4  5]\n",
      " [ 3  4  5  6]\n",
      " [ 4  5  6  7]\n",
      " [ 5  6  7  8]\n",
      " [ 6  7  8  9]\n",
      " [ 7  8  9 10]\n",
      " [ 8  9 10 11]\n",
      " [ 9 10 11 12]\n",
      " [10 11 12 13]\n",
      " [11 12 13 14]]\n"
     ]
    }
   ],
   "source": [
    "z = np.arange(1,15, dtype=np.uint32)\n",
    "r = stride_tricks.as_strided(z,(11,4),(4,4))\n",
    "print(r)"
   ]
  },
  {
   "cell_type": "markdown",
   "metadata": {},
   "source": [
    "### 13. Convert from Cartesian to polar coordinates\n",
    "\n",
    "Write a function `cart2polar(xy)` which takes in an Nx2 matrix of `x, y` pairs representing Cartesian coordinates and return the locations represented in polar coordinates in the same shape matrix. The API is\n",
    "\n",
    "    Return equivalent polar coordinates of specified cartesian points.\n",
    "    \n",
    "    Inputs:\n",
    "        xy: array\n",
    "             Nx2 array of Cartesian coordinates, with columns x and y respectively.\n",
    "\n",
    "    Returns:\n",
    "        rp: array\n",
    "            Nx2 array of polar coordinates, with columns radius and angle respectively\n"
   ]
  },
  {
   "cell_type": "code",
   "execution_count": 96,
   "metadata": {
    "collapsed": false,
    "scrolled": true
   },
   "outputs": [
    {
     "data": {
      "text/plain": [
       "(array([ 0.97484446,  1.00735976,  0.60213296,  0.66434   ,  0.96462499,\n",
       "         0.10636396]),\n",
       " array([ 0.60949994,  0.25213505,  0.02498267,  0.81756687,  0.40969769,\n",
       "         1.01761841]))"
      ]
     },
     "execution_count": 96,
     "metadata": {},
     "output_type": "execute_result"
    }
   ],
   "source": [
    "r = np.random.rand(6,2)\n",
    "def cart2polar(r):\n",
    "    '''Return equivalent polar coordinates of specified cartesian points.\n",
    "\n",
    "Inputs:\n",
    "    xy: array\n",
    "         Nx2 array of Cartesian coordinates, with columns x and y respectively.\n",
    "\n",
    "Returns:\n",
    "    rp: array\n",
    "        Nx2 array of polar coordinates, with columns radius and angle respectively'''\n",
    "    x = r[:,0]  # 0 axis\n",
    "    y = r[:,1]  # 1 axis\n",
    "    r = np.sqrt(x**2 + y**2)\n",
    "    theta = np.arctan2(y,x)\n",
    "    return(r,theta)\n",
    "\n",
    "cart2polar(r)"
   ]
  },
  {
   "cell_type": "markdown",
   "metadata": {},
   "source": [
    "### 14. Compute and time for loops and array operations.\n",
    "\n",
    "Calculate the time it takes to do what we did in class\n",
    "\n",
    "    a = np.arange(1024.0).reshape(4, 8, 16, 2)   # a 4D array using sequential numbers\n",
    "    b = np.random.rand(4, 8, 16, 2)              # a 4D array using random numbers\n",
    "    sol = a * b  # element-by-element multiplication. This operation is about as fast as it can be on your computer.\n",
    "\n",
    "and the time required for doing the same operation with a series of 4 `for` loops, one for each dimension of the arrays. Compare the times by calculating a ratio."
   ]
  },
  {
   "cell_type": "code",
   "execution_count": 108,
   "metadata": {
    "collapsed": false,
    "scrolled": false
   },
   "outputs": [
    {
     "name": "stdout",
     "output_type": "stream",
     "text": [
      "0.0005 seconds have passed.\n",
      "0.0253 seconds have passed.\n",
      "55.669117647058826\n"
     ]
    }
   ],
   "source": [
    "t_start1 = time.time()\n",
    "a = np.arange(1024.0).reshape(4, 8, 16, 2)   # a 4D array using sequential numbers\n",
    "b = np.random.rand(4, 8, 16, 2)              # a 4D array using random numbers\n",
    "sol = a * b \n",
    "\n",
    "t_stop1 = time.time()\n",
    "time1 = t_stop1-t_start1\n",
    "\n",
    "print('{:6.4f} seconds have passed.'.format(t_stop1-t_start1))\n",
    "\n",
    "#looping over each dimension - a[i,j,k,l]*b[i,j,k,l] a nested loop for i,j,k,l \n",
    "t_start2 = time.time()\n",
    "array = []\n",
    "#create a new empty array\n",
    "for i in range(a.shape[0]): #start of a four for loop \n",
    "    for j in range(a.shape[1]):\n",
    "        for k in range(a.shape[2]):\n",
    "            for l in range(a.shape[3]):\n",
    "                array = np.append(array, a[i, j, k, l]*b[i, j, k, l])\n",
    "\n",
    "array.reshape(4, 8, 16, 2)\n",
    "t_stop2 = time.time()\n",
    "time2 = t_stop2-t_start2\n",
    "print('{:6.4f} seconds have passed.'.format(t_stop2-t_start2))\n",
    "\n",
    "ratio = time2/time1\n",
    "print(ratio)"
   ]
  },
  {
   "cell_type": "markdown",
   "metadata": {},
   "source": [
    "### 15. Fix the code\n",
    "\n",
    "This code needs to be fixed so that it can run properly and pass the assertion test at the bottom. Write out what you changed to make it work and why it needed to be changed."
   ]
  },
  {
   "cell_type": "code",
   "execution_count": 98,
   "metadata": {
    "collapsed": false
   },
   "outputs": [
    {
     "ename": "ValueError",
     "evalue": "operands could not be broadcast together with shapes (3,2) (3,) ",
     "output_type": "error",
     "traceback": [
      "\u001b[0;31m---------------------------------------------------------------------------\u001b[0m",
      "\u001b[0;31mValueError\u001b[0m                                Traceback (most recent call last)",
      "\u001b[0;32m<ipython-input-98-b67c822f5c73>\u001b[0m in \u001b[0;36m<module>\u001b[0;34m()\u001b[0m\n\u001b[1;32m     22\u001b[0m \u001b[0ma\u001b[0m \u001b[0;34m=\u001b[0m \u001b[0mnp\u001b[0m\u001b[0;34m.\u001b[0m\u001b[0mones\u001b[0m\u001b[0;34m(\u001b[0m\u001b[0;34m(\u001b[0m\u001b[0;36m3\u001b[0m\u001b[0;34m,\u001b[0m \u001b[0;36m2\u001b[0m\u001b[0;34m)\u001b[0m\u001b[0;34m)\u001b[0m\u001b[0;34m\u001b[0m\u001b[0m\n\u001b[1;32m     23\u001b[0m \u001b[0mb\u001b[0m \u001b[0;34m=\u001b[0m \u001b[0mnp\u001b[0m\u001b[0;34m.\u001b[0m\u001b[0mones\u001b[0m\u001b[0;34m(\u001b[0m\u001b[0;36m3\u001b[0m\u001b[0;34m)\u001b[0m\u001b[0;34m*\u001b[0m\u001b[0;36m3\u001b[0m\u001b[0;34m\u001b[0m\u001b[0m\n\u001b[0;32m---> 24\u001b[0;31m \u001b[0mres\u001b[0m \u001b[0;34m=\u001b[0m \u001b[0mcalculate\u001b[0m\u001b[0;34m(\u001b[0m\u001b[0ma\u001b[0m\u001b[0;34m,\u001b[0m \u001b[0mb\u001b[0m\u001b[0;34m)\u001b[0m\u001b[0;34m\u001b[0m\u001b[0m\n\u001b[0m\u001b[1;32m     25\u001b[0m \u001b[0;34m\u001b[0m\u001b[0m\n\u001b[1;32m     26\u001b[0m \u001b[0;32massert\u001b[0m \u001b[0;34m(\u001b[0m\u001b[0mres\u001b[0m \u001b[0;34m==\u001b[0m \u001b[0mnp\u001b[0m\u001b[0;34m.\u001b[0m\u001b[0marray\u001b[0m\u001b[0;34m(\u001b[0m\u001b[0;34m[\u001b[0m\u001b[0;34m[\u001b[0m \u001b[0;36m2.25\u001b[0m\u001b[0;34m,\u001b[0m  \u001b[0;36m2.25\u001b[0m\u001b[0;34m]\u001b[0m\u001b[0;34m,\u001b[0m\u001b[0;34m[\u001b[0m \u001b[0;36m2.25\u001b[0m\u001b[0;34m,\u001b[0m  \u001b[0;36m2.25\u001b[0m\u001b[0;34m]\u001b[0m\u001b[0;34m,\u001b[0m\u001b[0;34m[\u001b[0m \u001b[0;36m3.\u001b[0m\u001b[0;34m,\u001b[0m \u001b[0;36m3.\u001b[0m\u001b[0;34m]\u001b[0m\u001b[0;34m]\u001b[0m\u001b[0;34m)\u001b[0m\u001b[0;34m)\u001b[0m\u001b[0;34m.\u001b[0m\u001b[0mall\u001b[0m\u001b[0;34m(\u001b[0m\u001b[0;34m)\u001b[0m\u001b[0;34m\u001b[0m\u001b[0m\n",
      "\u001b[0;32m<ipython-input-98-b67c822f5c73>\u001b[0m in \u001b[0;36mcalculate\u001b[0;34m(a, b)\u001b[0m\n\u001b[1;32m     17\u001b[0m     \u001b[0ma\u001b[0m\u001b[0;34m[\u001b[0m\u001b[0;34m:\u001b[0m\u001b[0;36m2\u001b[0m\u001b[0;34m,\u001b[0m \u001b[0;34m:\u001b[0m\u001b[0;34m]\u001b[0m \u001b[0;34m-=\u001b[0m \u001b[0maa\u001b[0m\u001b[0;34m\u001b[0m\u001b[0m\n\u001b[1;32m     18\u001b[0m \u001b[0;34m\u001b[0m\u001b[0m\n\u001b[0;32m---> 19\u001b[0;31m     \u001b[0;32mreturn\u001b[0m \u001b[0ma\u001b[0m\u001b[0;34m*\u001b[0m\u001b[0mb\u001b[0m\u001b[0;34m\u001b[0m\u001b[0m\n\u001b[0m\u001b[1;32m     20\u001b[0m \u001b[0;34m\u001b[0m\u001b[0m\n\u001b[1;32m     21\u001b[0m \u001b[0;34m\u001b[0m\u001b[0m\n",
      "\u001b[0;31mValueError\u001b[0m: operands could not be broadcast together with shapes (3,2) (3,) "
     ]
    }
   ],
   "source": [
    "def calculate(a, b):\n",
    "    \"\"\"Do some calculations\n",
    "    \n",
    "    Take in two arrays, subtract 1/4 of the [:2,:] elements from the elements themselves.\n",
    "    Then multiply with array b and return the result.\n",
    "    \n",
    "    Inputs:\n",
    "        a: input array, shape [MxN]\n",
    "        b: input array, shape [M]\n",
    "    \n",
    "    Returns:\n",
    "        resultant array\n",
    "    \"\"\"\n",
    "\n",
    "    aa = a[:2, :]\n",
    "    aa /= 4.\n",
    "    a[:2, :] -= aa\n",
    "\n",
    "    return a*b\n",
    "    \n",
    "\n",
    "a = np.ones((3, 2))\n",
    "b = np.ones(3)*3\n",
    "res = calculate(a, b)\n",
    "\n",
    "assert (res == np.array([[ 2.25,  2.25],[ 2.25,  2.25],[ 3., 3.]])).all()"
   ]
  },
  {
   "cell_type": "markdown",
   "metadata": {},
   "source": [
    "### 16. Calculate components of a vector\n",
    "\n",
    "Read in file `data/burl1h2010.txt`. This file gives a bunch of data from a wind station. In particular, read in the wind direction, `WDIR`, and wind speed, `WSPD`. Then, write a function that calculates and returns the `u` and `v` components of this wind vector, which point along the x- and y-axes.\n",
    "\n",
    "The function should have the following basic functionality:\n",
    "\n",
    "    Take in vector and return components.\n",
    "    \n",
    "    Inputs:\n",
    "        vdir: vector direction in degrees\n",
    "        vspd: vector magnitude\n",
    "        \n",
    "    Returns:\n",
    "        u: x component of vector\n",
    "        v: y component of vector\n"
   ]
  },
  {
   "cell_type": "code",
   "execution_count": null,
   "metadata": {
    "collapsed": false
   },
   "outputs": [],
   "source": [
    "data = np.loadtxt('burl1h2010.txt')\n",
    "'''Take in vector and return components.\n",
    "\n",
    "Inputs:\n",
    "    vdir: vector direction in degrees\n",
    "    vspd: vector magnitude\n",
    "\n",
    "Returns:\n",
    "    u: x component of vector\n",
    "    v: y component of vector'''\n",
    "data[:,5]\n",
    "data[:,6]"
   ]
  },
  {
   "cell_type": "markdown",
   "metadata": {},
   "source": [
    "### 17. (Grad) Write and use a class\n",
    "\n",
    "Consider one of the data files located in `python4geosciences/data/MCH/`. Write a class, `dataclass`, to store some of the information in the file. The class should:\n",
    "\n",
    "* be initialized with the name of the file (without file type suffix of .cnv2), and the temperature and salinity values found in the file;\n",
    "* contain a method, `salt_mean`, which returns the mean of the salinity;\n",
    "* contain a method, `temp_max`, which returns the maximum value of the temperature values.\n",
    "\n",
    "Notice that there are many data files in this directory. It would be a lot of work to read them all in by hand. Instead, write a loop which loops through the file names, reads in the necessary data, calls `dataclass` to store the data in a class instance, and adds it to a list of all of the class instances. At the end of your solution, you should have a list of all of the class instances, one for each data file. As usage examples, if your list of data objects is called `wind`, you should be able to access the temperatures from the 3rd file that is read in with\n",
    "\n",
    "    wind[2].temp\n",
    "\n",
    "and you should be able to calculate the mean salinity of the final file with \n",
    "\n",
    "    wind[-1].salt_mean()\n",
    "\n",
    "Hint: Check out the package `glob` for reading in file names with a wild card. "
   ]
  },
  {
   "cell_type": "code",
   "execution_count": null,
   "metadata": {
    "collapsed": true
   },
   "outputs": [],
   "source": []
  },
  {
   "cell_type": "markdown",
   "metadata": {},
   "source": [
    "### 18. (Grad) Running mean\n",
    "\n",
    "Write a function that computes averages using a sliding window over a vector; that is, it should take in a vector and for every element in the vector, compute the average of that point with the N points on either side of the element. N should also be an input parameter, and the function should return the original vector if N=0. The returned vector should be the same size as the input vector.\n",
    "\n",
    "Do not use the `pandas` package or the function `convolve`; instead, use a loop. Use the following API for your function:\n",
    "\n",
    "    Return the running average of a vector, with averaging window of size N.\n",
    "    \n",
    "    Inputs:\n",
    "        vec: Input vector\n",
    "        N (int): Averaging window size, or number of elements to include in mean on either side of each element.\n",
    "    \n",
    "    Outputs:\n",
    "        out: Vector of running-averaged values; same size as vec\n"
   ]
  },
  {
   "cell_type": "code",
   "execution_count": null,
   "metadata": {
    "collapsed": false,
    "scrolled": true
   },
   "outputs": [],
   "source": [
    "x = np.arange(110) # Create a vector to test the function.\n",
    "\n",
    "def RunningMean(x, N):\n",
    "    '''Return the running average of a vector, with averaging window of size N.\n",
    "\n",
    "Inputs:\n",
    "    vec: Input vector\n",
    "    N (int): Averaging window size, or number of elements to include in mean on either side of each element.\n",
    "\n",
    "Outputs:\n",
    "    out: Vector of running-averaged values; same size as vec'''\n",
    "    if N == 0:\n",
    "        return x\n",
    "    else:\n",
    "        cumsum = np.cumsum(np.insert(x, 0, 0)) \n",
    "        return (cumsum[N:] - cumsum[:-N]) / N\n",
    "\n",
    "print (RunningMean(x,5)) # Test the function using the random vector \n",
    "print (RunningMean(x,0)) # Test the function using the random vector x, should return same size as the original vector "
   ]
  },
  {
   "cell_type": "code",
   "execution_count": null,
   "metadata": {
    "collapsed": true
   },
   "outputs": [],
   "source": []
  }
 ],
 "metadata": {
  "kernelspec": {
   "display_name": "Python 3",
   "language": "python",
   "name": "python3"
  },
  "language_info": {
   "codemirror_mode": {
    "name": "ipython",
    "version": 3
   },
   "file_extension": ".py",
   "mimetype": "text/x-python",
   "name": "python",
   "nbconvert_exporter": "python",
   "pygments_lexer": "ipython3",
   "version": "3.5.1"
  }
 },
 "nbformat": 4,
 "nbformat_minor": 0
}
