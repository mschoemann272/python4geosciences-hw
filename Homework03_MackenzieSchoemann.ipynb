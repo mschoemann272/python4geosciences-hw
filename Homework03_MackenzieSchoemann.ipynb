{
 "cells": [
  {
   "cell_type": "markdown",
   "metadata": {},
   "source": [
    "# Homework 03\n",
    "\n",
    "## Due Thursday February 18th"
   ]
  },
  {
   "cell_type": "code",
   "execution_count": 2,
   "metadata": {
    "collapsed": true
   },
   "outputs": [],
   "source": [
    "import numpy as np\n",
    "import time\n",
    "from numpy.lib import stride_tricks\n",
    "import glob"
   ]
  },
  {
   "cell_type": "markdown",
   "metadata": {},
   "source": [
    "### 1. Vector manipulation\n",
    "\n",
    "Create a vector of zeros of size 10 but have the fifth value be 1."
   ]
  },
  {
   "cell_type": "code",
   "execution_count": 3,
   "metadata": {
    "collapsed": false
   },
   "outputs": [
    {
     "name": "stdout",
     "output_type": "stream",
     "text": [
      "[ 0.  0.  0.  0.  1.  0.  0.  0.  0.  0.]\n"
     ]
    }
   ],
   "source": [
    "a = np.zeros(10)  #creating a vector of zeros, size 10\n",
    "a[4]=1   #Make the 5th value a 1 in the array\n",
    "print(a)"
   ]
  },
  {
   "cell_type": "markdown",
   "metadata": {},
   "source": [
    "### 2. Vector range\n",
    "\n",
    "Create a vector with values ranging from 10 to 49, inclusive."
   ]
  },
  {
   "cell_type": "code",
   "execution_count": 4,
   "metadata": {
    "collapsed": false
   },
   "outputs": [
    {
     "data": {
      "text/plain": [
       "array([10, 11, 12, 13, 14, 15, 16, 17, 18, 19, 20, 21, 22, 23, 24, 25, 26,\n",
       "       27, 28, 29, 30, 31, 32, 33, 34, 35, 36, 37, 38, 39, 40, 41, 42, 43,\n",
       "       44, 45, 46, 47, 48, 49])"
      ]
     },
     "execution_count": 4,
     "metadata": {},
     "output_type": "execute_result"
    }
   ],
   "source": [
    "b = range(10,50)\n",
    "np.array(b)"
   ]
  },
  {
   "cell_type": "markdown",
   "metadata": {},
   "source": [
    "### 3. Reverse a vector\n",
    "\n",
    "Write a function, `reverse(x)` which reverses a vector, so that the first element becomes the last element. The API should be\n",
    "\n",
    "    return a 1D vector with the elements reversed\n",
    "    \n",
    "    Input\n",
    "    -----\n",
    "        x: 1D array\n",
    "    \n",
    "    Output\n",
    "    ------\n",
    "        res: 1D array, with the elements of `x` reversed\n",
    "\n",
    "Include this (or an equivalent description) in the function's docstring."
   ]
  },
  {
   "cell_type": "code",
   "execution_count": 5,
   "metadata": {
    "collapsed": false
   },
   "outputs": [
    {
     "data": {
      "text/plain": [
       "[10, 9, 8, 7, 6, 5, 4, 3, 2, 1]"
      ]
     },
     "execution_count": 5,
     "metadata": {},
     "output_type": "execute_result"
    }
   ],
   "source": [
    "x = [1, 2, 3, 4, 5, 6, 7, 8, 9, 10]\n",
    "\n",
    "def reverse(x):\n",
    "    '''return a 1D vector with the elements reversed\n",
    "Input x: 1D array\n",
    "Output res: 1D array, with the elements of `x` reversed'''\n",
    "    return x[::-1]\n",
    "x.reverse()  #the numpy method to reverse an array\n",
    "x"
   ]
  },
  {
   "cell_type": "markdown",
   "metadata": {},
   "source": [
    "### 4. Find indices of non-zero elements\n",
    "\n",
    "Write a function `find_nonzero(x)` that finds the indices of non-zero elements, with an API like\n",
    "\n",
    "    return the indices of non-zero elements of an array.\n",
    "\n",
    "    Input:      x:  array\n",
    "    Output:     indices: array of integer indices\n",
    "\n",
    "Use the function to get out the non-zero elements from an array containing the elements [1,2,0,0,4,0]."
   ]
  },
  {
   "cell_type": "code",
   "execution_count": 6,
   "metadata": {
    "collapsed": false
   },
   "outputs": [
    {
     "name": "stdout",
     "output_type": "stream",
     "text": [
      "(array([0, 1, 4]),)\n"
     ]
    }
   ],
   "source": [
    "x = [1, 2, 0, 0, 4, 0]\n",
    "def find_nonzero(x):\n",
    "    \"\"\"return the indices of non-zero elements of an array.\n",
    "Input: x:  array\n",
    "Output:indices: array of integer indices\"\"\"\n",
    "    np.nonzero(x==0)[0]\n",
    "        \n",
    "print(np.nonzero(x))"
   ]
  },
  {
   "cell_type": "markdown",
   "metadata": {},
   "source": [
    "### 5. Array with random values\n",
    "\n",
    "Create a 3x3x3 array with normally distributed ($\\mu =0, \\sigma=1)$ random values."
   ]
  },
  {
   "cell_type": "code",
   "execution_count": 7,
   "metadata": {
    "collapsed": false
   },
   "outputs": [
    {
     "name": "stdout",
     "output_type": "stream",
     "text": [
      "[[[ 0.36289058  0.50821503  0.58514704]\n",
      "  [ 0.44699736  0.3831523   0.52508508]\n",
      "  [ 0.48015157  0.3576135   0.50419617]]\n",
      "\n",
      " [[ 0.49065094  0.35917945  0.65533895]\n",
      "  [ 0.62533087  0.32848184  0.30971623]\n",
      "  [ 0.41663994  0.54744966  0.50039771]]\n",
      "\n",
      " [[ 0.57323604  0.51182679  0.54207973]\n",
      "  [ 0.42789641  0.55925738  0.57169183]\n",
      "  [ 0.51180552  0.43775312  0.57450867]]]\n"
     ]
    }
   ],
   "source": [
    "μ,σ = 0.5,0.1\n",
    "s = np.random.normal(μ,σ,(3,3,3))\n",
    "print(s)"
   ]
  },
  {
   "cell_type": "markdown",
   "metadata": {},
   "source": [
    "### 6. Operations on an array with random values\n",
    "\n",
    "Create a 10x10 array with random values. Find \n",
    "- the minimum value of the 2nd row\n",
    "- the maximum value of the 4th column"
   ]
  },
  {
   "cell_type": "code",
   "execution_count": 8,
   "metadata": {
    "collapsed": false
   },
   "outputs": [
    {
     "name": "stdout",
     "output_type": "stream",
     "text": [
      "[[89 12  6 47 85 22 74 41 23 25]\n",
      " [96 21  1 37 74 97 59 94  3 40]\n",
      " [23 93 42 46 25 64 56 44  1 81]\n",
      " [ 2 75 85 47 72 66 69 90  4 96]\n",
      " [ 5 18 73 99 34 19 95 28 34 42]\n",
      " [13 63 58 93 30  8 10 37 25 83]\n",
      " [94 58 69 79 30 32 24 53 66 56]\n",
      " [84 65 85 98 32 13 21 19 40 62]\n",
      " [82 61 90 16  4 60 13 46 23 44]\n",
      " [ 0 45 87  1 96 83 38 71  2 81]]\n",
      "1\n",
      "99\n"
     ]
    }
   ],
   "source": [
    "arr = np.random.randint(100, size=(10, 10))\n",
    "arr\n",
    "\n",
    "print(arr)\n",
    "\n",
    "a = arr[1]\n",
    "imin = a.argmin()\n",
    "print(a.min())\n",
    "\n",
    "x = arr[:, 3]\n",
    "imax = x.argmax()\n",
    "print(x.max())"
   ]
  },
  {
   "cell_type": "markdown",
   "metadata": {},
   "source": [
    "### 7. Vector without end points\n",
    "\n",
    "Create a vector of size 10 with values ranging from 0 to 1, both excluded."
   ]
  },
  {
   "cell_type": "code",
   "execution_count": 9,
   "metadata": {
    "collapsed": false
   },
   "outputs": [
    {
     "name": "stdout",
     "output_type": "stream",
     "text": [
      "[[ 0.09090909  0.18181818  0.27272727  0.36363636  0.45454545]\n",
      " [ 0.54545455  0.63636364  0.72727273  0.81818182  0.90909091]]\n"
     ]
    }
   ],
   "source": [
    "t = np.linspace(0,1,12,endpoint=True)[1:-1]\n",
    "print(t.reshape(2,5))"
   ]
  },
  {
   "cell_type": "markdown",
   "metadata": {},
   "source": [
    "### 8. Sorted random vector\n",
    "\n",
    "Create a random vector of size 10, then sort it."
   ]
  },
  {
   "cell_type": "code",
   "execution_count": 10,
   "metadata": {
    "collapsed": false
   },
   "outputs": [
    {
     "name": "stdout",
     "output_type": "stream",
     "text": [
      "[ 0.05904416  0.17525656  0.36851909  0.46595593  0.6184358   0.67973032\n",
      "  0.72263932  0.7511928   0.80365263  0.97898113]\n"
     ]
    }
   ],
   "source": [
    "a = np.random.random(10)\n",
    "a.sort()\n",
    "print(a)"
   ]
  },
  {
   "cell_type": "markdown",
   "metadata": {},
   "source": [
    "### 9. Test for array equality\n",
    "\n",
    "Write a function `is_equal(A, B)` that compare two arrays `A` and `B` and checks to see if they are equal. \n",
    "\n",
    "    return True if two arrays are the same shape and all the elements are equal.\n",
    "    \n",
    "    Inputs:\n",
    "        A, B:  array\n",
    "    Output:\n",
    "        Bool:  True if A and B have the same shape and identical elements.\n",
    "\n",
    "The arrays count as equal if they are the same shape and all elements in the array are equal."
   ]
  },
  {
   "cell_type": "code",
   "execution_count": 11,
   "metadata": {
    "collapsed": false
   },
   "outputs": [
    {
     "name": "stdout",
     "output_type": "stream",
     "text": [
      "True\n"
     ]
    }
   ],
   "source": [
    "a = np.random.random(1)\n",
    "b = np.random.random(1)\n",
    "\n",
    "def is_equal(a, b):\n",
    "    '''return True if two arrays are the same shape and all the elements are equal.\n",
    "\n",
    "Inputs:\n",
    "    A, B:  array\n",
    "Output:\n",
    "    Bool:  True if A and B have the same shape and identical elements.\n",
    "'''\n",
    "    if a.all(a)== a.all(b):\n",
    "        return True\n",
    "    else:\n",
    "        return False\n",
    "    \n",
    "print(is_equal(a, b))"
   ]
  },
  {
   "cell_type": "markdown",
   "metadata": {},
   "source": [
    "### 10. Subtract the row mean from rows of a matrix\n",
    "\n",
    "Create a matrix. Then subtract the mean of each row of the matrix from the respective row. Do this without using a loop (that is, using array operations)."
   ]
  },
  {
   "cell_type": "code",
   "execution_count": 12,
   "metadata": {
    "collapsed": false,
    "scrolled": true
   },
   "outputs": [
    {
     "name": "stdout",
     "output_type": "stream",
     "text": [
      "[[ 0.30907061  0.01683398  0.2225166   0.67605537]\n",
      " [ 0.41636318  0.61127945  0.16660843  0.12613216]\n",
      " [ 0.7995554   0.15215285  0.76656735  0.64107606]\n",
      " [ 0.80463687  0.27930665  0.86807982  0.92715272]]\n",
      "[[ 0.00295147 -0.28928516 -0.08360254  0.36993623]\n",
      " [ 0.08626738  0.28118365 -0.16348737 -0.20396365]\n",
      " [ 0.20971748 -0.43768506  0.17672944  0.05123815]\n",
      " [ 0.08484285 -0.44048737  0.14828581  0.20735871]]\n"
     ]
    }
   ],
   "source": [
    "a = np.random.rand(4,4) #create a new matrix\n",
    "b = a - a.mean(axis=1)[:, np.newaxis] #subtracting the mean from the rows\n",
    "\n",
    "print(a)\n",
    "print(b)"
   ]
  },
  {
   "cell_type": "markdown",
   "metadata": {},
   "source": [
    "### 11. Multiply arrays\n",
    "\n",
    "Multiply an array of dimension (5,5,3) with an array with dimensions (5,5). Then multiply an array of dimension (3,5,5) with an array of dimension (5,5)."
   ]
  },
  {
   "cell_type": "code",
   "execution_count": 13,
   "metadata": {
    "collapsed": false,
    "scrolled": true
   },
   "outputs": [
    {
     "name": "stdout",
     "output_type": "stream",
     "text": [
      "[[[ 0.32069399  0.47775473  0.26979756]\n",
      "  [ 0.47592231  0.72672105  0.19003676]\n",
      "  [ 0.64006238  0.4317965   0.17992534]\n",
      "  [ 0.1537491   0.67209498  0.53989468]\n",
      "  [ 0.28336461  0.42688727  0.36571112]]\n",
      "\n",
      " [[ 0.23553715  0.43903952  0.11752273]\n",
      "  [ 0.37099781  0.27779693  0.40436888]\n",
      "  [ 0.70422073  0.47050649  0.09109345]\n",
      "  [ 0.10062918  0.00796761  0.61457428]\n",
      "  [ 0.22543828  0.14456675  0.67399827]]\n",
      "\n",
      " [[ 0.09891745  0.0612001   0.06672127]\n",
      "  [ 0.17156229  0.11848932  0.04591051]\n",
      "  [ 0.18851828  0.32522839  0.38780128]\n",
      "  [ 0.62753522  0.01928673  0.57283455]\n",
      "  [ 0.18143438  0.2950098   0.56323823]]\n",
      "\n",
      " [[ 0.6220823   0.12393422  0.27101701]\n",
      "  [ 0.0186535   0.24564565  0.05349211]\n",
      "  [ 0.21920657  0.32155806  0.20940026]\n",
      "  [ 0.24948735  0.17872538  0.13601156]\n",
      "  [ 0.07515925  0.02377764  0.05552693]]\n",
      "\n",
      " [[ 0.64773642  0.48071938  0.07554632]\n",
      "  [ 0.25911655  0.0285307   0.29085627]\n",
      "  [ 0.54059944  0.05624855  0.16090765]\n",
      "  [ 0.06221833  0.09756857  0.02821821]\n",
      "  [ 0.13441777  0.26377276  0.23256778]]]\n",
      "[[[  2.26459973e-01   6.75120488e-01   5.82433366e-01   6.86591550e-02\n",
      "     5.84343099e-01]\n",
      "  [  2.52204107e-01   4.05536951e-01   1.93437637e-01   3.21818672e-01\n",
      "     6.47836251e-01]\n",
      "  [  5.48252388e-02   2.97700948e-02   3.11462068e-01   7.68976575e-01\n",
      "     6.08839783e-01]\n",
      "  [  3.96491528e-01   1.52901089e-01   3.30066498e-01   3.84674584e-01\n",
      "     7.20609591e-01]\n",
      "  [  9.99377147e-02   2.81510912e-01   2.27225222e-01   4.11296217e-02\n",
      "     1.22524237e-01]]\n",
      "\n",
      " [[  1.42139863e-01   1.47658626e-01   6.03035815e-01   1.76526801e-01\n",
      "     1.11044979e-03]\n",
      "  [  1.00096523e-01   3.18463458e-01   2.56790512e-01   7.67660896e-01\n",
      "     5.19963501e-01]\n",
      "  [  9.88886297e-02   1.86318716e-01   2.99998455e-02   3.98793636e-01\n",
      "     4.67388880e-01]\n",
      "  [  5.13386604e-01   1.92964194e-01   2.16536102e-01   6.30595844e-01\n",
      "     3.27797603e-01]\n",
      "  [  6.43260022e-01   2.48726000e-01   4.51341717e-01   2.90701618e-03\n",
      "     1.60333717e-01]]\n",
      "\n",
      " [[  2.93105278e-02   9.30459771e-03   5.98941877e-01   7.51062659e-01\n",
      "     2.72734924e-01]\n",
      "  [  2.57341725e-01   2.28733629e-01   6.44704927e-01   5.15735869e-01\n",
      "     2.47151740e-01]\n",
      "  [  1.15894152e-01   6.24388119e-02   2.58151161e-01   2.87310869e-01\n",
      "     5.02804425e-01]\n",
      "  [  2.98375894e-02   2.82621361e-01   3.91360529e-01   2.56239245e-01\n",
      "     5.79526469e-01]\n",
      "  [  4.74567935e-02   5.01091063e-01   5.65126696e-01   4.94326785e-07\n",
      "     2.57332655e-01]]]\n"
     ]
    }
   ],
   "source": [
    "a = np.random.random((5,5,3))\n",
    "b = np.random.random((5,5))\n",
    "c = np.random.random((3,5,5))\n",
    "b2 = b[:, : , np.newaxis]   #create a new dimension so they arrays can be multiplied, otherwise an array with dimension(5,5,3) and (5,5) cannot be multiplied\n",
    "solution1 = a * b2  #multiplying array dimension (5,5,3) and (5,5)\n",
    "solution2 = b * c  #multiplying array dimension (3,5,5) and (5,5) np.dot function can be used for matrix multiplication\n",
    "\n",
    "print(solution1)\n",
    "print(solution2)"
   ]
  },
  {
   "cell_type": "markdown",
   "metadata": {},
   "source": [
    "### 12. Creating a new array\n",
    "\n",
    "Starting with an array\n",
    "\n",
    "    Z = [1,2,3,4,5,6,7,8,9,10,11,12,13,14].\n",
    "    \n",
    "Generate an array \n",
    "\n",
    "    R = [[1,2,3,4], [2,3,4,5], [3,4,5,6], ..., [11,12,13,14]]. "
   ]
  },
  {
   "cell_type": "code",
   "execution_count": 14,
   "metadata": {
    "collapsed": false,
    "scrolled": false
   },
   "outputs": [
    {
     "name": "stdout",
     "output_type": "stream",
     "text": [
      "[[ 1  2  3  4]\n",
      " [ 2  3  4  5]\n",
      " [ 3  4  5  6]\n",
      " [ 4  5  6  7]\n",
      " [ 5  6  7  8]\n",
      " [ 6  7  8  9]\n",
      " [ 7  8  9 10]\n",
      " [ 8  9 10 11]\n",
      " [ 9 10 11 12]\n",
      " [10 11 12 13]\n",
      " [11 12 13 14]]\n"
     ]
    }
   ],
   "source": [
    "z = np.arange(1,15, dtype=np.uint32)\n",
    "r = stride_tricks.as_strided(z,(11,4),(4,4))\n",
    "print(r)"
   ]
  },
  {
   "cell_type": "markdown",
   "metadata": {},
   "source": [
    "### 13. Convert from Cartesian to polar coordinates\n",
    "\n",
    "Write a function `cart2polar(xy)` which takes in an Nx2 matrix of `x, y` pairs representing Cartesian coordinates and return the locations represented in polar coordinates in the same shape matrix. The API is\n",
    "\n",
    "    Return equivalent polar coordinates of specified cartesian points.\n",
    "    \n",
    "    Inputs:\n",
    "        xy: array\n",
    "             Nx2 array of Cartesian coordinates, with columns x and y respectively.\n",
    "\n",
    "    Returns:\n",
    "        rp: array\n",
    "            Nx2 array of polar coordinates, with columns radius and angle respectively\n"
   ]
  },
  {
   "cell_type": "code",
   "execution_count": 15,
   "metadata": {
    "collapsed": false,
    "scrolled": true
   },
   "outputs": [
    {
     "data": {
      "text/plain": [
       "(array([ 1.01125477,  0.87544847,  0.37236963,  0.26012134,  1.1283652 ,\n",
       "         0.19935426]),\n",
       " array([ 1.320478  ,  1.27243822,  1.16047282,  1.39309358,  0.68449497,\n",
       "         0.17412979]))"
      ]
     },
     "execution_count": 15,
     "metadata": {},
     "output_type": "execute_result"
    }
   ],
   "source": [
    "r = np.random.rand(6,2)\n",
    "def cart2polar(r):\n",
    "    '''Return equivalent polar coordinates of specified cartesian points.\n",
    "\n",
    "Inputs:\n",
    "    xy: array\n",
    "         Nx2 array of Cartesian coordinates, with columns x and y respectively.\n",
    "\n",
    "Returns:\n",
    "    rp: array\n",
    "        Nx2 array of polar coordinates, with columns radius and angle respectively'''\n",
    "    x = r[:,0]  # 0 axis\n",
    "    y = r[:,1]  # 1 axis\n",
    "    r = np.sqrt(x**2 + y**2)\n",
    "    theta = np.arctan2(y,x)\n",
    "    return(r,theta)\n",
    "\n",
    "cart2polar(r)"
   ]
  },
  {
   "cell_type": "markdown",
   "metadata": {},
   "source": [
    "### 14. Compute and time for loops and array operations.\n",
    "\n",
    "Calculate the time it takes to do what we did in class\n",
    "\n",
    "    a = np.arange(1024.0).reshape(4, 8, 16, 2)   # a 4D array using sequential numbers\n",
    "    b = np.random.rand(4, 8, 16, 2)              # a 4D array using random numbers\n",
    "    sol = a * b  # element-by-element multiplication. This operation is about as fast as it can be on your computer.\n",
    "\n",
    "and the time required for doing the same operation with a series of 4 `for` loops, one for each dimension of the arrays. Compare the times by calculating a ratio."
   ]
  },
  {
   "cell_type": "code",
   "execution_count": 16,
   "metadata": {
    "collapsed": false,
    "scrolled": false
   },
   "outputs": [
    {
     "name": "stdout",
     "output_type": "stream",
     "text": [
      "0.0005 seconds have passed.\n",
      "0.0209 seconds have passed.\n",
      "42.87909936368086\n"
     ]
    }
   ],
   "source": [
    "t_start1 = time.time()\n",
    "a = np.arange(1024.0).reshape(4, 8, 16, 2)   # a 4D array using sequential numbers\n",
    "b = np.random.rand(4, 8, 16, 2)              # a 4D array using random numbers\n",
    "sol = a * b \n",
    "\n",
    "t_stop1 = time.time()\n",
    "time1 = t_stop1-t_start1\n",
    "\n",
    "print('{:6.4f} seconds have passed.'.format(t_stop1-t_start1))\n",
    "\n",
    "#looping over each dimension - a[i,j,k,l]*b[i,j,k,l] a nested loop for i,j,k,l \n",
    "t_start2 = time.time()\n",
    "array = []\n",
    "#create a new empty array\n",
    "for i in range(a.shape[0]): #start of a four for loop \n",
    "    for j in range(a.shape[1]):\n",
    "        for k in range(a.shape[2]):\n",
    "            for l in range(a.shape[3]):\n",
    "                array = np.append(array, a[i, j, k, l]*b[i, j, k, l])\n",
    "\n",
    "array.reshape(4, 8, 16, 2)\n",
    "t_stop2 = time.time()\n",
    "time2 = t_stop2-t_start2\n",
    "print('{:6.4f} seconds have passed.'.format(t_stop2-t_start2))\n",
    "\n",
    "ratio = time2/time1\n",
    "print(ratio)"
   ]
  },
  {
   "cell_type": "markdown",
   "metadata": {},
   "source": [
    "### 15. Fix the code\n",
    "\n",
    "This code needs to be fixed so that it can run properly and pass the assertion test at the bottom. Write out what you changed to make it work and why it needed to be changed."
   ]
  },
  {
   "cell_type": "code",
   "execution_count": 17,
   "metadata": {
    "collapsed": false,
    "scrolled": true
   },
   "outputs": [
    {
     "name": "stdout",
     "output_type": "stream",
     "text": [
      "[[ 2.25  2.25]\n",
      " [ 2.25  2.25]\n",
      " [ 3.    3.  ]]\n"
     ]
    }
   ],
   "source": [
    "def calculate(a, b):\n",
    "    \"\"\"Do some calculations\n",
    "    \n",
    "    Take in two arrays, subtract 1/4 of the [:2,:] elements from the elements themselves.\n",
    "    Then multiply with array b and return the result.\n",
    "    \n",
    "    Inputs:\n",
    "        a: input array, shape [MxN]\n",
    "        b: input array, shape [M]\n",
    "    \n",
    "    Returns:\n",
    "        resultant array\n",
    "    \"\"\"\n",
    "\n",
    "    aa = a[:2, :]\n",
    "    aa -= (aa/4.) #changed to -=(aa/4)\n",
    "    #a[:2, :] -= aa remove this line from the code\n",
    "    t = a.T  #transpose the array so they can be multiplied together\n",
    "\n",
    "    return (t*b).T \n",
    "    \n",
    "\n",
    "a = np.ones((3, 2))\n",
    "b = np.ones(3)*3\n",
    "res = calculate(a, b)\n",
    "\n",
    "print(res) #printing to check the array\n",
    "\n",
    "assert (res == np.array([[ 2.25,  2.25],[ 2.25,  2.25],[ 3., 3.]])).all()"
   ]
  },
  {
   "cell_type": "markdown",
   "metadata": {},
   "source": [
    "### 16. Calculate components of a vector\n",
    "\n",
    "Read in file `data/burl1h2010.txt`. This file gives a bunch of data from a wind station. In particular, read in the wind direction, `WDIR`, and wind speed, `WSPD`. Then, write a function that calculates and returns the `u` and `v` components of this wind vector, which point along the x- and y-axes.\n",
    "\n",
    "The function should have the following basic functionality:\n",
    "\n",
    "    Take in vector and return components.\n",
    "    \n",
    "    Inputs:\n",
    "        vdir: vector direction in degrees\n",
    "        vspd: vector magnitude\n",
    "        \n",
    "    Returns:\n",
    "        u: x component of vector\n",
    "        v: y component of vector\n"
   ]
  },
  {
   "cell_type": "code",
   "execution_count": 24,
   "metadata": {
    "collapsed": false
   },
   "outputs": [
    {
     "name": "stdout",
     "output_type": "stream",
     "text": [
      "[ 134.  123.  130. ...,  147.  152.  150.]\n",
      "[  3.    3.6   3.3 ...,  11.4  11.9  10.2]\n",
      "(array([-1.39148661, -3.19668806, -1.21206139, ..., -9.04175518,\n",
      "        4.27262701,  7.13235823]), array([  2.65777445,  -1.65565257,  -3.06934964, ...,   6.94310185,\n",
      "        11.10651423,  -7.29173958]))\n"
     ]
    }
   ],
   "source": [
    "file = np.loadtxt('burl1h2010.txt')\n",
    "wind_direction = file[:,5] #input wind direction\n",
    "wind_speed = file[:,6] #input wind speed\n",
    "print(wind_direction)#degT\n",
    "print(wind_speed)#m/s\n",
    "\n",
    "def wind_vector(vdir,vspd):\n",
    "        '''Take in vector and return components.\n",
    "\n",
    "Inputs:\n",
    "    vdir: vector direction in degrees\n",
    "    vspd: vector magnitude\n",
    "\n",
    "Returns:\n",
    "    u: x component of vector\n",
    "    v: y component of vector'''\n",
    "        u = vspd*(np.cos(vdir))\n",
    "        v = vspd*(np.sin(vdir))\n",
    "        return u,v\n",
    "wind_vector(wind_direction,wind_speed)\n",
    "\n",
    "print(wind_vector(wind_direction,wind_speed))"
   ]
  },
  {
   "cell_type": "markdown",
   "metadata": {},
   "source": [
    "### 17. (Grad) Write and use a class\n",
    "\n",
    "Consider one of the data files located in `python4geosciences/data/MCH/`. Write a class, `dataclass`, to store some of the information in the file. The class should:\n",
    "\n",
    "* be initialized with the name of the file (without file type suffix of .cnv2), and the temperature and salinity values found in the file;\n",
    "* contain a method, `salt_mean`, which returns the mean of the salinity;\n",
    "* contain a method, `temp_max`, which returns the maximum value of the temperature values.\n",
    "\n",
    "Notice that there are many data files in this directory. It would be a lot of work to read them all in by hand. Instead, write a loop which loops through the file names, reads in the necessary data, calls `dataclass` to store the data in a class instance, and adds it to a list of all of the class instances. At the end of your solution, you should have a list of all of the class instances, one for each data file. As usage examples, if your list of data objects is called `wind`, you should be able to access the temperatures from the 3rd file that is read in with\n",
    "\n",
    "    wind[2].temp\n",
    "\n",
    "and you should be able to calculate the mean salinity of the final file with \n",
    "\n",
    "    wind[-1].salt_mean()\n",
    "\n",
    "Hint: Check out the package `glob` for reading in file names with a wild card. "
   ]
  },
  {
   "cell_type": "code",
   "execution_count": 19,
   "metadata": {
    "collapsed": false
   },
   "outputs": [],
   "source": [
    "#creating a class\n",
    "class data_class:\n",
    "    '''Creating a class to store information from the m1007c file'''\n",
    "    def __init__(self, fname, salinity, temperature):\n",
    "        self.fname = [fname]\n",
    "        self.salinity = [salinity]\n",
    "        self.temperature = [temperature]\n",
    "    def salt_mean(self):\n",
    "        '''returns the mean of salinity'''\n",
    "        return np.mean(self.salinity)\n",
    "    def temp_max(self):\n",
    "        '''returns the max value for temperature'''\n",
    "        return np.max(self.temperature)\n",
    "    \n",
    "#loop to go through the files in MCH\n",
    "CTDdata = [] #empty list\n",
    "CTD_file = glob.glob('MCH/*.cnv2') #using the glob package to read in file names withs a wild card\n",
    "for file in CTD_file:\n",
    "    fname = np.genfromtxt(file, skip_header = 57)\n",
    "    salinity = fname[:,5]\n",
    "    temperature = fname[:,2]\n",
    "    CTDdata.append(data_class(fname,salinity,temperature))"
   ]
  },
  {
   "cell_type": "code",
   "execution_count": 20,
   "metadata": {
    "collapsed": false
   },
   "outputs": [
    {
     "data": {
      "text/plain": [
       "35.828874999999996"
      ]
     },
     "execution_count": 20,
     "metadata": {},
     "output_type": "execute_result"
    }
   ],
   "source": [
    "CTDdata[-1].salt_mean()"
   ]
  },
  {
   "cell_type": "code",
   "execution_count": 21,
   "metadata": {
    "collapsed": false,
    "scrolled": true
   },
   "outputs": [
    {
     "data": {
      "text/plain": [
       "[array([ 21.2128,  21.2149,  21.2177,  21.219 ,  21.2165,  21.2331,\n",
       "         21.3468,  21.4867,  21.526 ,  21.5914,  21.6244,  21.6219,\n",
       "         21.6295,  21.6204,  21.6003,  21.5912,  21.4888,  21.3504,\n",
       "         21.2779,  21.343 ,  21.4117,  21.4415,  21.441 ,  21.3959,\n",
       "         21.3208,  21.2352,  21.1793,  21.1591,  21.1479,  21.1501,\n",
       "         21.1435,  21.1413,  21.1385,  21.1377,  21.1369])]"
      ]
     },
     "execution_count": 21,
     "metadata": {},
     "output_type": "execute_result"
    }
   ],
   "source": [
    "CTDdata[2].temperature"
   ]
  },
  {
   "cell_type": "markdown",
   "metadata": {},
   "source": [
    "### 18. (Grad) Running mean\n",
    "\n",
    "Write a function that computes averages using a sliding window over a vector; that is, it should take in a vector and for every element in the vector, compute the average of that point with the N points on either side of the element. N should also be an input parameter, and the function should return the original vector if N=0. The returned vector should be the same size as the input vector.\n",
    "\n",
    "Do not use the `pandas` package or the function `convolve`; instead, use a loop. Use the following API for your function:\n",
    "\n",
    "    Return the running average of a vector, with averaging window of size N.\n",
    "    \n",
    "    Inputs:\n",
    "        vec: Input vector\n",
    "        N (int): Averaging window size, or number of elements to include in mean on either side of each element.\n",
    "    \n",
    "    Outputs:\n",
    "        out: Vector of running-averaged values; same size as vec\n"
   ]
  },
  {
   "cell_type": "code",
   "execution_count": 22,
   "metadata": {
    "collapsed": false,
    "scrolled": false
   },
   "outputs": [
    {
     "name": "stdout",
     "output_type": "stream",
     "text": [
      "[  0.5   1.5   2.5   3.5   4.5   5.5   6.5   7.5   8.5   9.5  10.5  11.5\n",
      "  12.5  13.5  14.5  15.5  16.5  17.5  18.5  19.5  20.5  21.5  22.5  23.5\n",
      "  24.5  25.5  26.5  27.5  28.5  29.5  30.5  31.5  32.5  33.5  34.5  35.5\n",
      "  36.5  37.5  38.5  39.5  40.5  41.5  42.5  43.5  44.5  45.5  46.5  47.5\n",
      "  48.5  49.5  50.5  51.5  52.5  53.5  54.5  55.5  56.5  57.5  58.5  59.5\n",
      "  60.5  61.5  62.5  63.5  64.5  65.5  66.5  67.5  68.5  69.5  70.5  71.5\n",
      "  72.5  73.5  74.5  75.5  76.5  77.5  78.5  79.5  80.5  81.5  82.5  83.5\n",
      "  84.5  85.5  86.5  87.5  88.5  89.5  90.5  91.5  92.5  93.5  94.5  95.5\n",
      "  96.5  97.5  98.5]\n",
      "[ 0  1  2  3  4  5  6  7  8  9 10 11 12 13 14 15 16 17 18 19 20 21 22 23 24\n",
      " 25 26 27 28 29 30 31 32 33 34 35 36 37 38 39 40 41 42 43 44 45 46 47 48 49\n",
      " 50 51 52 53 54 55 56 57 58 59 60 61 62 63 64 65 66 67 68 69 70 71 72 73 74\n",
      " 75 76 77 78 79 80 81 82 83 84 85 86 87 88 89 90 91 92 93 94 95 96 97 98 99]\n"
     ]
    }
   ],
   "source": [
    "x = np.arange(100) # Create a vector to test the function.\n",
    "\n",
    "def RunningMean(x, N):\n",
    "    '''Return the running average of a vector, with averaging window of size N.\n",
    "\n",
    "Inputs:\n",
    "    vec: Input vector\n",
    "    N (int): Averaging window size, or number of elements to include in mean on either side of each element.\n",
    "\n",
    "Outputs:\n",
    "    out: Vector of running-averaged values; same size as vec'''\n",
    "    if N == 0:\n",
    "        return x\n",
    "    else:\n",
    "        cumsum = np.cumsum(np.insert(x, 0, 0)) #cumsum is used to calculate cumulative sum\n",
    "        return (cumsum[N:] - cumsum[:-N]) / N\n",
    "\n",
    "print (RunningMean(x,2)) # Test the function using the random vector \n",
    "print (RunningMean(x,0)) # Test the function using the random vector x, should return same size as the original vector "
   ]
  },
  {
   "cell_type": "code",
   "execution_count": null,
   "metadata": {
    "collapsed": true
   },
   "outputs": [],
   "source": []
  }
 ],
 "metadata": {
  "kernelspec": {
   "display_name": "Python 3",
   "language": "python",
   "name": "python3"
  },
  "language_info": {
   "codemirror_mode": {
    "name": "ipython",
    "version": 3
   },
   "file_extension": ".py",
   "mimetype": "text/x-python",
   "name": "python",
   "nbconvert_exporter": "python",
   "pygments_lexer": "ipython3",
   "version": "3.5.1"
  }
 },
 "nbformat": 4,
 "nbformat_minor": 0
}
